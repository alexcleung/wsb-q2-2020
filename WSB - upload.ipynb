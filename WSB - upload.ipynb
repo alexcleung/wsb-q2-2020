{
 "cells": [
  {
   "cell_type": "markdown",
   "metadata": {},
   "source": [
    "### Preliminaries"
   ]
  },
  {
   "cell_type": "code",
   "execution_count": 115,
   "metadata": {},
   "outputs": [],
   "source": [
    "import praw\n",
    "import pandas as pd\n",
    "from get_all_tickers import get_tickers as gt\n",
    "from math import log\n",
    "from datetime import datetime\n",
    "from datetime import timedelta\n",
    "from yahoo_earnings_calendar import YahooEarningsCalendar\n",
    "import dateutil.parser\n",
    "import yfinance as yf\n",
    "from pandas.tseries.offsets import CustomBusinessDay\n",
    "import matplotlib.pyplot as plt\n",
    "import plotly.express as px\n",
    "import heapq\n",
    "from scipy import stats"
   ]
  },
  {
   "cell_type": "code",
   "execution_count": null,
   "metadata": {},
   "outputs": [],
   "source": [
    "### Credentials - KEEP SECRET!\n",
    "client_id, client_secret, user_agent = ('XXXXXXXXXXXXXXXX', 'XXXXXXXXXXXXXXXX', 'XXXXXXXXXXXXXXXX')"
   ]
  },
  {
   "cell_type": "code",
   "execution_count": null,
   "metadata": {},
   "outputs": [],
   "source": [
    "# Access Reddit and WSB\n",
    "reddit = praw.Reddit(client_id=client_id, client_secret=client_secret, user_agent=user_agent)\n",
    "wsb = reddit.subreddit(\"wallstreetbets\")"
   ]
  },
  {
   "cell_type": "markdown",
   "metadata": {},
   "source": [
    "### Collecting Comments"
   ]
  },
  {
   "cell_type": "code",
   "execution_count": null,
   "metadata": {},
   "outputs": [],
   "source": [
    "# get earnings threads\n",
    "earnings_thread_ids = ['iiqpiz', 'imzuci', 'i1rkto', 'ia6lcr', 'i5xmeg', \n",
    "                    'iefzz8', 'hpah3l', 'hl8ug8', 'htg9xp', 'hxmlgh']\n",
    "\n",
    "comments = []\n",
    "\n",
    "for thread_id in earnings_thread_ids:\n",
    "    thread = reddit.submission(id=thread_id)\n",
    "    \n",
    "    thread.comments.replace_more(limit=None) # same as the \"load more comments\" feature on Reddit\n",
    "    for top_level_comment in thread.comments:\n",
    "        comments.append((top_level_comment.body, top_level_comment.score))"
   ]
  },
  {
   "cell_type": "code",
   "execution_count": null,
   "metadata": {},
   "outputs": [],
   "source": [
    "# convert to pandas\n",
    "comments = pd.DataFrame(comments, columns=['text', 'score'])"
   ]
  },
  {
   "cell_type": "code",
   "execution_count": null,
   "metadata": {},
   "outputs": [],
   "source": [
    "# save to csv\n",
    "comments.to_csv('comments.csv', index=False)"
   ]
  },
  {
   "cell_type": "markdown",
   "metadata": {},
   "source": [
    "### Processing Comments"
   ]
  },
  {
   "cell_type": "markdown",
   "metadata": {},
   "source": [
    "Manually add tickers and sentiment..."
   ]
  },
  {
   "cell_type": "markdown",
   "metadata": {},
   "source": [
    "Read it back in and clean it up a bit more"
   ]
  },
  {
   "cell_type": "code",
   "execution_count": 7,
   "metadata": {},
   "outputs": [],
   "source": [
    "# read from csv (now with tickers and sentiment)\n",
    "cleaned_comments = pd.read_csv('comments_manual.csv')"
   ]
  },
  {
   "cell_type": "code",
   "execution_count": 8,
   "metadata": {},
   "outputs": [],
   "source": [
    "def ticker_list(tickers):\n",
    "    lst = tickers.split(', ')\n",
    "    return lst"
   ]
  },
  {
   "cell_type": "code",
   "execution_count": 9,
   "metadata": {},
   "outputs": [],
   "source": [
    "cleaned_comments['tickers'] = cleaned_comments['tickers'].apply(ticker_list)"
   ]
  },
  {
   "cell_type": "code",
   "execution_count": 10,
   "metadata": {},
   "outputs": [],
   "source": [
    "# log_upvotes is log of upvotes; sentimement_score also indicates direction (negative for bearish, positive for bullish)\n",
    "\n",
    "cleaned_comments['log_upvotes'] = cleaned_comments['score'].apply(lambda x: log(x+1))\n",
    "cleaned_comments['sentiment_score'] = cleaned_comments['log_upvotes']*cleaned_comments['sentiment']"
   ]
  },
  {
   "cell_type": "code",
   "execution_count": 11,
   "metadata": {
    "scrolled": true
   },
   "outputs": [
    {
     "data": {
      "text/html": [
       "<div>\n",
       "<style scoped>\n",
       "    .dataframe tbody tr th:only-of-type {\n",
       "        vertical-align: middle;\n",
       "    }\n",
       "\n",
       "    .dataframe tbody tr th {\n",
       "        vertical-align: top;\n",
       "    }\n",
       "\n",
       "    .dataframe thead th {\n",
       "        text-align: right;\n",
       "    }\n",
       "</style>\n",
       "<table border=\"1\" class=\"dataframe\">\n",
       "  <thead>\n",
       "    <tr style=\"text-align: right;\">\n",
       "      <th></th>\n",
       "      <th>text</th>\n",
       "      <th>score</th>\n",
       "      <th>tickers</th>\n",
       "      <th>sentiment</th>\n",
       "      <th>log_upvotes</th>\n",
       "      <th>sentiment_score</th>\n",
       "    </tr>\n",
       "  </thead>\n",
       "  <tbody>\n",
       "    <tr>\n",
       "      <th>0</th>\n",
       "      <td>Smith &amp; Wesson Calls 🤔 gun sales must be high ...</td>\n",
       "      <td>28</td>\n",
       "      <td>[SWBI]</td>\n",
       "      <td>1</td>\n",
       "      <td>3.367296</td>\n",
       "      <td>3.367296</td>\n",
       "    </tr>\n",
       "    <tr>\n",
       "      <th>1</th>\n",
       "      <td>Docusign might be worthy</td>\n",
       "      <td>8</td>\n",
       "      <td>[DOCU]</td>\n",
       "      <td>1</td>\n",
       "      <td>2.197225</td>\n",
       "      <td>2.197225</td>\n",
       "    </tr>\n",
       "    <tr>\n",
       "      <th>2</th>\n",
       "      <td>Micheals might be amazing tbh</td>\n",
       "      <td>8</td>\n",
       "      <td>[MIK]</td>\n",
       "      <td>1</td>\n",
       "      <td>2.197225</td>\n",
       "      <td>2.197225</td>\n",
       "    </tr>\n",
       "    <tr>\n",
       "      <th>3</th>\n",
       "      <td>Anyone else in JAMF calls leading up to earnin...</td>\n",
       "      <td>8</td>\n",
       "      <td>[JAMF]</td>\n",
       "      <td>1</td>\n",
       "      <td>2.197225</td>\n",
       "      <td>2.197225</td>\n",
       "    </tr>\n",
       "    <tr>\n",
       "      <th>4</th>\n",
       "      <td>I imagine jamf could be great with companys al...</td>\n",
       "      <td>4</td>\n",
       "      <td>[JAMF]</td>\n",
       "      <td>1</td>\n",
       "      <td>1.609438</td>\n",
       "      <td>1.609438</td>\n",
       "    </tr>\n",
       "    <tr>\n",
       "      <th>...</th>\n",
       "      <td>...</td>\n",
       "      <td>...</td>\n",
       "      <td>...</td>\n",
       "      <td>...</td>\n",
       "      <td>...</td>\n",
       "      <td>...</td>\n",
       "    </tr>\n",
       "    <tr>\n",
       "      <th>400</th>\n",
       "      <td>Aphria, McDonald's and Amazon.</td>\n",
       "      <td>1</td>\n",
       "      <td>[APHA, MCD, AMZN]</td>\n",
       "      <td>1</td>\n",
       "      <td>0.693147</td>\n",
       "      <td>0.693147</td>\n",
       "    </tr>\n",
       "    <tr>\n",
       "      <th>401</th>\n",
       "      <td>UPS will absolutely destroy earnings.</td>\n",
       "      <td>1</td>\n",
       "      <td>[UPS]</td>\n",
       "      <td>1</td>\n",
       "      <td>0.693147</td>\n",
       "      <td>0.693147</td>\n",
       "    </tr>\n",
       "    <tr>\n",
       "      <th>402</th>\n",
       "      <td>Im so excited about APHA loaded a lot of stock...</td>\n",
       "      <td>1</td>\n",
       "      <td>[APHA]</td>\n",
       "      <td>1</td>\n",
       "      <td>0.693147</td>\n",
       "      <td>0.693147</td>\n",
       "    </tr>\n",
       "    <tr>\n",
       "      <th>403</th>\n",
       "      <td>APPL open green tomorrow?</td>\n",
       "      <td>1</td>\n",
       "      <td>[AAPL]</td>\n",
       "      <td>1</td>\n",
       "      <td>0.693147</td>\n",
       "      <td>0.693147</td>\n",
       "    </tr>\n",
       "    <tr>\n",
       "      <th>404</th>\n",
       "      <td>I really wanna buy ebay calls</td>\n",
       "      <td>1</td>\n",
       "      <td>[EBAY]</td>\n",
       "      <td>1</td>\n",
       "      <td>0.693147</td>\n",
       "      <td>0.693147</td>\n",
       "    </tr>\n",
       "  </tbody>\n",
       "</table>\n",
       "<p>405 rows × 6 columns</p>\n",
       "</div>"
      ],
      "text/plain": [
       "                                                  text  score  \\\n",
       "0    Smith & Wesson Calls 🤔 gun sales must be high ...     28   \n",
       "1                             Docusign might be worthy      8   \n",
       "2                        Micheals might be amazing tbh      8   \n",
       "3    Anyone else in JAMF calls leading up to earnin...      8   \n",
       "4    I imagine jamf could be great with companys al...      4   \n",
       "..                                                 ...    ...   \n",
       "400                     Aphria, McDonald's and Amazon.      1   \n",
       "401              UPS will absolutely destroy earnings.      1   \n",
       "402  Im so excited about APHA loaded a lot of stock...      1   \n",
       "403                          APPL open green tomorrow?      1   \n",
       "404                      I really wanna buy ebay calls      1   \n",
       "\n",
       "               tickers  sentiment  log_upvotes  sentiment_score  \n",
       "0               [SWBI]          1     3.367296         3.367296  \n",
       "1               [DOCU]          1     2.197225         2.197225  \n",
       "2                [MIK]          1     2.197225         2.197225  \n",
       "3               [JAMF]          1     2.197225         2.197225  \n",
       "4               [JAMF]          1     1.609438         1.609438  \n",
       "..                 ...        ...          ...              ...  \n",
       "400  [APHA, MCD, AMZN]          1     0.693147         0.693147  \n",
       "401              [UPS]          1     0.693147         0.693147  \n",
       "402             [APHA]          1     0.693147         0.693147  \n",
       "403             [AAPL]          1     0.693147         0.693147  \n",
       "404             [EBAY]          1     0.693147         0.693147  \n",
       "\n",
       "[405 rows x 6 columns]"
      ]
     },
     "execution_count": 11,
     "metadata": {},
     "output_type": "execute_result"
    }
   ],
   "source": [
    "cleaned_comments"
   ]
  },
  {
   "cell_type": "code",
   "execution_count": 12,
   "metadata": {},
   "outputs": [
    {
     "data": {
      "text/plain": [
       "178"
      ]
     },
     "execution_count": 12,
     "metadata": {},
     "output_type": "execute_result"
    }
   ],
   "source": [
    "# get a set of all the tickers that have been mentioned\n",
    "all_tickers = set()\n",
    "\n",
    "for l in cleaned_comments['tickers']:\n",
    "    for t in l:\n",
    "        all_tickers.add(t)\n",
    "        \n",
    "all_tickers = list(all_tickers)\n",
    "len(all_tickers)"
   ]
  },
  {
   "cell_type": "markdown",
   "metadata": {},
   "source": [
    "but really, we want to compare this with earnings."
   ]
  },
  {
   "cell_type": "markdown",
   "metadata": {},
   "source": [
    "### Collecting Earnings data"
   ]
  },
  {
   "cell_type": "code",
   "execution_count": null,
   "metadata": {
    "scrolled": true
   },
   "outputs": [],
   "source": [
    "q2_earnings_calendar = pd.DataFrame()\n",
    "start_date = datetime(2020, 7, 5)\n",
    "end_date = datetime(2020, 9, 12)\n",
    "yec = YahooEarningsCalendar(0)\n",
    "progress = 0\n",
    "\n",
    "for ticker in all_tickers:\n",
    "    progress +=1\n",
    "    print(str(progress) + '/' + str(len(all_tickers)) + ': ' + ticker)\n",
    "    hist_earn_dates = pd.DataFrame(yec.get_earnings_of(ticker))\n",
    "    if not(hist_earn_dates.empty):\n",
    "        hist_earn_dates['startdatetime'] = hist_earn_dates['startdatetime'].apply(lambda x:datetime.fromisoformat(x[:-1]))\n",
    "        hist_earn_dates = hist_earn_dates.loc[(hist_earn_dates['startdatetime'] > start_date) &\n",
    "                                              (hist_earn_dates['startdatetime'] < end_date)]\n",
    "        q2_earnings_calendar = q2_earnings_calendar.append(hist_earn_dates)"
   ]
  },
  {
   "cell_type": "code",
   "execution_count": null,
   "metadata": {},
   "outputs": [],
   "source": [
    "# save dataframe (because downloading takes a long time)\n",
    "q2_earnings_calendar.to_csv('earnings_calendar.csv', index=False)"
   ]
  },
  {
   "cell_type": "markdown",
   "metadata": {},
   "source": [
    "A few duplicates and manual fixes... but ok"
   ]
  },
  {
   "cell_type": "code",
   "execution_count": 13,
   "metadata": {},
   "outputs": [],
   "source": [
    "# read back in\n",
    "q2_earnings_calendar = pd.read_csv('earnings_calendar_fixed.csv')"
   ]
  },
  {
   "cell_type": "code",
   "execution_count": 14,
   "metadata": {},
   "outputs": [],
   "source": [
    "q2_earnings_calendar['startdatetime'] = q2_earnings_calendar['startdatetime'].apply(lambda x:datetime.fromisoformat(x[:10]))"
   ]
  },
  {
   "cell_type": "code",
   "execution_count": 15,
   "metadata": {
    "scrolled": false
   },
   "outputs": [
    {
     "data": {
      "text/html": [
       "<div>\n",
       "<style scoped>\n",
       "    .dataframe tbody tr th:only-of-type {\n",
       "        vertical-align: middle;\n",
       "    }\n",
       "\n",
       "    .dataframe tbody tr th {\n",
       "        vertical-align: top;\n",
       "    }\n",
       "\n",
       "    .dataframe thead th {\n",
       "        text-align: right;\n",
       "    }\n",
       "</style>\n",
       "<table border=\"1\" class=\"dataframe\">\n",
       "  <thead>\n",
       "    <tr style=\"text-align: right;\">\n",
       "      <th></th>\n",
       "      <th>ticker</th>\n",
       "      <th>companyshortname</th>\n",
       "      <th>startdatetime</th>\n",
       "      <th>startdatetimetype</th>\n",
       "      <th>epsestimate</th>\n",
       "      <th>epsactual</th>\n",
       "      <th>epssurprisepct</th>\n",
       "      <th>timeZoneShortName</th>\n",
       "      <th>gmtOffsetMilliSeconds</th>\n",
       "      <th>quoteType</th>\n",
       "    </tr>\n",
       "  </thead>\n",
       "  <tbody>\n",
       "    <tr>\n",
       "      <th>0</th>\n",
       "      <td>HRB</td>\n",
       "      <td>H&amp;R Block, Inc.</td>\n",
       "      <td>2020-09-01</td>\n",
       "      <td>TNS</td>\n",
       "      <td>0.50</td>\n",
       "      <td>0.55</td>\n",
       "      <td>10.44</td>\n",
       "      <td>EDT</td>\n",
       "      <td>0</td>\n",
       "      <td>EQUITY</td>\n",
       "    </tr>\n",
       "    <tr>\n",
       "      <th>1</th>\n",
       "      <td>CLDR</td>\n",
       "      <td>Cloudera, Inc.</td>\n",
       "      <td>2020-09-02</td>\n",
       "      <td>TNS</td>\n",
       "      <td>0.07</td>\n",
       "      <td>0.10</td>\n",
       "      <td>53.85</td>\n",
       "      <td>EDT</td>\n",
       "      <td>0</td>\n",
       "      <td>EQUITY</td>\n",
       "    </tr>\n",
       "    <tr>\n",
       "      <th>2</th>\n",
       "      <td>AAPL</td>\n",
       "      <td>Apple Inc.</td>\n",
       "      <td>2020-07-30</td>\n",
       "      <td>TNS</td>\n",
       "      <td>0.51</td>\n",
       "      <td>0.65</td>\n",
       "      <td>26.22</td>\n",
       "      <td>EDT</td>\n",
       "      <td>0</td>\n",
       "      <td>EQUITY</td>\n",
       "    </tr>\n",
       "    <tr>\n",
       "      <th>3</th>\n",
       "      <td>AXP</td>\n",
       "      <td>American Express Company</td>\n",
       "      <td>2020-07-24</td>\n",
       "      <td>TNS</td>\n",
       "      <td>-0.11</td>\n",
       "      <td>0.29</td>\n",
       "      <td>354.39</td>\n",
       "      <td>EDT</td>\n",
       "      <td>0</td>\n",
       "      <td>EQUITY</td>\n",
       "    </tr>\n",
       "    <tr>\n",
       "      <th>4</th>\n",
       "      <td>ROST</td>\n",
       "      <td>Ross Stores, Inc.</td>\n",
       "      <td>2020-08-20</td>\n",
       "      <td>TNS</td>\n",
       "      <td>-0.27</td>\n",
       "      <td>0.06</td>\n",
       "      <td>122.56</td>\n",
       "      <td>EDT</td>\n",
       "      <td>0</td>\n",
       "      <td>EQUITY</td>\n",
       "    </tr>\n",
       "    <tr>\n",
       "      <th>...</th>\n",
       "      <td>...</td>\n",
       "      <td>...</td>\n",
       "      <td>...</td>\n",
       "      <td>...</td>\n",
       "      <td>...</td>\n",
       "      <td>...</td>\n",
       "      <td>...</td>\n",
       "      <td>...</td>\n",
       "      <td>...</td>\n",
       "      <td>...</td>\n",
       "    </tr>\n",
       "    <tr>\n",
       "      <th>173</th>\n",
       "      <td>MRO</td>\n",
       "      <td>Marathon Oil Corporation</td>\n",
       "      <td>2020-08-05</td>\n",
       "      <td>TNS</td>\n",
       "      <td>-0.63</td>\n",
       "      <td>-0.60</td>\n",
       "      <td>5.21</td>\n",
       "      <td>EDT</td>\n",
       "      <td>0</td>\n",
       "      <td>EQUITY</td>\n",
       "    </tr>\n",
       "    <tr>\n",
       "      <th>174</th>\n",
       "      <td>GME</td>\n",
       "      <td>GameStop Corp.</td>\n",
       "      <td>2020-09-09</td>\n",
       "      <td>TNS</td>\n",
       "      <td>-1.13</td>\n",
       "      <td>-1.40</td>\n",
       "      <td>-23.35</td>\n",
       "      <td>EDT</td>\n",
       "      <td>0</td>\n",
       "      <td>EQUITY</td>\n",
       "    </tr>\n",
       "    <tr>\n",
       "      <th>175</th>\n",
       "      <td>DELL</td>\n",
       "      <td>Dell Technologies Inc.</td>\n",
       "      <td>2020-08-27</td>\n",
       "      <td>TNS</td>\n",
       "      <td>1.40</td>\n",
       "      <td>1.92</td>\n",
       "      <td>37.63</td>\n",
       "      <td>EDT</td>\n",
       "      <td>0</td>\n",
       "      <td>EQUITY</td>\n",
       "    </tr>\n",
       "    <tr>\n",
       "      <th>176</th>\n",
       "      <td>SNAP</td>\n",
       "      <td>Snap Inc.</td>\n",
       "      <td>2020-07-21</td>\n",
       "      <td>TNS</td>\n",
       "      <td>-0.09</td>\n",
       "      <td>-0.09</td>\n",
       "      <td>1.10</td>\n",
       "      <td>EDT</td>\n",
       "      <td>0</td>\n",
       "      <td>EQUITY</td>\n",
       "    </tr>\n",
       "    <tr>\n",
       "      <th>177</th>\n",
       "      <td>AMAT</td>\n",
       "      <td>Applied Materials, Inc.</td>\n",
       "      <td>2020-08-13</td>\n",
       "      <td>TNS</td>\n",
       "      <td>0.95</td>\n",
       "      <td>1.06</td>\n",
       "      <td>11.23</td>\n",
       "      <td>EDT</td>\n",
       "      <td>0</td>\n",
       "      <td>EQUITY</td>\n",
       "    </tr>\n",
       "  </tbody>\n",
       "</table>\n",
       "<p>178 rows × 10 columns</p>\n",
       "</div>"
      ],
      "text/plain": [
       "    ticker          companyshortname startdatetime startdatetimetype  \\\n",
       "0      HRB           H&R Block, Inc.    2020-09-01               TNS   \n",
       "1     CLDR            Cloudera, Inc.    2020-09-02               TNS   \n",
       "2     AAPL                Apple Inc.    2020-07-30               TNS   \n",
       "3      AXP  American Express Company    2020-07-24               TNS   \n",
       "4     ROST         Ross Stores, Inc.    2020-08-20               TNS   \n",
       "..     ...                       ...           ...               ...   \n",
       "173    MRO  Marathon Oil Corporation    2020-08-05               TNS   \n",
       "174    GME            GameStop Corp.    2020-09-09               TNS   \n",
       "175   DELL    Dell Technologies Inc.    2020-08-27               TNS   \n",
       "176   SNAP                 Snap Inc.    2020-07-21               TNS   \n",
       "177   AMAT   Applied Materials, Inc.    2020-08-13               TNS   \n",
       "\n",
       "     epsestimate  epsactual  epssurprisepct timeZoneShortName  \\\n",
       "0           0.50       0.55           10.44               EDT   \n",
       "1           0.07       0.10           53.85               EDT   \n",
       "2           0.51       0.65           26.22               EDT   \n",
       "3          -0.11       0.29          354.39               EDT   \n",
       "4          -0.27       0.06          122.56               EDT   \n",
       "..           ...        ...             ...               ...   \n",
       "173        -0.63      -0.60            5.21               EDT   \n",
       "174        -1.13      -1.40          -23.35               EDT   \n",
       "175         1.40       1.92           37.63               EDT   \n",
       "176        -0.09      -0.09            1.10               EDT   \n",
       "177         0.95       1.06           11.23               EDT   \n",
       "\n",
       "     gmtOffsetMilliSeconds quoteType  \n",
       "0                        0    EQUITY  \n",
       "1                        0    EQUITY  \n",
       "2                        0    EQUITY  \n",
       "3                        0    EQUITY  \n",
       "4                        0    EQUITY  \n",
       "..                     ...       ...  \n",
       "173                      0    EQUITY  \n",
       "174                      0    EQUITY  \n",
       "175                      0    EQUITY  \n",
       "176                      0    EQUITY  \n",
       "177                      0    EQUITY  \n",
       "\n",
       "[178 rows x 10 columns]"
      ]
     },
     "execution_count": 15,
     "metadata": {},
     "output_type": "execute_result"
    }
   ],
   "source": [
    "q2_earnings_calendar"
   ]
  },
  {
   "cell_type": "markdown",
   "metadata": {},
   "source": [
    "Now that we have the dates... find the movement after earnings"
   ]
  },
  {
   "cell_type": "code",
   "execution_count": 16,
   "metadata": {
    "scrolled": true
   },
   "outputs": [
    {
     "name": "stdout",
     "output_type": "stream",
     "text": [
      "[*********************100%***********************]  178 of 178 completed\n"
     ]
    }
   ],
   "source": [
    "historical_prices = yf.download(all_tickers, start='2020-07-03', end ='2020-09-14')['Adj Close']"
   ]
  },
  {
   "cell_type": "code",
   "execution_count": 17,
   "metadata": {},
   "outputs": [],
   "source": [
    "# save to csv (so don't have to download every time)\n",
    "historical_prices.to_csv('historical_prices.csv', index=True)"
   ]
  },
  {
   "cell_type": "code",
   "execution_count": 18,
   "metadata": {
    "scrolled": false
   },
   "outputs": [
    {
     "data": {
      "text/html": [
       "<div>\n",
       "<style scoped>\n",
       "    .dataframe tbody tr th:only-of-type {\n",
       "        vertical-align: middle;\n",
       "    }\n",
       "\n",
       "    .dataframe tbody tr th {\n",
       "        vertical-align: top;\n",
       "    }\n",
       "\n",
       "    .dataframe thead th {\n",
       "        text-align: right;\n",
       "    }\n",
       "</style>\n",
       "<table border=\"1\" class=\"dataframe\">\n",
       "  <thead>\n",
       "    <tr style=\"text-align: right;\">\n",
       "      <th></th>\n",
       "      <th>AAL</th>\n",
       "      <th>AAPL</th>\n",
       "      <th>ABBV</th>\n",
       "      <th>ABT</th>\n",
       "      <th>ALGN</th>\n",
       "      <th>AMAT</th>\n",
       "      <th>AMD</th>\n",
       "      <th>AMZN</th>\n",
       "      <th>APHA</th>\n",
       "      <th>ATVI</th>\n",
       "      <th>...</th>\n",
       "      <th>WIX</th>\n",
       "      <th>WMT</th>\n",
       "      <th>WORK</th>\n",
       "      <th>WYNN</th>\n",
       "      <th>ZG</th>\n",
       "      <th>ZM</th>\n",
       "      <th>ZNGA</th>\n",
       "      <th>ZS</th>\n",
       "      <th>ZTS</th>\n",
       "      <th>ZUMZ</th>\n",
       "    </tr>\n",
       "    <tr>\n",
       "      <th>Date</th>\n",
       "      <th></th>\n",
       "      <th></th>\n",
       "      <th></th>\n",
       "      <th></th>\n",
       "      <th></th>\n",
       "      <th></th>\n",
       "      <th></th>\n",
       "      <th></th>\n",
       "      <th></th>\n",
       "      <th></th>\n",
       "      <th></th>\n",
       "      <th></th>\n",
       "      <th></th>\n",
       "      <th></th>\n",
       "      <th></th>\n",
       "      <th></th>\n",
       "      <th></th>\n",
       "      <th></th>\n",
       "      <th></th>\n",
       "      <th></th>\n",
       "      <th></th>\n",
       "    </tr>\n",
       "  </thead>\n",
       "  <tbody>\n",
       "    <tr>\n",
       "      <th>2020-07-06</th>\n",
       "      <td>12.80</td>\n",
       "      <td>93.294289</td>\n",
       "      <td>97.816139</td>\n",
       "      <td>92.610466</td>\n",
       "      <td>282.440002</td>\n",
       "      <td>63.249836</td>\n",
       "      <td>53.400002</td>\n",
       "      <td>3057.040039</td>\n",
       "      <td>4.380</td>\n",
       "      <td>78.669998</td>\n",
       "      <td>...</td>\n",
       "      <td>276.559998</td>\n",
       "      <td>118.403229</td>\n",
       "      <td>31.120001</td>\n",
       "      <td>76.699997</td>\n",
       "      <td>60.980000</td>\n",
       "      <td>261.000000</td>\n",
       "      <td>9.72</td>\n",
       "      <td>114.779999</td>\n",
       "      <td>138.406052</td>\n",
       "      <td>27.959999</td>\n",
       "    </tr>\n",
       "    <tr>\n",
       "      <th>2020-07-07</th>\n",
       "      <td>11.91</td>\n",
       "      <td>93.004814</td>\n",
       "      <td>98.152031</td>\n",
       "      <td>92.102440</td>\n",
       "      <td>274.709991</td>\n",
       "      <td>61.974075</td>\n",
       "      <td>52.930000</td>\n",
       "      <td>3000.120117</td>\n",
       "      <td>4.330</td>\n",
       "      <td>78.500000</td>\n",
       "      <td>...</td>\n",
       "      <td>282.809998</td>\n",
       "      <td>126.430222</td>\n",
       "      <td>31.480000</td>\n",
       "      <td>73.370003</td>\n",
       "      <td>62.029999</td>\n",
       "      <td>262.100006</td>\n",
       "      <td>9.89</td>\n",
       "      <td>113.839996</td>\n",
       "      <td>138.246277</td>\n",
       "      <td>26.570000</td>\n",
       "    </tr>\n",
       "    <tr>\n",
       "      <th>2020-07-08</th>\n",
       "      <td>11.99</td>\n",
       "      <td>95.170906</td>\n",
       "      <td>98.082878</td>\n",
       "      <td>92.221977</td>\n",
       "      <td>278.390015</td>\n",
       "      <td>62.562122</td>\n",
       "      <td>53.430000</td>\n",
       "      <td>3081.110107</td>\n",
       "      <td>4.310</td>\n",
       "      <td>79.279999</td>\n",
       "      <td>...</td>\n",
       "      <td>292.119995</td>\n",
       "      <td>123.930504</td>\n",
       "      <td>34.240002</td>\n",
       "      <td>74.180000</td>\n",
       "      <td>63.200001</td>\n",
       "      <td>266.320007</td>\n",
       "      <td>10.25</td>\n",
       "      <td>120.849998</td>\n",
       "      <td>138.615753</td>\n",
       "      <td>26.690001</td>\n",
       "    </tr>\n",
       "    <tr>\n",
       "      <th>2020-07-09</th>\n",
       "      <td>11.18</td>\n",
       "      <td>95.580170</td>\n",
       "      <td>96.759041</td>\n",
       "      <td>93.307755</td>\n",
       "      <td>274.079987</td>\n",
       "      <td>63.279739</td>\n",
       "      <td>57.259998</td>\n",
       "      <td>3182.629883</td>\n",
       "      <td>4.190</td>\n",
       "      <td>80.639999</td>\n",
       "      <td>...</td>\n",
       "      <td>296.709991</td>\n",
       "      <td>127.226952</td>\n",
       "      <td>34.020000</td>\n",
       "      <td>71.129997</td>\n",
       "      <td>62.419998</td>\n",
       "      <td>269.519989</td>\n",
       "      <td>10.44</td>\n",
       "      <td>127.410004</td>\n",
       "      <td>137.487320</td>\n",
       "      <td>25.379999</td>\n",
       "    </tr>\n",
       "    <tr>\n",
       "      <th>2020-07-10</th>\n",
       "      <td>11.94</td>\n",
       "      <td>95.747368</td>\n",
       "      <td>95.662422</td>\n",
       "      <td>92.680199</td>\n",
       "      <td>273.290009</td>\n",
       "      <td>62.382717</td>\n",
       "      <td>55.880001</td>\n",
       "      <td>3200.000000</td>\n",
       "      <td>4.300</td>\n",
       "      <td>81.269997</td>\n",
       "      <td>...</td>\n",
       "      <td>294.230011</td>\n",
       "      <td>130.144943</td>\n",
       "      <td>33.840000</td>\n",
       "      <td>74.129997</td>\n",
       "      <td>61.750000</td>\n",
       "      <td>275.869995</td>\n",
       "      <td>10.38</td>\n",
       "      <td>125.489998</td>\n",
       "      <td>136.908142</td>\n",
       "      <td>25.750000</td>\n",
       "    </tr>\n",
       "    <tr>\n",
       "      <th>2020-07-13</th>\n",
       "      <td>11.63</td>\n",
       "      <td>95.305664</td>\n",
       "      <td>96.680000</td>\n",
       "      <td>92.729996</td>\n",
       "      <td>270.239990</td>\n",
       "      <td>61.306293</td>\n",
       "      <td>53.590000</td>\n",
       "      <td>3104.000000</td>\n",
       "      <td>4.680</td>\n",
       "      <td>77.949997</td>\n",
       "      <td>...</td>\n",
       "      <td>281.000000</td>\n",
       "      <td>128.989716</td>\n",
       "      <td>33.419998</td>\n",
       "      <td>81.269997</td>\n",
       "      <td>58.220001</td>\n",
       "      <td>260.299988</td>\n",
       "      <td>9.75</td>\n",
       "      <td>119.910004</td>\n",
       "      <td>138.116440</td>\n",
       "      <td>25.340000</td>\n",
       "    </tr>\n",
       "    <tr>\n",
       "      <th>2020-07-14</th>\n",
       "      <td>11.57</td>\n",
       "      <td>96.882820</td>\n",
       "      <td>98.870003</td>\n",
       "      <td>94.820000</td>\n",
       "      <td>299.619995</td>\n",
       "      <td>62.332886</td>\n",
       "      <td>54.720001</td>\n",
       "      <td>3084.000000</td>\n",
       "      <td>4.710</td>\n",
       "      <td>79.769997</td>\n",
       "      <td>...</td>\n",
       "      <td>279.820007</td>\n",
       "      <td>131.469513</td>\n",
       "      <td>32.369999</td>\n",
       "      <td>79.300003</td>\n",
       "      <td>57.750000</td>\n",
       "      <td>260.010010</td>\n",
       "      <td>9.82</td>\n",
       "      <td>122.430000</td>\n",
       "      <td>140.203522</td>\n",
       "      <td>25.549999</td>\n",
       "    </tr>\n",
       "    <tr>\n",
       "      <th>2020-07-15</th>\n",
       "      <td>13.44</td>\n",
       "      <td>97.549118</td>\n",
       "      <td>100.480003</td>\n",
       "      <td>96.730003</td>\n",
       "      <td>314.299988</td>\n",
       "      <td>61.894337</td>\n",
       "      <td>55.340000</td>\n",
       "      <td>3008.870117</td>\n",
       "      <td>5.070</td>\n",
       "      <td>79.150002</td>\n",
       "      <td>...</td>\n",
       "      <td>273.679993</td>\n",
       "      <td>131.459549</td>\n",
       "      <td>32.119999</td>\n",
       "      <td>86.739998</td>\n",
       "      <td>58.970001</td>\n",
       "      <td>256.220001</td>\n",
       "      <td>9.47</td>\n",
       "      <td>119.839996</td>\n",
       "      <td>142.720001</td>\n",
       "      <td>26.290001</td>\n",
       "    </tr>\n",
       "    <tr>\n",
       "      <th>2020-07-16</th>\n",
       "      <td>12.45</td>\n",
       "      <td>96.348778</td>\n",
       "      <td>99.919998</td>\n",
       "      <td>96.400002</td>\n",
       "      <td>309.000000</td>\n",
       "      <td>62.133545</td>\n",
       "      <td>54.919998</td>\n",
       "      <td>2999.899902</td>\n",
       "      <td>5.070</td>\n",
       "      <td>79.370003</td>\n",
       "      <td>...</td>\n",
       "      <td>271.420013</td>\n",
       "      <td>131.658737</td>\n",
       "      <td>31.610001</td>\n",
       "      <td>84.599998</td>\n",
       "      <td>61.740002</td>\n",
       "      <td>248.539993</td>\n",
       "      <td>9.43</td>\n",
       "      <td>117.150002</td>\n",
       "      <td>142.940002</td>\n",
       "      <td>26.309999</td>\n",
       "    </tr>\n",
       "    <tr>\n",
       "      <th>2020-07-17</th>\n",
       "      <td>11.91</td>\n",
       "      <td>96.154129</td>\n",
       "      <td>100.830002</td>\n",
       "      <td>99.250000</td>\n",
       "      <td>322.299988</td>\n",
       "      <td>62.093678</td>\n",
       "      <td>55.040001</td>\n",
       "      <td>2961.969971</td>\n",
       "      <td>5.100</td>\n",
       "      <td>78.639999</td>\n",
       "      <td>...</td>\n",
       "      <td>270.299988</td>\n",
       "      <td>131.200623</td>\n",
       "      <td>32.110001</td>\n",
       "      <td>82.760002</td>\n",
       "      <td>64.050003</td>\n",
       "      <td>246.539993</td>\n",
       "      <td>9.45</td>\n",
       "      <td>120.309998</td>\n",
       "      <td>144.660004</td>\n",
       "      <td>25.940001</td>\n",
       "    </tr>\n",
       "    <tr>\n",
       "      <th>2020-07-20</th>\n",
       "      <td>11.47</td>\n",
       "      <td>98.180481</td>\n",
       "      <td>99.540001</td>\n",
       "      <td>99.080002</td>\n",
       "      <td>312.970001</td>\n",
       "      <td>63.518940</td>\n",
       "      <td>57.459999</td>\n",
       "      <td>3196.840088</td>\n",
       "      <td>5.180</td>\n",
       "      <td>81.160004</td>\n",
       "      <td>...</td>\n",
       "      <td>282.179993</td>\n",
       "      <td>130.931717</td>\n",
       "      <td>33.290001</td>\n",
       "      <td>79.970001</td>\n",
       "      <td>65.970001</td>\n",
       "      <td>268.579987</td>\n",
       "      <td>9.83</td>\n",
       "      <td>127.599998</td>\n",
       "      <td>145.970001</td>\n",
       "      <td>25.030001</td>\n",
       "    </tr>\n",
       "    <tr>\n",
       "      <th>2020-07-21</th>\n",
       "      <td>11.47</td>\n",
       "      <td>96.825424</td>\n",
       "      <td>97.400002</td>\n",
       "      <td>98.190002</td>\n",
       "      <td>315.329987</td>\n",
       "      <td>63.598679</td>\n",
       "      <td>57.000000</td>\n",
       "      <td>3138.290039</td>\n",
       "      <td>5.230</td>\n",
       "      <td>80.760002</td>\n",
       "      <td>...</td>\n",
       "      <td>275.690002</td>\n",
       "      <td>131.788208</td>\n",
       "      <td>32.610001</td>\n",
       "      <td>79.190002</td>\n",
       "      <td>64.559998</td>\n",
       "      <td>260.440002</td>\n",
       "      <td>9.74</td>\n",
       "      <td>125.470001</td>\n",
       "      <td>145.009995</td>\n",
       "      <td>25.840000</td>\n",
       "    </tr>\n",
       "    <tr>\n",
       "      <th>2020-07-22</th>\n",
       "      <td>11.36</td>\n",
       "      <td>97.097435</td>\n",
       "      <td>97.699997</td>\n",
       "      <td>100.190002</td>\n",
       "      <td>317.970001</td>\n",
       "      <td>64.007324</td>\n",
       "      <td>61.790001</td>\n",
       "      <td>3099.909912</td>\n",
       "      <td>5.150</td>\n",
       "      <td>81.099998</td>\n",
       "      <td>...</td>\n",
       "      <td>273.549988</td>\n",
       "      <td>132.116852</td>\n",
       "      <td>30.940001</td>\n",
       "      <td>76.099998</td>\n",
       "      <td>66.980003</td>\n",
       "      <td>261.179993</td>\n",
       "      <td>9.81</td>\n",
       "      <td>125.110001</td>\n",
       "      <td>145.110001</td>\n",
       "      <td>26.049999</td>\n",
       "    </tr>\n",
       "    <tr>\n",
       "      <th>2020-07-23</th>\n",
       "      <td>11.77</td>\n",
       "      <td>92.677902</td>\n",
       "      <td>98.029999</td>\n",
       "      <td>100.820000</td>\n",
       "      <td>299.049988</td>\n",
       "      <td>63.419273</td>\n",
       "      <td>59.570000</td>\n",
       "      <td>2986.550049</td>\n",
       "      <td>5.130</td>\n",
       "      <td>79.610001</td>\n",
       "      <td>...</td>\n",
       "      <td>269.750000</td>\n",
       "      <td>131.101028</td>\n",
       "      <td>30.350000</td>\n",
       "      <td>73.900002</td>\n",
       "      <td>65.330002</td>\n",
       "      <td>251.500000</td>\n",
       "      <td>9.52</td>\n",
       "      <td>123.459999</td>\n",
       "      <td>144.070007</td>\n",
       "      <td>27.139999</td>\n",
       "    </tr>\n",
       "    <tr>\n",
       "      <th>2020-07-24</th>\n",
       "      <td>11.39</td>\n",
       "      <td>92.448311</td>\n",
       "      <td>97.110001</td>\n",
       "      <td>98.949997</td>\n",
       "      <td>298.140015</td>\n",
       "      <td>60.419239</td>\n",
       "      <td>69.400002</td>\n",
       "      <td>3008.909912</td>\n",
       "      <td>5.110</td>\n",
       "      <td>79.989998</td>\n",
       "      <td>...</td>\n",
       "      <td>267.470001</td>\n",
       "      <td>130.702667</td>\n",
       "      <td>29.719999</td>\n",
       "      <td>73.410004</td>\n",
       "      <td>65.430000</td>\n",
       "      <td>246.559998</td>\n",
       "      <td>9.55</td>\n",
       "      <td>121.720001</td>\n",
       "      <td>144.220001</td>\n",
       "      <td>25.650000</td>\n",
       "    </tr>\n",
       "    <tr>\n",
       "      <th>2020-07-27</th>\n",
       "      <td>11.39</td>\n",
       "      <td>94.639359</td>\n",
       "      <td>97.160004</td>\n",
       "      <td>99.989998</td>\n",
       "      <td>308.750000</td>\n",
       "      <td>62.801323</td>\n",
       "      <td>68.970001</td>\n",
       "      <td>3055.209961</td>\n",
       "      <td>5.740</td>\n",
       "      <td>81.629997</td>\n",
       "      <td>...</td>\n",
       "      <td>272.470001</td>\n",
       "      <td>130.672791</td>\n",
       "      <td>29.370001</td>\n",
       "      <td>70.690002</td>\n",
       "      <td>66.730003</td>\n",
       "      <td>252.330002</td>\n",
       "      <td>9.72</td>\n",
       "      <td>124.870003</td>\n",
       "      <td>146.919998</td>\n",
       "      <td>25.299999</td>\n",
       "    </tr>\n",
       "    <tr>\n",
       "      <th>2020-07-28</th>\n",
       "      <td>11.77</td>\n",
       "      <td>93.084671</td>\n",
       "      <td>96.709999</td>\n",
       "      <td>99.860001</td>\n",
       "      <td>299.109985</td>\n",
       "      <td>62.093678</td>\n",
       "      <td>67.610001</td>\n",
       "      <td>3000.330078</td>\n",
       "      <td>6.000</td>\n",
       "      <td>80.720001</td>\n",
       "      <td>...</td>\n",
       "      <td>269.709991</td>\n",
       "      <td>131.220535</td>\n",
       "      <td>28.750000</td>\n",
       "      <td>73.370003</td>\n",
       "      <td>64.860001</td>\n",
       "      <td>252.179993</td>\n",
       "      <td>9.49</td>\n",
       "      <td>124.379997</td>\n",
       "      <td>145.979996</td>\n",
       "      <td>25.400000</td>\n",
       "    </tr>\n",
       "    <tr>\n",
       "      <th>2020-07-29</th>\n",
       "      <td>11.40</td>\n",
       "      <td>94.868950</td>\n",
       "      <td>97.010002</td>\n",
       "      <td>102.519997</td>\n",
       "      <td>300.239990</td>\n",
       "      <td>63.040531</td>\n",
       "      <td>76.089996</td>\n",
       "      <td>3033.530029</td>\n",
       "      <td>4.850</td>\n",
       "      <td>81.199997</td>\n",
       "      <td>...</td>\n",
       "      <td>279.380005</td>\n",
       "      <td>130.154922</td>\n",
       "      <td>28.600000</td>\n",
       "      <td>75.290001</td>\n",
       "      <td>66.410004</td>\n",
       "      <td>252.389999</td>\n",
       "      <td>9.69</td>\n",
       "      <td>126.970001</td>\n",
       "      <td>147.589996</td>\n",
       "      <td>25.500000</td>\n",
       "    </tr>\n",
       "    <tr>\n",
       "      <th>2020-07-30</th>\n",
       "      <td>11.18</td>\n",
       "      <td>96.016884</td>\n",
       "      <td>96.040001</td>\n",
       "      <td>101.529999</td>\n",
       "      <td>296.130005</td>\n",
       "      <td>64.206657</td>\n",
       "      <td>78.199997</td>\n",
       "      <td>3051.879883</td>\n",
       "      <td>4.920</td>\n",
       "      <td>81.699997</td>\n",
       "      <td>...</td>\n",
       "      <td>284.920013</td>\n",
       "      <td>129.587250</td>\n",
       "      <td>28.770000</td>\n",
       "      <td>76.419998</td>\n",
       "      <td>69.529999</td>\n",
       "      <td>250.000000</td>\n",
       "      <td>9.71</td>\n",
       "      <td>129.289993</td>\n",
       "      <td>149.110001</td>\n",
       "      <td>23.860001</td>\n",
       "    </tr>\n",
       "    <tr>\n",
       "      <th>2020-07-31</th>\n",
       "      <td>11.12</td>\n",
       "      <td>106.068756</td>\n",
       "      <td>94.910004</td>\n",
       "      <td>100.639999</td>\n",
       "      <td>293.820007</td>\n",
       "      <td>64.116959</td>\n",
       "      <td>77.430000</td>\n",
       "      <td>3164.679932</td>\n",
       "      <td>4.775</td>\n",
       "      <td>82.629997</td>\n",
       "      <td>...</td>\n",
       "      <td>290.480011</td>\n",
       "      <td>128.870193</td>\n",
       "      <td>29.549999</td>\n",
       "      <td>72.430000</td>\n",
       "      <td>68.089996</td>\n",
       "      <td>253.910004</td>\n",
       "      <td>9.83</td>\n",
       "      <td>129.850006</td>\n",
       "      <td>151.679993</td>\n",
       "      <td>23.100000</td>\n",
       "    </tr>\n",
       "    <tr>\n",
       "      <th>2020-08-03</th>\n",
       "      <td>11.08</td>\n",
       "      <td>108.741440</td>\n",
       "      <td>95.940002</td>\n",
       "      <td>100.680000</td>\n",
       "      <td>287.359985</td>\n",
       "      <td>64.794708</td>\n",
       "      <td>77.669998</td>\n",
       "      <td>3111.889893</td>\n",
       "      <td>4.910</td>\n",
       "      <td>84.790001</td>\n",
       "      <td>...</td>\n",
       "      <td>302.529999</td>\n",
       "      <td>128.770615</td>\n",
       "      <td>30.500000</td>\n",
       "      <td>73.050003</td>\n",
       "      <td>67.760002</td>\n",
       "      <td>268.000000</td>\n",
       "      <td>10.14</td>\n",
       "      <td>132.580002</td>\n",
       "      <td>154.509995</td>\n",
       "      <td>22.000000</td>\n",
       "    </tr>\n",
       "    <tr>\n",
       "      <th>2020-08-04</th>\n",
       "      <td>11.47</td>\n",
       "      <td>109.467628</td>\n",
       "      <td>94.290001</td>\n",
       "      <td>99.930000</td>\n",
       "      <td>288.269989</td>\n",
       "      <td>64.635231</td>\n",
       "      <td>85.040001</td>\n",
       "      <td>3138.830078</td>\n",
       "      <td>4.890</td>\n",
       "      <td>86.449997</td>\n",
       "      <td>...</td>\n",
       "      <td>304.549988</td>\n",
       "      <td>131.101028</td>\n",
       "      <td>30.540001</td>\n",
       "      <td>72.750000</td>\n",
       "      <td>68.099998</td>\n",
       "      <td>267.339996</td>\n",
       "      <td>10.19</td>\n",
       "      <td>132.490005</td>\n",
       "      <td>155.639999</td>\n",
       "      <td>23.480000</td>\n",
       "    </tr>\n",
       "    <tr>\n",
       "      <th>2020-08-05</th>\n",
       "      <td>12.56</td>\n",
       "      <td>109.864410</td>\n",
       "      <td>93.250000</td>\n",
       "      <td>102.139999</td>\n",
       "      <td>298.510010</td>\n",
       "      <td>64.655167</td>\n",
       "      <td>85.309998</td>\n",
       "      <td>3205.030029</td>\n",
       "      <td>4.810</td>\n",
       "      <td>84.320000</td>\n",
       "      <td>...</td>\n",
       "      <td>309.589996</td>\n",
       "      <td>129.278519</td>\n",
       "      <td>30.010000</td>\n",
       "      <td>71.279999</td>\n",
       "      <td>70.639999</td>\n",
       "      <td>272.899994</td>\n",
       "      <td>10.07</td>\n",
       "      <td>134.529999</td>\n",
       "      <td>157.720001</td>\n",
       "      <td>23.639999</td>\n",
       "    </tr>\n",
       "    <tr>\n",
       "      <th>2020-08-06</th>\n",
       "      <td>13.04</td>\n",
       "      <td>113.697502</td>\n",
       "      <td>92.570000</td>\n",
       "      <td>101.750000</td>\n",
       "      <td>301.799988</td>\n",
       "      <td>63.399342</td>\n",
       "      <td>86.709999</td>\n",
       "      <td>3225.000000</td>\n",
       "      <td>4.660</td>\n",
       "      <td>86.839996</td>\n",
       "      <td>...</td>\n",
       "      <td>307.980011</td>\n",
       "      <td>128.820404</td>\n",
       "      <td>30.090000</td>\n",
       "      <td>76.570000</td>\n",
       "      <td>71.570000</td>\n",
       "      <td>268.250000</td>\n",
       "      <td>9.95</td>\n",
       "      <td>132.279999</td>\n",
       "      <td>161.330002</td>\n",
       "      <td>22.709999</td>\n",
       "    </tr>\n",
       "    <tr>\n",
       "      <th>2020-08-07</th>\n",
       "      <td>13.03</td>\n",
       "      <td>111.112503</td>\n",
       "      <td>92.919998</td>\n",
       "      <td>101.230003</td>\n",
       "      <td>305.809998</td>\n",
       "      <td>63.359470</td>\n",
       "      <td>84.849998</td>\n",
       "      <td>3167.459961</td>\n",
       "      <td>4.470</td>\n",
       "      <td>82.470001</td>\n",
       "      <td>...</td>\n",
       "      <td>291.600006</td>\n",
       "      <td>129.437866</td>\n",
       "      <td>28.950001</td>\n",
       "      <td>74.099998</td>\n",
       "      <td>79.839996</td>\n",
       "      <td>258.730011</td>\n",
       "      <td>9.73</td>\n",
       "      <td>125.849998</td>\n",
       "      <td>158.880005</td>\n",
       "      <td>23.799999</td>\n",
       "    </tr>\n",
       "    <tr>\n",
       "      <th>2020-08-10</th>\n",
       "      <td>14.00</td>\n",
       "      <td>112.727501</td>\n",
       "      <td>92.379997</td>\n",
       "      <td>100.040001</td>\n",
       "      <td>302.899994</td>\n",
       "      <td>65.023941</td>\n",
       "      <td>82.239998</td>\n",
       "      <td>3148.159912</td>\n",
       "      <td>4.630</td>\n",
       "      <td>82.260002</td>\n",
       "      <td>...</td>\n",
       "      <td>277.940002</td>\n",
       "      <td>131.340042</td>\n",
       "      <td>28.120001</td>\n",
       "      <td>81.480003</td>\n",
       "      <td>79.410004</td>\n",
       "      <td>250.000000</td>\n",
       "      <td>9.47</td>\n",
       "      <td>122.389999</td>\n",
       "      <td>158.089996</td>\n",
       "      <td>24.320000</td>\n",
       "    </tr>\n",
       "    <tr>\n",
       "      <th>2020-08-11</th>\n",
       "      <td>13.73</td>\n",
       "      <td>109.375000</td>\n",
       "      <td>92.669998</td>\n",
       "      <td>99.059998</td>\n",
       "      <td>304.130005</td>\n",
       "      <td>64.246521</td>\n",
       "      <td>76.879997</td>\n",
       "      <td>3080.669922</td>\n",
       "      <td>4.450</td>\n",
       "      <td>79.120003</td>\n",
       "      <td>...</td>\n",
       "      <td>268.589996</td>\n",
       "      <td>129.666916</td>\n",
       "      <td>27.610001</td>\n",
       "      <td>88.290001</td>\n",
       "      <td>75.239998</td>\n",
       "      <td>231.039993</td>\n",
       "      <td>9.01</td>\n",
       "      <td>117.510002</td>\n",
       "      <td>156.929993</td>\n",
       "      <td>24.610001</td>\n",
       "    </tr>\n",
       "    <tr>\n",
       "      <th>2020-08-12</th>\n",
       "      <td>13.54</td>\n",
       "      <td>113.010002</td>\n",
       "      <td>95.510002</td>\n",
       "      <td>100.650002</td>\n",
       "      <td>307.980011</td>\n",
       "      <td>66.279770</td>\n",
       "      <td>82.610001</td>\n",
       "      <td>3162.239990</td>\n",
       "      <td>4.510</td>\n",
       "      <td>81.709999</td>\n",
       "      <td>...</td>\n",
       "      <td>271.799988</td>\n",
       "      <td>131.350006</td>\n",
       "      <td>27.850000</td>\n",
       "      <td>85.800003</td>\n",
       "      <td>76.099998</td>\n",
       "      <td>236.720001</td>\n",
       "      <td>9.11</td>\n",
       "      <td>119.339996</td>\n",
       "      <td>159.360001</td>\n",
       "      <td>24.670000</td>\n",
       "    </tr>\n",
       "    <tr>\n",
       "      <th>2020-08-13</th>\n",
       "      <td>13.30</td>\n",
       "      <td>115.010002</td>\n",
       "      <td>94.680000</td>\n",
       "      <td>101.099998</td>\n",
       "      <td>312.220001</td>\n",
       "      <td>64.854507</td>\n",
       "      <td>81.839996</td>\n",
       "      <td>3161.020020</td>\n",
       "      <td>4.650</td>\n",
       "      <td>81.290001</td>\n",
       "      <td>...</td>\n",
       "      <td>278.470001</td>\n",
       "      <td>131.850006</td>\n",
       "      <td>28.240000</td>\n",
       "      <td>86.669998</td>\n",
       "      <td>74.559998</td>\n",
       "      <td>247.250000</td>\n",
       "      <td>9.25</td>\n",
       "      <td>122.070000</td>\n",
       "      <td>158.869995</td>\n",
       "      <td>24.480000</td>\n",
       "    </tr>\n",
       "    <tr>\n",
       "      <th>2020-08-14</th>\n",
       "      <td>13.33</td>\n",
       "      <td>114.907501</td>\n",
       "      <td>95.070000</td>\n",
       "      <td>99.989998</td>\n",
       "      <td>306.959991</td>\n",
       "      <td>67.396065</td>\n",
       "      <td>81.300003</td>\n",
       "      <td>3148.020020</td>\n",
       "      <td>4.490</td>\n",
       "      <td>80.400002</td>\n",
       "      <td>...</td>\n",
       "      <td>277.679993</td>\n",
       "      <td>132.600006</td>\n",
       "      <td>28.360001</td>\n",
       "      <td>84.980003</td>\n",
       "      <td>76.669998</td>\n",
       "      <td>244.910004</td>\n",
       "      <td>9.38</td>\n",
       "      <td>122.889999</td>\n",
       "      <td>157.050003</td>\n",
       "      <td>24.730000</td>\n",
       "    </tr>\n",
       "    <tr>\n",
       "      <th>2020-08-17</th>\n",
       "      <td>12.62</td>\n",
       "      <td>114.607498</td>\n",
       "      <td>96.349998</td>\n",
       "      <td>100.709999</td>\n",
       "      <td>309.519989</td>\n",
       "      <td>66.718315</td>\n",
       "      <td>82.419998</td>\n",
       "      <td>3182.409912</td>\n",
       "      <td>4.590</td>\n",
       "      <td>81.989998</td>\n",
       "      <td>...</td>\n",
       "      <td>282.690002</td>\n",
       "      <td>135.600006</td>\n",
       "      <td>28.240000</td>\n",
       "      <td>83.500000</td>\n",
       "      <td>79.820000</td>\n",
       "      <td>266.149994</td>\n",
       "      <td>9.36</td>\n",
       "      <td>124.489998</td>\n",
       "      <td>157.419998</td>\n",
       "      <td>25.490000</td>\n",
       "    </tr>\n",
       "    <tr>\n",
       "      <th>2020-08-18</th>\n",
       "      <td>12.60</td>\n",
       "      <td>115.562500</td>\n",
       "      <td>95.650002</td>\n",
       "      <td>100.959999</td>\n",
       "      <td>306.070007</td>\n",
       "      <td>66.209999</td>\n",
       "      <td>81.660004</td>\n",
       "      <td>3312.489990</td>\n",
       "      <td>4.670</td>\n",
       "      <td>83.129997</td>\n",
       "      <td>...</td>\n",
       "      <td>286.799988</td>\n",
       "      <td>134.710007</td>\n",
       "      <td>28.410000</td>\n",
       "      <td>81.629997</td>\n",
       "      <td>82.389999</td>\n",
       "      <td>276.799988</td>\n",
       "      <td>9.42</td>\n",
       "      <td>127.970001</td>\n",
       "      <td>160.169998</td>\n",
       "      <td>24.049999</td>\n",
       "    </tr>\n",
       "    <tr>\n",
       "      <th>2020-08-19</th>\n",
       "      <td>12.68</td>\n",
       "      <td>115.707497</td>\n",
       "      <td>96.099998</td>\n",
       "      <td>100.480003</td>\n",
       "      <td>301.510010</td>\n",
       "      <td>65.870003</td>\n",
       "      <td>81.089996</td>\n",
       "      <td>3260.479980</td>\n",
       "      <td>4.630</td>\n",
       "      <td>81.980003</td>\n",
       "      <td>...</td>\n",
       "      <td>285.609985</td>\n",
       "      <td>132.410004</td>\n",
       "      <td>28.570000</td>\n",
       "      <td>81.260002</td>\n",
       "      <td>83.500000</td>\n",
       "      <td>273.510010</td>\n",
       "      <td>9.32</td>\n",
       "      <td>128.259995</td>\n",
       "      <td>158.580002</td>\n",
       "      <td>23.360001</td>\n",
       "    </tr>\n",
       "    <tr>\n",
       "      <th>2020-08-20</th>\n",
       "      <td>12.50</td>\n",
       "      <td>118.275002</td>\n",
       "      <td>95.199997</td>\n",
       "      <td>101.629997</td>\n",
       "      <td>297.250000</td>\n",
       "      <td>63.790001</td>\n",
       "      <td>82.769997</td>\n",
       "      <td>3297.370117</td>\n",
       "      <td>4.570</td>\n",
       "      <td>84.000000</td>\n",
       "      <td>...</td>\n",
       "      <td>294.470001</td>\n",
       "      <td>130.570007</td>\n",
       "      <td>29.980000</td>\n",
       "      <td>80.279999</td>\n",
       "      <td>82.879997</td>\n",
       "      <td>290.690002</td>\n",
       "      <td>9.43</td>\n",
       "      <td>136.419998</td>\n",
       "      <td>158.539993</td>\n",
       "      <td>23.049999</td>\n",
       "    </tr>\n",
       "    <tr>\n",
       "      <th>2020-08-21</th>\n",
       "      <td>12.16</td>\n",
       "      <td>124.370003</td>\n",
       "      <td>94.860001</td>\n",
       "      <td>102.400002</td>\n",
       "      <td>294.290009</td>\n",
       "      <td>62.270000</td>\n",
       "      <td>83.809998</td>\n",
       "      <td>3284.719971</td>\n",
       "      <td>4.480</td>\n",
       "      <td>83.209999</td>\n",
       "      <td>...</td>\n",
       "      <td>284.399994</td>\n",
       "      <td>131.630005</td>\n",
       "      <td>29.080000</td>\n",
       "      <td>82.790001</td>\n",
       "      <td>82.889999</td>\n",
       "      <td>289.679993</td>\n",
       "      <td>9.31</td>\n",
       "      <td>135.220001</td>\n",
       "      <td>158.369995</td>\n",
       "      <td>23.469999</td>\n",
       "    </tr>\n",
       "    <tr>\n",
       "      <th>2020-08-24</th>\n",
       "      <td>13.44</td>\n",
       "      <td>125.857498</td>\n",
       "      <td>94.510002</td>\n",
       "      <td>101.389999</td>\n",
       "      <td>295.079987</td>\n",
       "      <td>63.740002</td>\n",
       "      <td>83.080002</td>\n",
       "      <td>3307.459961</td>\n",
       "      <td>4.550</td>\n",
       "      <td>83.099998</td>\n",
       "      <td>...</td>\n",
       "      <td>279.239990</td>\n",
       "      <td>131.330002</td>\n",
       "      <td>28.290001</td>\n",
       "      <td>86.790001</td>\n",
       "      <td>83.360001</td>\n",
       "      <td>282.279999</td>\n",
       "      <td>9.22</td>\n",
       "      <td>135.740005</td>\n",
       "      <td>156.759995</td>\n",
       "      <td>24.410000</td>\n",
       "    </tr>\n",
       "    <tr>\n",
       "      <th>2020-08-25</th>\n",
       "      <td>13.14</td>\n",
       "      <td>124.824997</td>\n",
       "      <td>94.059998</td>\n",
       "      <td>102.470001</td>\n",
       "      <td>296.679993</td>\n",
       "      <td>64.050003</td>\n",
       "      <td>86.349998</td>\n",
       "      <td>3346.489990</td>\n",
       "      <td>4.580</td>\n",
       "      <td>83.620003</td>\n",
       "      <td>...</td>\n",
       "      <td>292.790009</td>\n",
       "      <td>130.630005</td>\n",
       "      <td>28.570000</td>\n",
       "      <td>86.209999</td>\n",
       "      <td>82.629997</td>\n",
       "      <td>290.440002</td>\n",
       "      <td>9.18</td>\n",
       "      <td>135.630005</td>\n",
       "      <td>158.580002</td>\n",
       "      <td>25.129999</td>\n",
       "    </tr>\n",
       "    <tr>\n",
       "      <th>2020-08-26</th>\n",
       "      <td>12.79</td>\n",
       "      <td>126.522499</td>\n",
       "      <td>94.349998</td>\n",
       "      <td>103.190002</td>\n",
       "      <td>300.700012</td>\n",
       "      <td>63.759998</td>\n",
       "      <td>86.019997</td>\n",
       "      <td>3441.850098</td>\n",
       "      <td>4.570</td>\n",
       "      <td>84.480003</td>\n",
       "      <td>...</td>\n",
       "      <td>296.929993</td>\n",
       "      <td>130.699997</td>\n",
       "      <td>30.230000</td>\n",
       "      <td>84.800003</td>\n",
       "      <td>83.550003</td>\n",
       "      <td>295.269989</td>\n",
       "      <td>9.15</td>\n",
       "      <td>140.000000</td>\n",
       "      <td>159.759995</td>\n",
       "      <td>26.219999</td>\n",
       "    </tr>\n",
       "    <tr>\n",
       "      <th>2020-08-27</th>\n",
       "      <td>13.28</td>\n",
       "      <td>125.010002</td>\n",
       "      <td>94.300003</td>\n",
       "      <td>111.290001</td>\n",
       "      <td>305.640015</td>\n",
       "      <td>62.029999</td>\n",
       "      <td>83.800003</td>\n",
       "      <td>3400.000000</td>\n",
       "      <td>4.570</td>\n",
       "      <td>83.900002</td>\n",
       "      <td>...</td>\n",
       "      <td>291.049988</td>\n",
       "      <td>136.630005</td>\n",
       "      <td>30.850000</td>\n",
       "      <td>86.519997</td>\n",
       "      <td>84.959999</td>\n",
       "      <td>294.679993</td>\n",
       "      <td>8.99</td>\n",
       "      <td>138.759995</td>\n",
       "      <td>159.610001</td>\n",
       "      <td>26.719999</td>\n",
       "    </tr>\n",
       "    <tr>\n",
       "      <th>2020-08-28</th>\n",
       "      <td>13.59</td>\n",
       "      <td>124.807503</td>\n",
       "      <td>94.169998</td>\n",
       "      <td>110.790001</td>\n",
       "      <td>300.579987</td>\n",
       "      <td>63.070000</td>\n",
       "      <td>85.550003</td>\n",
       "      <td>3401.800049</td>\n",
       "      <td>4.690</td>\n",
       "      <td>83.209999</td>\n",
       "      <td>...</td>\n",
       "      <td>291.970001</td>\n",
       "      <td>140.300003</td>\n",
       "      <td>31.910000</td>\n",
       "      <td>91.550003</td>\n",
       "      <td>86.949997</td>\n",
       "      <td>299.269989</td>\n",
       "      <td>9.06</td>\n",
       "      <td>141.130005</td>\n",
       "      <td>160.000000</td>\n",
       "      <td>26.100000</td>\n",
       "    </tr>\n",
       "    <tr>\n",
       "      <th>2020-08-31</th>\n",
       "      <td>13.05</td>\n",
       "      <td>129.039993</td>\n",
       "      <td>95.769997</td>\n",
       "      <td>109.470001</td>\n",
       "      <td>296.980011</td>\n",
       "      <td>61.599998</td>\n",
       "      <td>90.820000</td>\n",
       "      <td>3450.959961</td>\n",
       "      <td>4.870</td>\n",
       "      <td>83.519997</td>\n",
       "      <td>...</td>\n",
       "      <td>294.630005</td>\n",
       "      <td>138.850006</td>\n",
       "      <td>32.840000</td>\n",
       "      <td>87.449997</td>\n",
       "      <td>85.279999</td>\n",
       "      <td>325.100006</td>\n",
       "      <td>9.06</td>\n",
       "      <td>143.339996</td>\n",
       "      <td>160.100006</td>\n",
       "      <td>25.680000</td>\n",
       "    </tr>\n",
       "    <tr>\n",
       "      <th>2020-09-01</th>\n",
       "      <td>13.10</td>\n",
       "      <td>134.179993</td>\n",
       "      <td>92.239998</td>\n",
       "      <td>106.550003</td>\n",
       "      <td>305.429993</td>\n",
       "      <td>61.889999</td>\n",
       "      <td>92.180000</td>\n",
       "      <td>3499.120117</td>\n",
       "      <td>4.780</td>\n",
       "      <td>83.330002</td>\n",
       "      <td>...</td>\n",
       "      <td>299.709991</td>\n",
       "      <td>147.589996</td>\n",
       "      <td>34.299999</td>\n",
       "      <td>86.279999</td>\n",
       "      <td>88.260002</td>\n",
       "      <td>457.690002</td>\n",
       "      <td>9.07</td>\n",
       "      <td>159.360001</td>\n",
       "      <td>162.050003</td>\n",
       "      <td>26.490000</td>\n",
       "    </tr>\n",
       "    <tr>\n",
       "      <th>2020-09-02</th>\n",
       "      <td>13.23</td>\n",
       "      <td>131.399994</td>\n",
       "      <td>93.949997</td>\n",
       "      <td>109.440002</td>\n",
       "      <td>324.429993</td>\n",
       "      <td>65.080002</td>\n",
       "      <td>90.220001</td>\n",
       "      <td>3531.449951</td>\n",
       "      <td>4.720</td>\n",
       "      <td>83.449997</td>\n",
       "      <td>...</td>\n",
       "      <td>296.959991</td>\n",
       "      <td>147.679993</td>\n",
       "      <td>33.650002</td>\n",
       "      <td>89.330002</td>\n",
       "      <td>88.900002</td>\n",
       "      <td>423.559998</td>\n",
       "      <td>9.06</td>\n",
       "      <td>158.520004</td>\n",
       "      <td>165.330002</td>\n",
       "      <td>27.840000</td>\n",
       "    </tr>\n",
       "    <tr>\n",
       "      <th>2020-09-03</th>\n",
       "      <td>13.36</td>\n",
       "      <td>120.879997</td>\n",
       "      <td>91.870003</td>\n",
       "      <td>105.529999</td>\n",
       "      <td>314.519989</td>\n",
       "      <td>61.459999</td>\n",
       "      <td>82.540001</td>\n",
       "      <td>3368.000000</td>\n",
       "      <td>4.700</td>\n",
       "      <td>80.309998</td>\n",
       "      <td>...</td>\n",
       "      <td>271.250000</td>\n",
       "      <td>144.539993</td>\n",
       "      <td>30.980000</td>\n",
       "      <td>87.360001</td>\n",
       "      <td>85.019997</td>\n",
       "      <td>381.320007</td>\n",
       "      <td>9.10</td>\n",
       "      <td>143.449997</td>\n",
       "      <td>158.800003</td>\n",
       "      <td>27.420000</td>\n",
       "    </tr>\n",
       "    <tr>\n",
       "      <th>2020-09-04</th>\n",
       "      <td>13.61</td>\n",
       "      <td>120.959999</td>\n",
       "      <td>91.870003</td>\n",
       "      <td>104.160004</td>\n",
       "      <td>309.000000</td>\n",
       "      <td>60.959999</td>\n",
       "      <td>82.010002</td>\n",
       "      <td>3294.620117</td>\n",
       "      <td>4.590</td>\n",
       "      <td>79.010002</td>\n",
       "      <td>...</td>\n",
       "      <td>258.489990</td>\n",
       "      <td>142.830002</td>\n",
       "      <td>29.070000</td>\n",
       "      <td>87.720001</td>\n",
       "      <td>83.440002</td>\n",
       "      <td>369.890015</td>\n",
       "      <td>8.75</td>\n",
       "      <td>134.339996</td>\n",
       "      <td>157.240005</td>\n",
       "      <td>27.290001</td>\n",
       "    </tr>\n",
       "    <tr>\n",
       "      <th>2020-09-08</th>\n",
       "      <td>13.63</td>\n",
       "      <td>112.820000</td>\n",
       "      <td>90.220001</td>\n",
       "      <td>102.839996</td>\n",
       "      <td>309.220001</td>\n",
       "      <td>55.630001</td>\n",
       "      <td>78.690002</td>\n",
       "      <td>3149.840088</td>\n",
       "      <td>4.440</td>\n",
       "      <td>76.180000</td>\n",
       "      <td>...</td>\n",
       "      <td>249.779999</td>\n",
       "      <td>138.449997</td>\n",
       "      <td>29.320000</td>\n",
       "      <td>82.680000</td>\n",
       "      <td>80.489998</td>\n",
       "      <td>350.880005</td>\n",
       "      <td>8.32</td>\n",
       "      <td>133.169998</td>\n",
       "      <td>153.509995</td>\n",
       "      <td>27.790001</td>\n",
       "    </tr>\n",
       "    <tr>\n",
       "      <th>2020-09-09</th>\n",
       "      <td>13.05</td>\n",
       "      <td>117.320000</td>\n",
       "      <td>91.629997</td>\n",
       "      <td>105.809998</td>\n",
       "      <td>323.920013</td>\n",
       "      <td>55.200001</td>\n",
       "      <td>81.910004</td>\n",
       "      <td>3268.610107</td>\n",
       "      <td>4.510</td>\n",
       "      <td>79.589996</td>\n",
       "      <td>...</td>\n",
       "      <td>262.279999</td>\n",
       "      <td>139.889999</td>\n",
       "      <td>25.240000</td>\n",
       "      <td>82.949997</td>\n",
       "      <td>82.269997</td>\n",
       "      <td>389.649994</td>\n",
       "      <td>8.46</td>\n",
       "      <td>134.190002</td>\n",
       "      <td>158.910004</td>\n",
       "      <td>26.910000</td>\n",
       "    </tr>\n",
       "    <tr>\n",
       "      <th>2020-09-10</th>\n",
       "      <td>13.01</td>\n",
       "      <td>113.489998</td>\n",
       "      <td>89.650002</td>\n",
       "      <td>104.000000</td>\n",
       "      <td>327.950012</td>\n",
       "      <td>55.119999</td>\n",
       "      <td>78.980003</td>\n",
       "      <td>3175.110107</td>\n",
       "      <td>4.630</td>\n",
       "      <td>79.089996</td>\n",
       "      <td>...</td>\n",
       "      <td>258.130005</td>\n",
       "      <td>136.809998</td>\n",
       "      <td>25.900000</td>\n",
       "      <td>83.330002</td>\n",
       "      <td>82.540001</td>\n",
       "      <td>384.480011</td>\n",
       "      <td>8.50</td>\n",
       "      <td>132.610001</td>\n",
       "      <td>158.100006</td>\n",
       "      <td>25.190001</td>\n",
       "    </tr>\n",
       "    <tr>\n",
       "      <th>2020-09-11</th>\n",
       "      <td>12.95</td>\n",
       "      <td>112.000000</td>\n",
       "      <td>89.699997</td>\n",
       "      <td>104.699997</td>\n",
       "      <td>317.660004</td>\n",
       "      <td>55.000000</td>\n",
       "      <td>76.339996</td>\n",
       "      <td>3116.219971</td>\n",
       "      <td>4.500</td>\n",
       "      <td>77.970001</td>\n",
       "      <td>...</td>\n",
       "      <td>254.100006</td>\n",
       "      <td>136.699997</td>\n",
       "      <td>25.660000</td>\n",
       "      <td>82.110001</td>\n",
       "      <td>85.239998</td>\n",
       "      <td>383.000000</td>\n",
       "      <td>8.35</td>\n",
       "      <td>128.500000</td>\n",
       "      <td>158.589996</td>\n",
       "      <td>28.440001</td>\n",
       "    </tr>\n",
       "    <tr>\n",
       "      <th>2020-09-14</th>\n",
       "      <td>NaN</td>\n",
       "      <td>NaN</td>\n",
       "      <td>NaN</td>\n",
       "      <td>NaN</td>\n",
       "      <td>NaN</td>\n",
       "      <td>NaN</td>\n",
       "      <td>NaN</td>\n",
       "      <td>NaN</td>\n",
       "      <td>NaN</td>\n",
       "      <td>NaN</td>\n",
       "      <td>...</td>\n",
       "      <td>NaN</td>\n",
       "      <td>NaN</td>\n",
       "      <td>NaN</td>\n",
       "      <td>NaN</td>\n",
       "      <td>NaN</td>\n",
       "      <td>NaN</td>\n",
       "      <td>NaN</td>\n",
       "      <td>NaN</td>\n",
       "      <td>NaN</td>\n",
       "      <td>NaN</td>\n",
       "    </tr>\n",
       "  </tbody>\n",
       "</table>\n",
       "<p>50 rows × 178 columns</p>\n",
       "</div>"
      ],
      "text/plain": [
       "              AAL        AAPL        ABBV         ABT        ALGN       AMAT  \\\n",
       "Date                                                                           \n",
       "2020-07-06  12.80   93.294289   97.816139   92.610466  282.440002  63.249836   \n",
       "2020-07-07  11.91   93.004814   98.152031   92.102440  274.709991  61.974075   \n",
       "2020-07-08  11.99   95.170906   98.082878   92.221977  278.390015  62.562122   \n",
       "2020-07-09  11.18   95.580170   96.759041   93.307755  274.079987  63.279739   \n",
       "2020-07-10  11.94   95.747368   95.662422   92.680199  273.290009  62.382717   \n",
       "2020-07-13  11.63   95.305664   96.680000   92.729996  270.239990  61.306293   \n",
       "2020-07-14  11.57   96.882820   98.870003   94.820000  299.619995  62.332886   \n",
       "2020-07-15  13.44   97.549118  100.480003   96.730003  314.299988  61.894337   \n",
       "2020-07-16  12.45   96.348778   99.919998   96.400002  309.000000  62.133545   \n",
       "2020-07-17  11.91   96.154129  100.830002   99.250000  322.299988  62.093678   \n",
       "2020-07-20  11.47   98.180481   99.540001   99.080002  312.970001  63.518940   \n",
       "2020-07-21  11.47   96.825424   97.400002   98.190002  315.329987  63.598679   \n",
       "2020-07-22  11.36   97.097435   97.699997  100.190002  317.970001  64.007324   \n",
       "2020-07-23  11.77   92.677902   98.029999  100.820000  299.049988  63.419273   \n",
       "2020-07-24  11.39   92.448311   97.110001   98.949997  298.140015  60.419239   \n",
       "2020-07-27  11.39   94.639359   97.160004   99.989998  308.750000  62.801323   \n",
       "2020-07-28  11.77   93.084671   96.709999   99.860001  299.109985  62.093678   \n",
       "2020-07-29  11.40   94.868950   97.010002  102.519997  300.239990  63.040531   \n",
       "2020-07-30  11.18   96.016884   96.040001  101.529999  296.130005  64.206657   \n",
       "2020-07-31  11.12  106.068756   94.910004  100.639999  293.820007  64.116959   \n",
       "2020-08-03  11.08  108.741440   95.940002  100.680000  287.359985  64.794708   \n",
       "2020-08-04  11.47  109.467628   94.290001   99.930000  288.269989  64.635231   \n",
       "2020-08-05  12.56  109.864410   93.250000  102.139999  298.510010  64.655167   \n",
       "2020-08-06  13.04  113.697502   92.570000  101.750000  301.799988  63.399342   \n",
       "2020-08-07  13.03  111.112503   92.919998  101.230003  305.809998  63.359470   \n",
       "2020-08-10  14.00  112.727501   92.379997  100.040001  302.899994  65.023941   \n",
       "2020-08-11  13.73  109.375000   92.669998   99.059998  304.130005  64.246521   \n",
       "2020-08-12  13.54  113.010002   95.510002  100.650002  307.980011  66.279770   \n",
       "2020-08-13  13.30  115.010002   94.680000  101.099998  312.220001  64.854507   \n",
       "2020-08-14  13.33  114.907501   95.070000   99.989998  306.959991  67.396065   \n",
       "2020-08-17  12.62  114.607498   96.349998  100.709999  309.519989  66.718315   \n",
       "2020-08-18  12.60  115.562500   95.650002  100.959999  306.070007  66.209999   \n",
       "2020-08-19  12.68  115.707497   96.099998  100.480003  301.510010  65.870003   \n",
       "2020-08-20  12.50  118.275002   95.199997  101.629997  297.250000  63.790001   \n",
       "2020-08-21  12.16  124.370003   94.860001  102.400002  294.290009  62.270000   \n",
       "2020-08-24  13.44  125.857498   94.510002  101.389999  295.079987  63.740002   \n",
       "2020-08-25  13.14  124.824997   94.059998  102.470001  296.679993  64.050003   \n",
       "2020-08-26  12.79  126.522499   94.349998  103.190002  300.700012  63.759998   \n",
       "2020-08-27  13.28  125.010002   94.300003  111.290001  305.640015  62.029999   \n",
       "2020-08-28  13.59  124.807503   94.169998  110.790001  300.579987  63.070000   \n",
       "2020-08-31  13.05  129.039993   95.769997  109.470001  296.980011  61.599998   \n",
       "2020-09-01  13.10  134.179993   92.239998  106.550003  305.429993  61.889999   \n",
       "2020-09-02  13.23  131.399994   93.949997  109.440002  324.429993  65.080002   \n",
       "2020-09-03  13.36  120.879997   91.870003  105.529999  314.519989  61.459999   \n",
       "2020-09-04  13.61  120.959999   91.870003  104.160004  309.000000  60.959999   \n",
       "2020-09-08  13.63  112.820000   90.220001  102.839996  309.220001  55.630001   \n",
       "2020-09-09  13.05  117.320000   91.629997  105.809998  323.920013  55.200001   \n",
       "2020-09-10  13.01  113.489998   89.650002  104.000000  327.950012  55.119999   \n",
       "2020-09-11  12.95  112.000000   89.699997  104.699997  317.660004  55.000000   \n",
       "2020-09-14    NaN         NaN         NaN         NaN         NaN        NaN   \n",
       "\n",
       "                  AMD         AMZN   APHA       ATVI  ...         WIX  \\\n",
       "Date                                                  ...               \n",
       "2020-07-06  53.400002  3057.040039  4.380  78.669998  ...  276.559998   \n",
       "2020-07-07  52.930000  3000.120117  4.330  78.500000  ...  282.809998   \n",
       "2020-07-08  53.430000  3081.110107  4.310  79.279999  ...  292.119995   \n",
       "2020-07-09  57.259998  3182.629883  4.190  80.639999  ...  296.709991   \n",
       "2020-07-10  55.880001  3200.000000  4.300  81.269997  ...  294.230011   \n",
       "2020-07-13  53.590000  3104.000000  4.680  77.949997  ...  281.000000   \n",
       "2020-07-14  54.720001  3084.000000  4.710  79.769997  ...  279.820007   \n",
       "2020-07-15  55.340000  3008.870117  5.070  79.150002  ...  273.679993   \n",
       "2020-07-16  54.919998  2999.899902  5.070  79.370003  ...  271.420013   \n",
       "2020-07-17  55.040001  2961.969971  5.100  78.639999  ...  270.299988   \n",
       "2020-07-20  57.459999  3196.840088  5.180  81.160004  ...  282.179993   \n",
       "2020-07-21  57.000000  3138.290039  5.230  80.760002  ...  275.690002   \n",
       "2020-07-22  61.790001  3099.909912  5.150  81.099998  ...  273.549988   \n",
       "2020-07-23  59.570000  2986.550049  5.130  79.610001  ...  269.750000   \n",
       "2020-07-24  69.400002  3008.909912  5.110  79.989998  ...  267.470001   \n",
       "2020-07-27  68.970001  3055.209961  5.740  81.629997  ...  272.470001   \n",
       "2020-07-28  67.610001  3000.330078  6.000  80.720001  ...  269.709991   \n",
       "2020-07-29  76.089996  3033.530029  4.850  81.199997  ...  279.380005   \n",
       "2020-07-30  78.199997  3051.879883  4.920  81.699997  ...  284.920013   \n",
       "2020-07-31  77.430000  3164.679932  4.775  82.629997  ...  290.480011   \n",
       "2020-08-03  77.669998  3111.889893  4.910  84.790001  ...  302.529999   \n",
       "2020-08-04  85.040001  3138.830078  4.890  86.449997  ...  304.549988   \n",
       "2020-08-05  85.309998  3205.030029  4.810  84.320000  ...  309.589996   \n",
       "2020-08-06  86.709999  3225.000000  4.660  86.839996  ...  307.980011   \n",
       "2020-08-07  84.849998  3167.459961  4.470  82.470001  ...  291.600006   \n",
       "2020-08-10  82.239998  3148.159912  4.630  82.260002  ...  277.940002   \n",
       "2020-08-11  76.879997  3080.669922  4.450  79.120003  ...  268.589996   \n",
       "2020-08-12  82.610001  3162.239990  4.510  81.709999  ...  271.799988   \n",
       "2020-08-13  81.839996  3161.020020  4.650  81.290001  ...  278.470001   \n",
       "2020-08-14  81.300003  3148.020020  4.490  80.400002  ...  277.679993   \n",
       "2020-08-17  82.419998  3182.409912  4.590  81.989998  ...  282.690002   \n",
       "2020-08-18  81.660004  3312.489990  4.670  83.129997  ...  286.799988   \n",
       "2020-08-19  81.089996  3260.479980  4.630  81.980003  ...  285.609985   \n",
       "2020-08-20  82.769997  3297.370117  4.570  84.000000  ...  294.470001   \n",
       "2020-08-21  83.809998  3284.719971  4.480  83.209999  ...  284.399994   \n",
       "2020-08-24  83.080002  3307.459961  4.550  83.099998  ...  279.239990   \n",
       "2020-08-25  86.349998  3346.489990  4.580  83.620003  ...  292.790009   \n",
       "2020-08-26  86.019997  3441.850098  4.570  84.480003  ...  296.929993   \n",
       "2020-08-27  83.800003  3400.000000  4.570  83.900002  ...  291.049988   \n",
       "2020-08-28  85.550003  3401.800049  4.690  83.209999  ...  291.970001   \n",
       "2020-08-31  90.820000  3450.959961  4.870  83.519997  ...  294.630005   \n",
       "2020-09-01  92.180000  3499.120117  4.780  83.330002  ...  299.709991   \n",
       "2020-09-02  90.220001  3531.449951  4.720  83.449997  ...  296.959991   \n",
       "2020-09-03  82.540001  3368.000000  4.700  80.309998  ...  271.250000   \n",
       "2020-09-04  82.010002  3294.620117  4.590  79.010002  ...  258.489990   \n",
       "2020-09-08  78.690002  3149.840088  4.440  76.180000  ...  249.779999   \n",
       "2020-09-09  81.910004  3268.610107  4.510  79.589996  ...  262.279999   \n",
       "2020-09-10  78.980003  3175.110107  4.630  79.089996  ...  258.130005   \n",
       "2020-09-11  76.339996  3116.219971  4.500  77.970001  ...  254.100006   \n",
       "2020-09-14        NaN          NaN    NaN        NaN  ...         NaN   \n",
       "\n",
       "                   WMT       WORK       WYNN         ZG          ZM   ZNGA  \\\n",
       "Date                                                                         \n",
       "2020-07-06  118.403229  31.120001  76.699997  60.980000  261.000000   9.72   \n",
       "2020-07-07  126.430222  31.480000  73.370003  62.029999  262.100006   9.89   \n",
       "2020-07-08  123.930504  34.240002  74.180000  63.200001  266.320007  10.25   \n",
       "2020-07-09  127.226952  34.020000  71.129997  62.419998  269.519989  10.44   \n",
       "2020-07-10  130.144943  33.840000  74.129997  61.750000  275.869995  10.38   \n",
       "2020-07-13  128.989716  33.419998  81.269997  58.220001  260.299988   9.75   \n",
       "2020-07-14  131.469513  32.369999  79.300003  57.750000  260.010010   9.82   \n",
       "2020-07-15  131.459549  32.119999  86.739998  58.970001  256.220001   9.47   \n",
       "2020-07-16  131.658737  31.610001  84.599998  61.740002  248.539993   9.43   \n",
       "2020-07-17  131.200623  32.110001  82.760002  64.050003  246.539993   9.45   \n",
       "2020-07-20  130.931717  33.290001  79.970001  65.970001  268.579987   9.83   \n",
       "2020-07-21  131.788208  32.610001  79.190002  64.559998  260.440002   9.74   \n",
       "2020-07-22  132.116852  30.940001  76.099998  66.980003  261.179993   9.81   \n",
       "2020-07-23  131.101028  30.350000  73.900002  65.330002  251.500000   9.52   \n",
       "2020-07-24  130.702667  29.719999  73.410004  65.430000  246.559998   9.55   \n",
       "2020-07-27  130.672791  29.370001  70.690002  66.730003  252.330002   9.72   \n",
       "2020-07-28  131.220535  28.750000  73.370003  64.860001  252.179993   9.49   \n",
       "2020-07-29  130.154922  28.600000  75.290001  66.410004  252.389999   9.69   \n",
       "2020-07-30  129.587250  28.770000  76.419998  69.529999  250.000000   9.71   \n",
       "2020-07-31  128.870193  29.549999  72.430000  68.089996  253.910004   9.83   \n",
       "2020-08-03  128.770615  30.500000  73.050003  67.760002  268.000000  10.14   \n",
       "2020-08-04  131.101028  30.540001  72.750000  68.099998  267.339996  10.19   \n",
       "2020-08-05  129.278519  30.010000  71.279999  70.639999  272.899994  10.07   \n",
       "2020-08-06  128.820404  30.090000  76.570000  71.570000  268.250000   9.95   \n",
       "2020-08-07  129.437866  28.950001  74.099998  79.839996  258.730011   9.73   \n",
       "2020-08-10  131.340042  28.120001  81.480003  79.410004  250.000000   9.47   \n",
       "2020-08-11  129.666916  27.610001  88.290001  75.239998  231.039993   9.01   \n",
       "2020-08-12  131.350006  27.850000  85.800003  76.099998  236.720001   9.11   \n",
       "2020-08-13  131.850006  28.240000  86.669998  74.559998  247.250000   9.25   \n",
       "2020-08-14  132.600006  28.360001  84.980003  76.669998  244.910004   9.38   \n",
       "2020-08-17  135.600006  28.240000  83.500000  79.820000  266.149994   9.36   \n",
       "2020-08-18  134.710007  28.410000  81.629997  82.389999  276.799988   9.42   \n",
       "2020-08-19  132.410004  28.570000  81.260002  83.500000  273.510010   9.32   \n",
       "2020-08-20  130.570007  29.980000  80.279999  82.879997  290.690002   9.43   \n",
       "2020-08-21  131.630005  29.080000  82.790001  82.889999  289.679993   9.31   \n",
       "2020-08-24  131.330002  28.290001  86.790001  83.360001  282.279999   9.22   \n",
       "2020-08-25  130.630005  28.570000  86.209999  82.629997  290.440002   9.18   \n",
       "2020-08-26  130.699997  30.230000  84.800003  83.550003  295.269989   9.15   \n",
       "2020-08-27  136.630005  30.850000  86.519997  84.959999  294.679993   8.99   \n",
       "2020-08-28  140.300003  31.910000  91.550003  86.949997  299.269989   9.06   \n",
       "2020-08-31  138.850006  32.840000  87.449997  85.279999  325.100006   9.06   \n",
       "2020-09-01  147.589996  34.299999  86.279999  88.260002  457.690002   9.07   \n",
       "2020-09-02  147.679993  33.650002  89.330002  88.900002  423.559998   9.06   \n",
       "2020-09-03  144.539993  30.980000  87.360001  85.019997  381.320007   9.10   \n",
       "2020-09-04  142.830002  29.070000  87.720001  83.440002  369.890015   8.75   \n",
       "2020-09-08  138.449997  29.320000  82.680000  80.489998  350.880005   8.32   \n",
       "2020-09-09  139.889999  25.240000  82.949997  82.269997  389.649994   8.46   \n",
       "2020-09-10  136.809998  25.900000  83.330002  82.540001  384.480011   8.50   \n",
       "2020-09-11  136.699997  25.660000  82.110001  85.239998  383.000000   8.35   \n",
       "2020-09-14         NaN        NaN        NaN        NaN         NaN    NaN   \n",
       "\n",
       "                    ZS         ZTS       ZUMZ  \n",
       "Date                                           \n",
       "2020-07-06  114.779999  138.406052  27.959999  \n",
       "2020-07-07  113.839996  138.246277  26.570000  \n",
       "2020-07-08  120.849998  138.615753  26.690001  \n",
       "2020-07-09  127.410004  137.487320  25.379999  \n",
       "2020-07-10  125.489998  136.908142  25.750000  \n",
       "2020-07-13  119.910004  138.116440  25.340000  \n",
       "2020-07-14  122.430000  140.203522  25.549999  \n",
       "2020-07-15  119.839996  142.720001  26.290001  \n",
       "2020-07-16  117.150002  142.940002  26.309999  \n",
       "2020-07-17  120.309998  144.660004  25.940001  \n",
       "2020-07-20  127.599998  145.970001  25.030001  \n",
       "2020-07-21  125.470001  145.009995  25.840000  \n",
       "2020-07-22  125.110001  145.110001  26.049999  \n",
       "2020-07-23  123.459999  144.070007  27.139999  \n",
       "2020-07-24  121.720001  144.220001  25.650000  \n",
       "2020-07-27  124.870003  146.919998  25.299999  \n",
       "2020-07-28  124.379997  145.979996  25.400000  \n",
       "2020-07-29  126.970001  147.589996  25.500000  \n",
       "2020-07-30  129.289993  149.110001  23.860001  \n",
       "2020-07-31  129.850006  151.679993  23.100000  \n",
       "2020-08-03  132.580002  154.509995  22.000000  \n",
       "2020-08-04  132.490005  155.639999  23.480000  \n",
       "2020-08-05  134.529999  157.720001  23.639999  \n",
       "2020-08-06  132.279999  161.330002  22.709999  \n",
       "2020-08-07  125.849998  158.880005  23.799999  \n",
       "2020-08-10  122.389999  158.089996  24.320000  \n",
       "2020-08-11  117.510002  156.929993  24.610001  \n",
       "2020-08-12  119.339996  159.360001  24.670000  \n",
       "2020-08-13  122.070000  158.869995  24.480000  \n",
       "2020-08-14  122.889999  157.050003  24.730000  \n",
       "2020-08-17  124.489998  157.419998  25.490000  \n",
       "2020-08-18  127.970001  160.169998  24.049999  \n",
       "2020-08-19  128.259995  158.580002  23.360001  \n",
       "2020-08-20  136.419998  158.539993  23.049999  \n",
       "2020-08-21  135.220001  158.369995  23.469999  \n",
       "2020-08-24  135.740005  156.759995  24.410000  \n",
       "2020-08-25  135.630005  158.580002  25.129999  \n",
       "2020-08-26  140.000000  159.759995  26.219999  \n",
       "2020-08-27  138.759995  159.610001  26.719999  \n",
       "2020-08-28  141.130005  160.000000  26.100000  \n",
       "2020-08-31  143.339996  160.100006  25.680000  \n",
       "2020-09-01  159.360001  162.050003  26.490000  \n",
       "2020-09-02  158.520004  165.330002  27.840000  \n",
       "2020-09-03  143.449997  158.800003  27.420000  \n",
       "2020-09-04  134.339996  157.240005  27.290001  \n",
       "2020-09-08  133.169998  153.509995  27.790001  \n",
       "2020-09-09  134.190002  158.910004  26.910000  \n",
       "2020-09-10  132.610001  158.100006  25.190001  \n",
       "2020-09-11  128.500000  158.589996  28.440001  \n",
       "2020-09-14         NaN         NaN        NaN  \n",
       "\n",
       "[50 rows x 178 columns]"
      ]
     },
     "execution_count": 18,
     "metadata": {},
     "output_type": "execute_result"
    }
   ],
   "source": [
    "# read back in\n",
    "historical_prices = pd.read_csv('historical_prices.csv', index_col=0)\n",
    "historical_prices"
   ]
  },
  {
   "cell_type": "markdown",
   "metadata": {},
   "source": [
    "### Analysis/Data Visualization"
   ]
  },
  {
   "cell_type": "markdown",
   "metadata": {},
   "source": [
    "#### What were the most \"popular\" stocks?"
   ]
  },
  {
   "cell_type": "code",
   "execution_count": 19,
   "metadata": {},
   "outputs": [],
   "source": [
    "# what is the overall sentiment of each ticker?\n",
    "overall_sentiment = {}\n",
    "    \n",
    "for ticker in all_tickers:\n",
    "    mentioned = cleaned_comments['tickers'].apply(lambda x: ticker in x)\n",
    "    senti = mentioned*cleaned_comments['sentiment_score']\n",
    "    overall_sentiment[ticker] = sum(senti)"
   ]
  },
  {
   "cell_type": "code",
   "execution_count": 22,
   "metadata": {},
   "outputs": [],
   "source": [
    "top50_sentiment = dict(heapq.nlargest(50, overall_sentiment.items(), key=lambda i: abs(i[1])))"
   ]
  },
  {
   "cell_type": "markdown",
   "metadata": {},
   "source": [
    "#### What was each stock's earnings result?"
   ]
  },
  {
   "cell_type": "code",
   "execution_count": 56,
   "metadata": {},
   "outputs": [],
   "source": [
    "earnings_surprise = {}\n",
    "\n",
    "for ticker in top50_sentiment:\n",
    "    earnings_surprise[ticker] = q2_earnings_calendar.loc[q2_earnings_calendar['ticker'] == ticker].reset_index()['epssurprisepct'][0]"
   ]
  },
  {
   "cell_type": "markdown",
   "metadata": {},
   "source": [
    "#### How did each stock move?\n",
    "\n",
    "Since we don't know from the data whether the earnings announcement was before market (stock movement same day) or after market (stock movement next day), we just calculate both and take the larger (in absolute value) movement."
   ]
  },
  {
   "cell_type": "code",
   "execution_count": 58,
   "metadata": {},
   "outputs": [],
   "source": [
    "# how did each stock price react to earnings?\n",
    "holidays = [datetime(2020, 7, 3), datetime(2020, 9, 7)]\n",
    "earnings_movement = {}\n",
    "\n",
    "for ticker in top50_sentiment:\n",
    "    # get earnings date, plus previous and next days.\n",
    "    earn_date = q2_earnings_calendar.loc[q2_earnings_calendar['ticker'] == ticker].reset_index()['startdatetime'][0]\n",
    "    prev_date = earn_date - CustomBusinessDay(1, holidays=holidays)\n",
    "    next_date = earn_date + CustomBusinessDay(1, holidays=holidays)\n",
    "    \n",
    "    # change back to strings\n",
    "    earn_date = str(earn_date)[:10]\n",
    "    prev_date = str(prev_date)[:10]\n",
    "    next_date = str(next_date)[:10]\n",
    "    \n",
    "    # calculate price movements\n",
    "    prev_close = historical_prices.loc[prev_date][ticker]\n",
    "    earn_close = historical_prices.loc[earn_date][ticker]\n",
    "    next_close = historical_prices.loc[next_date][ticker]\n",
    "    \n",
    "    same_day_movement = (earn_close - prev_close)/prev_close\n",
    "    next_day_movement = (next_close - earn_close)/earn_close\n",
    "    \n",
    "    if abs(same_day_movement) > abs(next_day_movement):\n",
    "        earnings_movement[ticker] = same_day_movement\n",
    "    else:\n",
    "        earnings_movement[ticker] = next_day_movement"
   ]
  },
  {
   "cell_type": "markdown",
   "metadata": {},
   "source": [
    "#### Aggregate Data and create visualizations"
   ]
  },
  {
   "cell_type": "code",
   "execution_count": 59,
   "metadata": {},
   "outputs": [],
   "source": [
    "data = pd.DataFrame([top50_sentiment, earnings_surprise, earnings_movement],\n",
    "                    index = [\"WSB sentiment\", \"earnings surprise\", \"earnings movement\"])"
   ]
  },
  {
   "cell_type": "code",
   "execution_count": 60,
   "metadata": {
    "scrolled": true
   },
   "outputs": [],
   "source": [
    "data.loc['earnings movement'] = data.loc['earnings movement'].apply(lambda x: 100*x) # change to percentage movement"
   ]
  },
  {
   "cell_type": "code",
   "execution_count": 61,
   "metadata": {},
   "outputs": [],
   "source": [
    "# transpose for use with plotly\n",
    "data = data.T\n",
    "data['ticker'] = data.index"
   ]
  },
  {
   "cell_type": "markdown",
   "metadata": {},
   "source": [
    "#### Sentiment bar chart"
   ]
  },
  {
   "cell_type": "code",
   "execution_count": 69,
   "metadata": {},
   "outputs": [],
   "source": [
    "data = data.sort_values(by='WSB sentiment', ascending = False)"
   ]
  },
  {
   "cell_type": "code",
   "execution_count": 83,
   "metadata": {},
   "outputs": [
    {
     "data": {
      "application/vnd.plotly.v1+json": {
       "config": {
        "plotlyServerURL": "https://plot.ly"
       },
       "data": [
        {
         "alignmentgroup": "True",
         "hoverlabel": {
          "namelength": 0
         },
         "hovertemplate": "colours=orange<br>ticker=%{x}<br>WSB sentiment=%{y}",
         "legendgroup": "colours=orange",
         "marker": {
          "color": "#636efa"
         },
         "name": "colours=orange",
         "offsetgroup": "colours=orange",
         "orientation": "v",
         "showlegend": true,
         "textposition": "auto",
         "type": "bar",
         "x": [
          "CHGG",
          "PRPL",
          "NVDA",
          "ETSY",
          "ATVI",
          "FSLY",
          "NET",
          "HD",
          "NIO",
          "BABA",
          "AMZN",
          "LOW",
          "CVS",
          "SQ",
          "DOCU",
          "W",
          "WMT",
          "LEVI",
          "WDFC",
          "DDOG",
          "TWLO",
          "SE",
          "JD",
          "ZNGA",
          "NFLX",
          "TGT",
          "SWBI",
          "LVGO",
          "DIS",
          "EBAY",
          "SJM",
          "WEN",
          "UPS",
          "BLNK",
          "CHWY",
          "CLX",
          "AAPL",
          "MMM",
          "BYND",
          "PTON",
          "MSFT",
          "TSCO",
          "BLK",
          "MIK",
          "GME",
          "BJ",
          "FVRR"
         ],
         "xaxis": "x",
         "y": [
          27.008298459951018,
          25.657800988634868,
          21.491879609175612,
          20.698344750257814,
          17.649968743218402,
          16.208959597263437,
          14.452087387035823,
          13.238545131693737,
          12.924887572838696,
          12.905599433054158,
          12.716834267248077,
          12.177673171008475,
          12.079692762648273,
          11.486006375618965,
          11.19238956764737,
          10.268130666124037,
          9.95227771670556,
          9.622781093820771,
          9.169518377455928,
          9.038840053813813,
          8.589699882202986,
          7.80057265467065,
          7.705262474866325,
          7.572502985020385,
          7.534762657037537,
          6.907755278982138,
          6.76849321164863,
          6.761572768804056,
          6.684611727667928,
          6.643789733147672,
          6.206575926724928,
          6.09432193254769,
          6.068425588244111,
          6.040254711277414,
          5.991464547107982,
          5.817111159963204,
          5.801110818616762,
          5.278114659230517,
          5.075173815233827,
          5.075173815233827,
          5.043425116919247,
          4.859812404361672,
          4.718498871295094,
          4.499809670330265,
          4.382026634673881,
          4.382026634673881,
          4.1588830833596715
         ],
         "yaxis": "y"
        },
        {
         "alignmentgroup": "True",
         "hoverlabel": {
          "namelength": 0
         },
         "hovertemplate": "colours=blue<br>ticker=%{x}<br>WSB sentiment=%{y}",
         "legendgroup": "colours=blue",
         "marker": {
          "color": "#EF553B"
         },
         "name": "colours=blue",
         "offsetgroup": "colours=blue",
         "orientation": "v",
         "showlegend": true,
         "textposition": "auto",
         "type": "bar",
         "x": [
          "TWTR",
          "LYFT",
          "UBER"
         ],
         "xaxis": "x",
         "y": [
          -4.68213122712422,
          -4.68213122712422,
          -7.377758908227872
         ],
         "yaxis": "y"
        }
       ],
       "layout": {
        "barmode": "relative",
        "height": 600,
        "legend": {
         "tracegroupgap": 0
        },
        "margin": {
         "t": 60
        },
        "showlegend": false,
        "template": {
         "data": {
          "bar": [
           {
            "error_x": {
             "color": "#2a3f5f"
            },
            "error_y": {
             "color": "#2a3f5f"
            },
            "marker": {
             "line": {
              "color": "#E5ECF6",
              "width": 0.5
             }
            },
            "type": "bar"
           }
          ],
          "barpolar": [
           {
            "marker": {
             "line": {
              "color": "#E5ECF6",
              "width": 0.5
             }
            },
            "type": "barpolar"
           }
          ],
          "carpet": [
           {
            "aaxis": {
             "endlinecolor": "#2a3f5f",
             "gridcolor": "white",
             "linecolor": "white",
             "minorgridcolor": "white",
             "startlinecolor": "#2a3f5f"
            },
            "baxis": {
             "endlinecolor": "#2a3f5f",
             "gridcolor": "white",
             "linecolor": "white",
             "minorgridcolor": "white",
             "startlinecolor": "#2a3f5f"
            },
            "type": "carpet"
           }
          ],
          "choropleth": [
           {
            "colorbar": {
             "outlinewidth": 0,
             "ticks": ""
            },
            "type": "choropleth"
           }
          ],
          "contour": [
           {
            "colorbar": {
             "outlinewidth": 0,
             "ticks": ""
            },
            "colorscale": [
             [
              0,
              "#0d0887"
             ],
             [
              0.1111111111111111,
              "#46039f"
             ],
             [
              0.2222222222222222,
              "#7201a8"
             ],
             [
              0.3333333333333333,
              "#9c179e"
             ],
             [
              0.4444444444444444,
              "#bd3786"
             ],
             [
              0.5555555555555556,
              "#d8576b"
             ],
             [
              0.6666666666666666,
              "#ed7953"
             ],
             [
              0.7777777777777778,
              "#fb9f3a"
             ],
             [
              0.8888888888888888,
              "#fdca26"
             ],
             [
              1,
              "#f0f921"
             ]
            ],
            "type": "contour"
           }
          ],
          "contourcarpet": [
           {
            "colorbar": {
             "outlinewidth": 0,
             "ticks": ""
            },
            "type": "contourcarpet"
           }
          ],
          "heatmap": [
           {
            "colorbar": {
             "outlinewidth": 0,
             "ticks": ""
            },
            "colorscale": [
             [
              0,
              "#0d0887"
             ],
             [
              0.1111111111111111,
              "#46039f"
             ],
             [
              0.2222222222222222,
              "#7201a8"
             ],
             [
              0.3333333333333333,
              "#9c179e"
             ],
             [
              0.4444444444444444,
              "#bd3786"
             ],
             [
              0.5555555555555556,
              "#d8576b"
             ],
             [
              0.6666666666666666,
              "#ed7953"
             ],
             [
              0.7777777777777778,
              "#fb9f3a"
             ],
             [
              0.8888888888888888,
              "#fdca26"
             ],
             [
              1,
              "#f0f921"
             ]
            ],
            "type": "heatmap"
           }
          ],
          "heatmapgl": [
           {
            "colorbar": {
             "outlinewidth": 0,
             "ticks": ""
            },
            "colorscale": [
             [
              0,
              "#0d0887"
             ],
             [
              0.1111111111111111,
              "#46039f"
             ],
             [
              0.2222222222222222,
              "#7201a8"
             ],
             [
              0.3333333333333333,
              "#9c179e"
             ],
             [
              0.4444444444444444,
              "#bd3786"
             ],
             [
              0.5555555555555556,
              "#d8576b"
             ],
             [
              0.6666666666666666,
              "#ed7953"
             ],
             [
              0.7777777777777778,
              "#fb9f3a"
             ],
             [
              0.8888888888888888,
              "#fdca26"
             ],
             [
              1,
              "#f0f921"
             ]
            ],
            "type": "heatmapgl"
           }
          ],
          "histogram": [
           {
            "marker": {
             "colorbar": {
              "outlinewidth": 0,
              "ticks": ""
             }
            },
            "type": "histogram"
           }
          ],
          "histogram2d": [
           {
            "colorbar": {
             "outlinewidth": 0,
             "ticks": ""
            },
            "colorscale": [
             [
              0,
              "#0d0887"
             ],
             [
              0.1111111111111111,
              "#46039f"
             ],
             [
              0.2222222222222222,
              "#7201a8"
             ],
             [
              0.3333333333333333,
              "#9c179e"
             ],
             [
              0.4444444444444444,
              "#bd3786"
             ],
             [
              0.5555555555555556,
              "#d8576b"
             ],
             [
              0.6666666666666666,
              "#ed7953"
             ],
             [
              0.7777777777777778,
              "#fb9f3a"
             ],
             [
              0.8888888888888888,
              "#fdca26"
             ],
             [
              1,
              "#f0f921"
             ]
            ],
            "type": "histogram2d"
           }
          ],
          "histogram2dcontour": [
           {
            "colorbar": {
             "outlinewidth": 0,
             "ticks": ""
            },
            "colorscale": [
             [
              0,
              "#0d0887"
             ],
             [
              0.1111111111111111,
              "#46039f"
             ],
             [
              0.2222222222222222,
              "#7201a8"
             ],
             [
              0.3333333333333333,
              "#9c179e"
             ],
             [
              0.4444444444444444,
              "#bd3786"
             ],
             [
              0.5555555555555556,
              "#d8576b"
             ],
             [
              0.6666666666666666,
              "#ed7953"
             ],
             [
              0.7777777777777778,
              "#fb9f3a"
             ],
             [
              0.8888888888888888,
              "#fdca26"
             ],
             [
              1,
              "#f0f921"
             ]
            ],
            "type": "histogram2dcontour"
           }
          ],
          "mesh3d": [
           {
            "colorbar": {
             "outlinewidth": 0,
             "ticks": ""
            },
            "type": "mesh3d"
           }
          ],
          "parcoords": [
           {
            "line": {
             "colorbar": {
              "outlinewidth": 0,
              "ticks": ""
             }
            },
            "type": "parcoords"
           }
          ],
          "scatter": [
           {
            "marker": {
             "colorbar": {
              "outlinewidth": 0,
              "ticks": ""
             }
            },
            "type": "scatter"
           }
          ],
          "scatter3d": [
           {
            "line": {
             "colorbar": {
              "outlinewidth": 0,
              "ticks": ""
             }
            },
            "marker": {
             "colorbar": {
              "outlinewidth": 0,
              "ticks": ""
             }
            },
            "type": "scatter3d"
           }
          ],
          "scattercarpet": [
           {
            "marker": {
             "colorbar": {
              "outlinewidth": 0,
              "ticks": ""
             }
            },
            "type": "scattercarpet"
           }
          ],
          "scattergeo": [
           {
            "marker": {
             "colorbar": {
              "outlinewidth": 0,
              "ticks": ""
             }
            },
            "type": "scattergeo"
           }
          ],
          "scattergl": [
           {
            "marker": {
             "colorbar": {
              "outlinewidth": 0,
              "ticks": ""
             }
            },
            "type": "scattergl"
           }
          ],
          "scattermapbox": [
           {
            "marker": {
             "colorbar": {
              "outlinewidth": 0,
              "ticks": ""
             }
            },
            "type": "scattermapbox"
           }
          ],
          "scatterpolar": [
           {
            "marker": {
             "colorbar": {
              "outlinewidth": 0,
              "ticks": ""
             }
            },
            "type": "scatterpolar"
           }
          ],
          "scatterpolargl": [
           {
            "marker": {
             "colorbar": {
              "outlinewidth": 0,
              "ticks": ""
             }
            },
            "type": "scatterpolargl"
           }
          ],
          "scatterternary": [
           {
            "marker": {
             "colorbar": {
              "outlinewidth": 0,
              "ticks": ""
             }
            },
            "type": "scatterternary"
           }
          ],
          "surface": [
           {
            "colorbar": {
             "outlinewidth": 0,
             "ticks": ""
            },
            "colorscale": [
             [
              0,
              "#0d0887"
             ],
             [
              0.1111111111111111,
              "#46039f"
             ],
             [
              0.2222222222222222,
              "#7201a8"
             ],
             [
              0.3333333333333333,
              "#9c179e"
             ],
             [
              0.4444444444444444,
              "#bd3786"
             ],
             [
              0.5555555555555556,
              "#d8576b"
             ],
             [
              0.6666666666666666,
              "#ed7953"
             ],
             [
              0.7777777777777778,
              "#fb9f3a"
             ],
             [
              0.8888888888888888,
              "#fdca26"
             ],
             [
              1,
              "#f0f921"
             ]
            ],
            "type": "surface"
           }
          ],
          "table": [
           {
            "cells": {
             "fill": {
              "color": "#EBF0F8"
             },
             "line": {
              "color": "white"
             }
            },
            "header": {
             "fill": {
              "color": "#C8D4E3"
             },
             "line": {
              "color": "white"
             }
            },
            "type": "table"
           }
          ]
         },
         "layout": {
          "annotationdefaults": {
           "arrowcolor": "#2a3f5f",
           "arrowhead": 0,
           "arrowwidth": 1
          },
          "colorscale": {
           "diverging": [
            [
             0,
             "#8e0152"
            ],
            [
             0.1,
             "#c51b7d"
            ],
            [
             0.2,
             "#de77ae"
            ],
            [
             0.3,
             "#f1b6da"
            ],
            [
             0.4,
             "#fde0ef"
            ],
            [
             0.5,
             "#f7f7f7"
            ],
            [
             0.6,
             "#e6f5d0"
            ],
            [
             0.7,
             "#b8e186"
            ],
            [
             0.8,
             "#7fbc41"
            ],
            [
             0.9,
             "#4d9221"
            ],
            [
             1,
             "#276419"
            ]
           ],
           "sequential": [
            [
             0,
             "#0d0887"
            ],
            [
             0.1111111111111111,
             "#46039f"
            ],
            [
             0.2222222222222222,
             "#7201a8"
            ],
            [
             0.3333333333333333,
             "#9c179e"
            ],
            [
             0.4444444444444444,
             "#bd3786"
            ],
            [
             0.5555555555555556,
             "#d8576b"
            ],
            [
             0.6666666666666666,
             "#ed7953"
            ],
            [
             0.7777777777777778,
             "#fb9f3a"
            ],
            [
             0.8888888888888888,
             "#fdca26"
            ],
            [
             1,
             "#f0f921"
            ]
           ],
           "sequentialminus": [
            [
             0,
             "#0d0887"
            ],
            [
             0.1111111111111111,
             "#46039f"
            ],
            [
             0.2222222222222222,
             "#7201a8"
            ],
            [
             0.3333333333333333,
             "#9c179e"
            ],
            [
             0.4444444444444444,
             "#bd3786"
            ],
            [
             0.5555555555555556,
             "#d8576b"
            ],
            [
             0.6666666666666666,
             "#ed7953"
            ],
            [
             0.7777777777777778,
             "#fb9f3a"
            ],
            [
             0.8888888888888888,
             "#fdca26"
            ],
            [
             1,
             "#f0f921"
            ]
           ]
          },
          "colorway": [
           "#636efa",
           "#EF553B",
           "#00cc96",
           "#ab63fa",
           "#FFA15A",
           "#19d3f3",
           "#FF6692",
           "#B6E880",
           "#FF97FF",
           "#FECB52"
          ],
          "font": {
           "color": "#2a3f5f"
          },
          "geo": {
           "bgcolor": "white",
           "lakecolor": "white",
           "landcolor": "#E5ECF6",
           "showlakes": true,
           "showland": true,
           "subunitcolor": "white"
          },
          "hoverlabel": {
           "align": "left"
          },
          "hovermode": "closest",
          "mapbox": {
           "style": "light"
          },
          "paper_bgcolor": "white",
          "plot_bgcolor": "#E5ECF6",
          "polar": {
           "angularaxis": {
            "gridcolor": "white",
            "linecolor": "white",
            "ticks": ""
           },
           "bgcolor": "#E5ECF6",
           "radialaxis": {
            "gridcolor": "white",
            "linecolor": "white",
            "ticks": ""
           }
          },
          "scene": {
           "xaxis": {
            "backgroundcolor": "#E5ECF6",
            "gridcolor": "white",
            "gridwidth": 2,
            "linecolor": "white",
            "showbackground": true,
            "ticks": "",
            "zerolinecolor": "white"
           },
           "yaxis": {
            "backgroundcolor": "#E5ECF6",
            "gridcolor": "white",
            "gridwidth": 2,
            "linecolor": "white",
            "showbackground": true,
            "ticks": "",
            "zerolinecolor": "white"
           },
           "zaxis": {
            "backgroundcolor": "#E5ECF6",
            "gridcolor": "white",
            "gridwidth": 2,
            "linecolor": "white",
            "showbackground": true,
            "ticks": "",
            "zerolinecolor": "white"
           }
          },
          "shapedefaults": {
           "line": {
            "color": "#2a3f5f"
           }
          },
          "ternary": {
           "aaxis": {
            "gridcolor": "white",
            "linecolor": "white",
            "ticks": ""
           },
           "baxis": {
            "gridcolor": "white",
            "linecolor": "white",
            "ticks": ""
           },
           "bgcolor": "#E5ECF6",
           "caxis": {
            "gridcolor": "white",
            "linecolor": "white",
            "ticks": ""
           }
          },
          "title": {
           "x": 0.05
          },
          "xaxis": {
           "automargin": true,
           "gridcolor": "white",
           "linecolor": "white",
           "ticks": "",
           "zerolinecolor": "white",
           "zerolinewidth": 2
          },
          "yaxis": {
           "automargin": true,
           "gridcolor": "white",
           "linecolor": "white",
           "ticks": "",
           "zerolinecolor": "white",
           "zerolinewidth": 2
          }
         }
        },
        "xaxis": {
         "anchor": "y",
         "domain": [
          0,
          0.98
         ],
         "title": {
          "text": "ticker"
         }
        },
        "yaxis": {
         "anchor": "x",
         "domain": [
          0,
          1
         ],
         "title": {
          "text": "WSB sentiment"
         }
        }
       }
      },
      "text/html": [
       "<div>\n",
       "        \n",
       "        \n",
       "            <div id=\"f74062fd-c5cf-4b25-a038-2aa45766d18d\" class=\"plotly-graph-div\" style=\"height:600px; width:100%;\"></div>\n",
       "            <script type=\"text/javascript\">\n",
       "                require([\"plotly\"], function(Plotly) {\n",
       "                    window.PLOTLYENV=window.PLOTLYENV || {};\n",
       "                    \n",
       "                if (document.getElementById(\"f74062fd-c5cf-4b25-a038-2aa45766d18d\")) {\n",
       "                    Plotly.newPlot(\n",
       "                        'f74062fd-c5cf-4b25-a038-2aa45766d18d',\n",
       "                        [{\"alignmentgroup\": \"True\", \"hoverlabel\": {\"namelength\": 0}, \"hovertemplate\": \"colours=orange<br>ticker=%{x}<br>WSB sentiment=%{y}\", \"legendgroup\": \"colours=orange\", \"marker\": {\"color\": \"#636efa\"}, \"name\": \"colours=orange\", \"offsetgroup\": \"colours=orange\", \"orientation\": \"v\", \"showlegend\": true, \"textposition\": \"auto\", \"type\": \"bar\", \"x\": [\"CHGG\", \"PRPL\", \"NVDA\", \"ETSY\", \"ATVI\", \"FSLY\", \"NET\", \"HD\", \"NIO\", \"BABA\", \"AMZN\", \"LOW\", \"CVS\", \"SQ\", \"DOCU\", \"W\", \"WMT\", \"LEVI\", \"WDFC\", \"DDOG\", \"TWLO\", \"SE\", \"JD\", \"ZNGA\", \"NFLX\", \"TGT\", \"SWBI\", \"LVGO\", \"DIS\", \"EBAY\", \"SJM\", \"WEN\", \"UPS\", \"BLNK\", \"CHWY\", \"CLX\", \"AAPL\", \"MMM\", \"BYND\", \"PTON\", \"MSFT\", \"TSCO\", \"BLK\", \"MIK\", \"GME\", \"BJ\", \"FVRR\"], \"xaxis\": \"x\", \"y\": [27.008298459951018, 25.657800988634868, 21.491879609175612, 20.698344750257814, 17.649968743218402, 16.208959597263437, 14.452087387035823, 13.238545131693737, 12.924887572838696, 12.905599433054158, 12.716834267248077, 12.177673171008475, 12.079692762648273, 11.486006375618965, 11.19238956764737, 10.268130666124037, 9.95227771670556, 9.622781093820771, 9.169518377455928, 9.038840053813813, 8.589699882202986, 7.80057265467065, 7.705262474866325, 7.572502985020385, 7.534762657037537, 6.907755278982138, 6.76849321164863, 6.761572768804056, 6.684611727667928, 6.643789733147672, 6.206575926724928, 6.09432193254769, 6.068425588244111, 6.040254711277414, 5.991464547107982, 5.817111159963204, 5.801110818616762, 5.278114659230517, 5.075173815233827, 5.075173815233827, 5.043425116919247, 4.859812404361672, 4.718498871295094, 4.499809670330265, 4.382026634673881, 4.382026634673881, 4.1588830833596715], \"yaxis\": \"y\"}, {\"alignmentgroup\": \"True\", \"hoverlabel\": {\"namelength\": 0}, \"hovertemplate\": \"colours=blue<br>ticker=%{x}<br>WSB sentiment=%{y}\", \"legendgroup\": \"colours=blue\", \"marker\": {\"color\": \"#EF553B\"}, \"name\": \"colours=blue\", \"offsetgroup\": \"colours=blue\", \"orientation\": \"v\", \"showlegend\": true, \"textposition\": \"auto\", \"type\": \"bar\", \"x\": [\"TWTR\", \"LYFT\", \"UBER\"], \"xaxis\": \"x\", \"y\": [-4.68213122712422, -4.68213122712422, -7.377758908227872], \"yaxis\": \"y\"}],\n",
       "                        {\"barmode\": \"relative\", \"height\": 600, \"legend\": {\"tracegroupgap\": 0}, \"margin\": {\"t\": 60}, \"showlegend\": false, \"template\": {\"data\": {\"bar\": [{\"error_x\": {\"color\": \"#2a3f5f\"}, \"error_y\": {\"color\": \"#2a3f5f\"}, \"marker\": {\"line\": {\"color\": \"#E5ECF6\", \"width\": 0.5}}, \"type\": \"bar\"}], \"barpolar\": [{\"marker\": {\"line\": {\"color\": \"#E5ECF6\", \"width\": 0.5}}, \"type\": \"barpolar\"}], \"carpet\": [{\"aaxis\": {\"endlinecolor\": \"#2a3f5f\", \"gridcolor\": \"white\", \"linecolor\": \"white\", \"minorgridcolor\": \"white\", \"startlinecolor\": \"#2a3f5f\"}, \"baxis\": {\"endlinecolor\": \"#2a3f5f\", \"gridcolor\": \"white\", \"linecolor\": \"white\", \"minorgridcolor\": \"white\", \"startlinecolor\": \"#2a3f5f\"}, \"type\": \"carpet\"}], \"choropleth\": [{\"colorbar\": {\"outlinewidth\": 0, \"ticks\": \"\"}, \"type\": \"choropleth\"}], \"contour\": [{\"colorbar\": {\"outlinewidth\": 0, \"ticks\": \"\"}, \"colorscale\": [[0.0, \"#0d0887\"], [0.1111111111111111, \"#46039f\"], [0.2222222222222222, \"#7201a8\"], [0.3333333333333333, \"#9c179e\"], [0.4444444444444444, \"#bd3786\"], [0.5555555555555556, \"#d8576b\"], [0.6666666666666666, \"#ed7953\"], [0.7777777777777778, \"#fb9f3a\"], [0.8888888888888888, \"#fdca26\"], [1.0, \"#f0f921\"]], \"type\": \"contour\"}], \"contourcarpet\": [{\"colorbar\": {\"outlinewidth\": 0, \"ticks\": \"\"}, \"type\": \"contourcarpet\"}], \"heatmap\": [{\"colorbar\": {\"outlinewidth\": 0, \"ticks\": \"\"}, \"colorscale\": [[0.0, \"#0d0887\"], [0.1111111111111111, \"#46039f\"], [0.2222222222222222, \"#7201a8\"], [0.3333333333333333, \"#9c179e\"], [0.4444444444444444, \"#bd3786\"], [0.5555555555555556, \"#d8576b\"], [0.6666666666666666, \"#ed7953\"], [0.7777777777777778, \"#fb9f3a\"], [0.8888888888888888, \"#fdca26\"], [1.0, \"#f0f921\"]], \"type\": \"heatmap\"}], \"heatmapgl\": [{\"colorbar\": {\"outlinewidth\": 0, \"ticks\": \"\"}, \"colorscale\": [[0.0, \"#0d0887\"], [0.1111111111111111, \"#46039f\"], [0.2222222222222222, \"#7201a8\"], [0.3333333333333333, \"#9c179e\"], [0.4444444444444444, \"#bd3786\"], [0.5555555555555556, \"#d8576b\"], [0.6666666666666666, \"#ed7953\"], [0.7777777777777778, \"#fb9f3a\"], [0.8888888888888888, \"#fdca26\"], [1.0, \"#f0f921\"]], \"type\": \"heatmapgl\"}], \"histogram\": [{\"marker\": {\"colorbar\": {\"outlinewidth\": 0, \"ticks\": \"\"}}, \"type\": \"histogram\"}], \"histogram2d\": [{\"colorbar\": {\"outlinewidth\": 0, \"ticks\": \"\"}, \"colorscale\": [[0.0, \"#0d0887\"], [0.1111111111111111, \"#46039f\"], [0.2222222222222222, \"#7201a8\"], [0.3333333333333333, \"#9c179e\"], [0.4444444444444444, \"#bd3786\"], [0.5555555555555556, \"#d8576b\"], [0.6666666666666666, \"#ed7953\"], [0.7777777777777778, \"#fb9f3a\"], [0.8888888888888888, \"#fdca26\"], [1.0, \"#f0f921\"]], \"type\": \"histogram2d\"}], \"histogram2dcontour\": [{\"colorbar\": {\"outlinewidth\": 0, \"ticks\": \"\"}, \"colorscale\": [[0.0, \"#0d0887\"], [0.1111111111111111, \"#46039f\"], [0.2222222222222222, \"#7201a8\"], [0.3333333333333333, \"#9c179e\"], [0.4444444444444444, \"#bd3786\"], [0.5555555555555556, \"#d8576b\"], [0.6666666666666666, \"#ed7953\"], [0.7777777777777778, \"#fb9f3a\"], [0.8888888888888888, \"#fdca26\"], [1.0, \"#f0f921\"]], \"type\": \"histogram2dcontour\"}], \"mesh3d\": [{\"colorbar\": {\"outlinewidth\": 0, \"ticks\": \"\"}, \"type\": \"mesh3d\"}], \"parcoords\": [{\"line\": {\"colorbar\": {\"outlinewidth\": 0, \"ticks\": \"\"}}, \"type\": \"parcoords\"}], \"scatter\": [{\"marker\": {\"colorbar\": {\"outlinewidth\": 0, \"ticks\": \"\"}}, \"type\": \"scatter\"}], \"scatter3d\": [{\"line\": {\"colorbar\": {\"outlinewidth\": 0, \"ticks\": \"\"}}, \"marker\": {\"colorbar\": {\"outlinewidth\": 0, \"ticks\": \"\"}}, \"type\": \"scatter3d\"}], \"scattercarpet\": [{\"marker\": {\"colorbar\": {\"outlinewidth\": 0, \"ticks\": \"\"}}, \"type\": \"scattercarpet\"}], \"scattergeo\": [{\"marker\": {\"colorbar\": {\"outlinewidth\": 0, \"ticks\": \"\"}}, \"type\": \"scattergeo\"}], \"scattergl\": [{\"marker\": {\"colorbar\": {\"outlinewidth\": 0, \"ticks\": \"\"}}, \"type\": \"scattergl\"}], \"scattermapbox\": [{\"marker\": {\"colorbar\": {\"outlinewidth\": 0, \"ticks\": \"\"}}, \"type\": \"scattermapbox\"}], \"scatterpolar\": [{\"marker\": {\"colorbar\": {\"outlinewidth\": 0, \"ticks\": \"\"}}, \"type\": \"scatterpolar\"}], \"scatterpolargl\": [{\"marker\": {\"colorbar\": {\"outlinewidth\": 0, \"ticks\": \"\"}}, \"type\": \"scatterpolargl\"}], \"scatterternary\": [{\"marker\": {\"colorbar\": {\"outlinewidth\": 0, \"ticks\": \"\"}}, \"type\": \"scatterternary\"}], \"surface\": [{\"colorbar\": {\"outlinewidth\": 0, \"ticks\": \"\"}, \"colorscale\": [[0.0, \"#0d0887\"], [0.1111111111111111, \"#46039f\"], [0.2222222222222222, \"#7201a8\"], [0.3333333333333333, \"#9c179e\"], [0.4444444444444444, \"#bd3786\"], [0.5555555555555556, \"#d8576b\"], [0.6666666666666666, \"#ed7953\"], [0.7777777777777778, \"#fb9f3a\"], [0.8888888888888888, \"#fdca26\"], [1.0, \"#f0f921\"]], \"type\": \"surface\"}], \"table\": [{\"cells\": {\"fill\": {\"color\": \"#EBF0F8\"}, \"line\": {\"color\": \"white\"}}, \"header\": {\"fill\": {\"color\": \"#C8D4E3\"}, \"line\": {\"color\": \"white\"}}, \"type\": \"table\"}]}, \"layout\": {\"annotationdefaults\": {\"arrowcolor\": \"#2a3f5f\", \"arrowhead\": 0, \"arrowwidth\": 1}, \"colorscale\": {\"diverging\": [[0, \"#8e0152\"], [0.1, \"#c51b7d\"], [0.2, \"#de77ae\"], [0.3, \"#f1b6da\"], [0.4, \"#fde0ef\"], [0.5, \"#f7f7f7\"], [0.6, \"#e6f5d0\"], [0.7, \"#b8e186\"], [0.8, \"#7fbc41\"], [0.9, \"#4d9221\"], [1, \"#276419\"]], \"sequential\": [[0.0, \"#0d0887\"], [0.1111111111111111, \"#46039f\"], [0.2222222222222222, \"#7201a8\"], [0.3333333333333333, \"#9c179e\"], [0.4444444444444444, \"#bd3786\"], [0.5555555555555556, \"#d8576b\"], [0.6666666666666666, \"#ed7953\"], [0.7777777777777778, \"#fb9f3a\"], [0.8888888888888888, \"#fdca26\"], [1.0, \"#f0f921\"]], \"sequentialminus\": [[0.0, \"#0d0887\"], [0.1111111111111111, \"#46039f\"], [0.2222222222222222, \"#7201a8\"], [0.3333333333333333, \"#9c179e\"], [0.4444444444444444, \"#bd3786\"], [0.5555555555555556, \"#d8576b\"], [0.6666666666666666, \"#ed7953\"], [0.7777777777777778, \"#fb9f3a\"], [0.8888888888888888, \"#fdca26\"], [1.0, \"#f0f921\"]]}, \"colorway\": [\"#636efa\", \"#EF553B\", \"#00cc96\", \"#ab63fa\", \"#FFA15A\", \"#19d3f3\", \"#FF6692\", \"#B6E880\", \"#FF97FF\", \"#FECB52\"], \"font\": {\"color\": \"#2a3f5f\"}, \"geo\": {\"bgcolor\": \"white\", \"lakecolor\": \"white\", \"landcolor\": \"#E5ECF6\", \"showlakes\": true, \"showland\": true, \"subunitcolor\": \"white\"}, \"hoverlabel\": {\"align\": \"left\"}, \"hovermode\": \"closest\", \"mapbox\": {\"style\": \"light\"}, \"paper_bgcolor\": \"white\", \"plot_bgcolor\": \"#E5ECF6\", \"polar\": {\"angularaxis\": {\"gridcolor\": \"white\", \"linecolor\": \"white\", \"ticks\": \"\"}, \"bgcolor\": \"#E5ECF6\", \"radialaxis\": {\"gridcolor\": \"white\", \"linecolor\": \"white\", \"ticks\": \"\"}}, \"scene\": {\"xaxis\": {\"backgroundcolor\": \"#E5ECF6\", \"gridcolor\": \"white\", \"gridwidth\": 2, \"linecolor\": \"white\", \"showbackground\": true, \"ticks\": \"\", \"zerolinecolor\": \"white\"}, \"yaxis\": {\"backgroundcolor\": \"#E5ECF6\", \"gridcolor\": \"white\", \"gridwidth\": 2, \"linecolor\": \"white\", \"showbackground\": true, \"ticks\": \"\", \"zerolinecolor\": \"white\"}, \"zaxis\": {\"backgroundcolor\": \"#E5ECF6\", \"gridcolor\": \"white\", \"gridwidth\": 2, \"linecolor\": \"white\", \"showbackground\": true, \"ticks\": \"\", \"zerolinecolor\": \"white\"}}, \"shapedefaults\": {\"line\": {\"color\": \"#2a3f5f\"}}, \"ternary\": {\"aaxis\": {\"gridcolor\": \"white\", \"linecolor\": \"white\", \"ticks\": \"\"}, \"baxis\": {\"gridcolor\": \"white\", \"linecolor\": \"white\", \"ticks\": \"\"}, \"bgcolor\": \"#E5ECF6\", \"caxis\": {\"gridcolor\": \"white\", \"linecolor\": \"white\", \"ticks\": \"\"}}, \"title\": {\"x\": 0.05}, \"xaxis\": {\"automargin\": true, \"gridcolor\": \"white\", \"linecolor\": \"white\", \"ticks\": \"\", \"zerolinecolor\": \"white\", \"zerolinewidth\": 2}, \"yaxis\": {\"automargin\": true, \"gridcolor\": \"white\", \"linecolor\": \"white\", \"ticks\": \"\", \"zerolinecolor\": \"white\", \"zerolinewidth\": 2}}}, \"xaxis\": {\"anchor\": \"y\", \"domain\": [0.0, 0.98], \"title\": {\"text\": \"ticker\"}}, \"yaxis\": {\"anchor\": \"x\", \"domain\": [0.0, 1.0], \"title\": {\"text\": \"WSB sentiment\"}}},\n",
       "                        {\"responsive\": true}\n",
       "                    ).then(function(){\n",
       "                            \n",
       "var gd = document.getElementById('f74062fd-c5cf-4b25-a038-2aa45766d18d');\n",
       "var x = new MutationObserver(function (mutations, observer) {{\n",
       "        var display = window.getComputedStyle(gd).display;\n",
       "        if (!display || display === 'none') {{\n",
       "            console.log([gd, 'removed!']);\n",
       "            Plotly.purge(gd);\n",
       "            observer.disconnect();\n",
       "        }}\n",
       "}});\n",
       "\n",
       "// Listen for the removal of the full notebook cells\n",
       "var notebookContainer = gd.closest('#notebook-container');\n",
       "if (notebookContainer) {{\n",
       "    x.observe(notebookContainer, {childList: true});\n",
       "}}\n",
       "\n",
       "// Listen for the clearing of the current output cell\n",
       "var outputEl = gd.closest('.output');\n",
       "if (outputEl) {{\n",
       "    x.observe(outputEl, {childList: true});\n",
       "}}\n",
       "\n",
       "                        })\n",
       "                };\n",
       "                });\n",
       "            </script>\n",
       "        </div>"
      ]
     },
     "metadata": {},
     "output_type": "display_data"
    }
   ],
   "source": [
    "fig = px.bar(data, x='ticker', y='WSB sentiment', color='colours')\n",
    "fig.update_layout(showlegend=False)\n",
    "fig.show()"
   ]
  },
  {
   "cell_type": "markdown",
   "metadata": {},
   "source": [
    "#### Compare with earnings surprise"
   ]
  },
  {
   "cell_type": "markdown",
   "metadata": {},
   "source": [
    "Not shown: TWTR with huge negative earnings surprise"
   ]
  },
  {
   "cell_type": "code",
   "execution_count": 98,
   "metadata": {
    "scrolled": true
   },
   "outputs": [
    {
     "data": {
      "application/vnd.plotly.v1+json": {
       "config": {
        "plotlyServerURL": "https://plot.ly"
       },
       "data": [
        {
         "hoverlabel": {
          "namelength": 0
         },
         "hovertemplate": "earnings surprise (%)=%{x}<br>WSB sentiment=%{y}<br>ticker=%{text}",
         "legendgroup": "",
         "marker": {
          "color": "#636efa",
          "symbol": "circle"
         },
         "mode": "markers+text",
         "name": "",
         "showlegend": false,
         "text": [
          "CHGG",
          "PRPL",
          "NVDA",
          "ETSY",
          "ATVI",
          "FSLY",
          "NET",
          "HD",
          "NIO",
          "BABA",
          "AMZN",
          "LOW",
          "CVS",
          "SQ",
          "DOCU",
          "W",
          "WMT",
          "LEVI",
          "WDFC",
          "DDOG",
          "TWLO",
          "SE",
          "JD",
          "ZNGA",
          "NFLX",
          "TGT",
          "SWBI",
          "LVGO",
          "DIS",
          "EBAY",
          "SJM",
          "WEN",
          "UPS",
          "BLNK",
          "CHWY",
          "CLX",
          "AAPL",
          "MMM",
          "BYND",
          "PTON",
          "MSFT",
          "TSCO",
          "BLK",
          "MIK",
          "GME",
          "BJ",
          "FVRR",
          "LYFT",
          "UBER"
         ],
         "textfont": {
          "size": 8
         },
         "textposition": "top center",
         "type": "scatter",
         "x": [
          17.09,
          -156.7,
          10.77,
          92.31,
          41.61,
          253.85,
          49.15,
          8.3,
          41.21,
          7.59,
          605.48,
          27.25,
          36.86,
          467.35,
          117.95,
          201.54,
          24.9,
          2.44,
          -1.4,
          525,
          201.12,
          -65.85,
          31.76,
          20.48,
          -12.25,
          108.38,
          100.83,
          900,
          112.48,
          2.18,
          41.58,
          11.11,
          98.69,
          -10,
          48.72,
          20.86,
          26.22,
          -1.17,
          -25,
          175.51,
          8.71,
          15.13,
          12.26,
          457.14,
          -23.35,
          27.91,
          266.67,
          14.43,
          -18.06
         ],
         "xaxis": "x",
         "y": [
          27.008298459951018,
          25.657800988634868,
          21.491879609175612,
          20.698344750257814,
          17.649968743218402,
          16.208959597263437,
          14.452087387035823,
          13.238545131693737,
          12.924887572838696,
          12.905599433054158,
          12.716834267248077,
          12.177673171008475,
          12.079692762648273,
          11.486006375618965,
          11.19238956764737,
          10.268130666124037,
          9.95227771670556,
          9.622781093820771,
          9.169518377455928,
          9.038840053813813,
          8.589699882202986,
          7.80057265467065,
          7.705262474866325,
          7.572502985020385,
          7.534762657037537,
          6.907755278982138,
          6.76849321164863,
          6.761572768804056,
          6.684611727667928,
          6.643789733147672,
          6.206575926724928,
          6.09432193254769,
          6.068425588244111,
          6.040254711277414,
          5.991464547107982,
          5.817111159963204,
          5.801110818616762,
          5.278114659230517,
          5.075173815233827,
          5.075173815233827,
          5.043425116919247,
          4.859812404361672,
          4.718498871295094,
          4.499809670330265,
          4.382026634673881,
          4.382026634673881,
          4.1588830833596715,
          -4.68213122712422,
          -7.377758908227872
         ],
         "yaxis": "y"
        }
       ],
       "layout": {
        "height": 600,
        "legend": {
         "tracegroupgap": 0
        },
        "margin": {
         "t": 60
        },
        "template": {
         "data": {
          "bar": [
           {
            "error_x": {
             "color": "#2a3f5f"
            },
            "error_y": {
             "color": "#2a3f5f"
            },
            "marker": {
             "line": {
              "color": "#E5ECF6",
              "width": 0.5
             }
            },
            "type": "bar"
           }
          ],
          "barpolar": [
           {
            "marker": {
             "line": {
              "color": "#E5ECF6",
              "width": 0.5
             }
            },
            "type": "barpolar"
           }
          ],
          "carpet": [
           {
            "aaxis": {
             "endlinecolor": "#2a3f5f",
             "gridcolor": "white",
             "linecolor": "white",
             "minorgridcolor": "white",
             "startlinecolor": "#2a3f5f"
            },
            "baxis": {
             "endlinecolor": "#2a3f5f",
             "gridcolor": "white",
             "linecolor": "white",
             "minorgridcolor": "white",
             "startlinecolor": "#2a3f5f"
            },
            "type": "carpet"
           }
          ],
          "choropleth": [
           {
            "colorbar": {
             "outlinewidth": 0,
             "ticks": ""
            },
            "type": "choropleth"
           }
          ],
          "contour": [
           {
            "colorbar": {
             "outlinewidth": 0,
             "ticks": ""
            },
            "colorscale": [
             [
              0,
              "#0d0887"
             ],
             [
              0.1111111111111111,
              "#46039f"
             ],
             [
              0.2222222222222222,
              "#7201a8"
             ],
             [
              0.3333333333333333,
              "#9c179e"
             ],
             [
              0.4444444444444444,
              "#bd3786"
             ],
             [
              0.5555555555555556,
              "#d8576b"
             ],
             [
              0.6666666666666666,
              "#ed7953"
             ],
             [
              0.7777777777777778,
              "#fb9f3a"
             ],
             [
              0.8888888888888888,
              "#fdca26"
             ],
             [
              1,
              "#f0f921"
             ]
            ],
            "type": "contour"
           }
          ],
          "contourcarpet": [
           {
            "colorbar": {
             "outlinewidth": 0,
             "ticks": ""
            },
            "type": "contourcarpet"
           }
          ],
          "heatmap": [
           {
            "colorbar": {
             "outlinewidth": 0,
             "ticks": ""
            },
            "colorscale": [
             [
              0,
              "#0d0887"
             ],
             [
              0.1111111111111111,
              "#46039f"
             ],
             [
              0.2222222222222222,
              "#7201a8"
             ],
             [
              0.3333333333333333,
              "#9c179e"
             ],
             [
              0.4444444444444444,
              "#bd3786"
             ],
             [
              0.5555555555555556,
              "#d8576b"
             ],
             [
              0.6666666666666666,
              "#ed7953"
             ],
             [
              0.7777777777777778,
              "#fb9f3a"
             ],
             [
              0.8888888888888888,
              "#fdca26"
             ],
             [
              1,
              "#f0f921"
             ]
            ],
            "type": "heatmap"
           }
          ],
          "heatmapgl": [
           {
            "colorbar": {
             "outlinewidth": 0,
             "ticks": ""
            },
            "colorscale": [
             [
              0,
              "#0d0887"
             ],
             [
              0.1111111111111111,
              "#46039f"
             ],
             [
              0.2222222222222222,
              "#7201a8"
             ],
             [
              0.3333333333333333,
              "#9c179e"
             ],
             [
              0.4444444444444444,
              "#bd3786"
             ],
             [
              0.5555555555555556,
              "#d8576b"
             ],
             [
              0.6666666666666666,
              "#ed7953"
             ],
             [
              0.7777777777777778,
              "#fb9f3a"
             ],
             [
              0.8888888888888888,
              "#fdca26"
             ],
             [
              1,
              "#f0f921"
             ]
            ],
            "type": "heatmapgl"
           }
          ],
          "histogram": [
           {
            "marker": {
             "colorbar": {
              "outlinewidth": 0,
              "ticks": ""
             }
            },
            "type": "histogram"
           }
          ],
          "histogram2d": [
           {
            "colorbar": {
             "outlinewidth": 0,
             "ticks": ""
            },
            "colorscale": [
             [
              0,
              "#0d0887"
             ],
             [
              0.1111111111111111,
              "#46039f"
             ],
             [
              0.2222222222222222,
              "#7201a8"
             ],
             [
              0.3333333333333333,
              "#9c179e"
             ],
             [
              0.4444444444444444,
              "#bd3786"
             ],
             [
              0.5555555555555556,
              "#d8576b"
             ],
             [
              0.6666666666666666,
              "#ed7953"
             ],
             [
              0.7777777777777778,
              "#fb9f3a"
             ],
             [
              0.8888888888888888,
              "#fdca26"
             ],
             [
              1,
              "#f0f921"
             ]
            ],
            "type": "histogram2d"
           }
          ],
          "histogram2dcontour": [
           {
            "colorbar": {
             "outlinewidth": 0,
             "ticks": ""
            },
            "colorscale": [
             [
              0,
              "#0d0887"
             ],
             [
              0.1111111111111111,
              "#46039f"
             ],
             [
              0.2222222222222222,
              "#7201a8"
             ],
             [
              0.3333333333333333,
              "#9c179e"
             ],
             [
              0.4444444444444444,
              "#bd3786"
             ],
             [
              0.5555555555555556,
              "#d8576b"
             ],
             [
              0.6666666666666666,
              "#ed7953"
             ],
             [
              0.7777777777777778,
              "#fb9f3a"
             ],
             [
              0.8888888888888888,
              "#fdca26"
             ],
             [
              1,
              "#f0f921"
             ]
            ],
            "type": "histogram2dcontour"
           }
          ],
          "mesh3d": [
           {
            "colorbar": {
             "outlinewidth": 0,
             "ticks": ""
            },
            "type": "mesh3d"
           }
          ],
          "parcoords": [
           {
            "line": {
             "colorbar": {
              "outlinewidth": 0,
              "ticks": ""
             }
            },
            "type": "parcoords"
           }
          ],
          "scatter": [
           {
            "marker": {
             "colorbar": {
              "outlinewidth": 0,
              "ticks": ""
             }
            },
            "type": "scatter"
           }
          ],
          "scatter3d": [
           {
            "line": {
             "colorbar": {
              "outlinewidth": 0,
              "ticks": ""
             }
            },
            "marker": {
             "colorbar": {
              "outlinewidth": 0,
              "ticks": ""
             }
            },
            "type": "scatter3d"
           }
          ],
          "scattercarpet": [
           {
            "marker": {
             "colorbar": {
              "outlinewidth": 0,
              "ticks": ""
             }
            },
            "type": "scattercarpet"
           }
          ],
          "scattergeo": [
           {
            "marker": {
             "colorbar": {
              "outlinewidth": 0,
              "ticks": ""
             }
            },
            "type": "scattergeo"
           }
          ],
          "scattergl": [
           {
            "marker": {
             "colorbar": {
              "outlinewidth": 0,
              "ticks": ""
             }
            },
            "type": "scattergl"
           }
          ],
          "scattermapbox": [
           {
            "marker": {
             "colorbar": {
              "outlinewidth": 0,
              "ticks": ""
             }
            },
            "type": "scattermapbox"
           }
          ],
          "scatterpolar": [
           {
            "marker": {
             "colorbar": {
              "outlinewidth": 0,
              "ticks": ""
             }
            },
            "type": "scatterpolar"
           }
          ],
          "scatterpolargl": [
           {
            "marker": {
             "colorbar": {
              "outlinewidth": 0,
              "ticks": ""
             }
            },
            "type": "scatterpolargl"
           }
          ],
          "scatterternary": [
           {
            "marker": {
             "colorbar": {
              "outlinewidth": 0,
              "ticks": ""
             }
            },
            "type": "scatterternary"
           }
          ],
          "surface": [
           {
            "colorbar": {
             "outlinewidth": 0,
             "ticks": ""
            },
            "colorscale": [
             [
              0,
              "#0d0887"
             ],
             [
              0.1111111111111111,
              "#46039f"
             ],
             [
              0.2222222222222222,
              "#7201a8"
             ],
             [
              0.3333333333333333,
              "#9c179e"
             ],
             [
              0.4444444444444444,
              "#bd3786"
             ],
             [
              0.5555555555555556,
              "#d8576b"
             ],
             [
              0.6666666666666666,
              "#ed7953"
             ],
             [
              0.7777777777777778,
              "#fb9f3a"
             ],
             [
              0.8888888888888888,
              "#fdca26"
             ],
             [
              1,
              "#f0f921"
             ]
            ],
            "type": "surface"
           }
          ],
          "table": [
           {
            "cells": {
             "fill": {
              "color": "#EBF0F8"
             },
             "line": {
              "color": "white"
             }
            },
            "header": {
             "fill": {
              "color": "#C8D4E3"
             },
             "line": {
              "color": "white"
             }
            },
            "type": "table"
           }
          ]
         },
         "layout": {
          "annotationdefaults": {
           "arrowcolor": "#2a3f5f",
           "arrowhead": 0,
           "arrowwidth": 1
          },
          "colorscale": {
           "diverging": [
            [
             0,
             "#8e0152"
            ],
            [
             0.1,
             "#c51b7d"
            ],
            [
             0.2,
             "#de77ae"
            ],
            [
             0.3,
             "#f1b6da"
            ],
            [
             0.4,
             "#fde0ef"
            ],
            [
             0.5,
             "#f7f7f7"
            ],
            [
             0.6,
             "#e6f5d0"
            ],
            [
             0.7,
             "#b8e186"
            ],
            [
             0.8,
             "#7fbc41"
            ],
            [
             0.9,
             "#4d9221"
            ],
            [
             1,
             "#276419"
            ]
           ],
           "sequential": [
            [
             0,
             "#0d0887"
            ],
            [
             0.1111111111111111,
             "#46039f"
            ],
            [
             0.2222222222222222,
             "#7201a8"
            ],
            [
             0.3333333333333333,
             "#9c179e"
            ],
            [
             0.4444444444444444,
             "#bd3786"
            ],
            [
             0.5555555555555556,
             "#d8576b"
            ],
            [
             0.6666666666666666,
             "#ed7953"
            ],
            [
             0.7777777777777778,
             "#fb9f3a"
            ],
            [
             0.8888888888888888,
             "#fdca26"
            ],
            [
             1,
             "#f0f921"
            ]
           ],
           "sequentialminus": [
            [
             0,
             "#0d0887"
            ],
            [
             0.1111111111111111,
             "#46039f"
            ],
            [
             0.2222222222222222,
             "#7201a8"
            ],
            [
             0.3333333333333333,
             "#9c179e"
            ],
            [
             0.4444444444444444,
             "#bd3786"
            ],
            [
             0.5555555555555556,
             "#d8576b"
            ],
            [
             0.6666666666666666,
             "#ed7953"
            ],
            [
             0.7777777777777778,
             "#fb9f3a"
            ],
            [
             0.8888888888888888,
             "#fdca26"
            ],
            [
             1,
             "#f0f921"
            ]
           ]
          },
          "colorway": [
           "#636efa",
           "#EF553B",
           "#00cc96",
           "#ab63fa",
           "#FFA15A",
           "#19d3f3",
           "#FF6692",
           "#B6E880",
           "#FF97FF",
           "#FECB52"
          ],
          "font": {
           "color": "#2a3f5f"
          },
          "geo": {
           "bgcolor": "white",
           "lakecolor": "white",
           "landcolor": "#E5ECF6",
           "showlakes": true,
           "showland": true,
           "subunitcolor": "white"
          },
          "hoverlabel": {
           "align": "left"
          },
          "hovermode": "closest",
          "mapbox": {
           "style": "light"
          },
          "paper_bgcolor": "white",
          "plot_bgcolor": "#E5ECF6",
          "polar": {
           "angularaxis": {
            "gridcolor": "white",
            "linecolor": "white",
            "ticks": ""
           },
           "bgcolor": "#E5ECF6",
           "radialaxis": {
            "gridcolor": "white",
            "linecolor": "white",
            "ticks": ""
           }
          },
          "scene": {
           "xaxis": {
            "backgroundcolor": "#E5ECF6",
            "gridcolor": "white",
            "gridwidth": 2,
            "linecolor": "white",
            "showbackground": true,
            "ticks": "",
            "zerolinecolor": "white"
           },
           "yaxis": {
            "backgroundcolor": "#E5ECF6",
            "gridcolor": "white",
            "gridwidth": 2,
            "linecolor": "white",
            "showbackground": true,
            "ticks": "",
            "zerolinecolor": "white"
           },
           "zaxis": {
            "backgroundcolor": "#E5ECF6",
            "gridcolor": "white",
            "gridwidth": 2,
            "linecolor": "white",
            "showbackground": true,
            "ticks": "",
            "zerolinecolor": "white"
           }
          },
          "shapedefaults": {
           "line": {
            "color": "#2a3f5f"
           }
          },
          "ternary": {
           "aaxis": {
            "gridcolor": "white",
            "linecolor": "white",
            "ticks": ""
           },
           "baxis": {
            "gridcolor": "white",
            "linecolor": "white",
            "ticks": ""
           },
           "bgcolor": "#E5ECF6",
           "caxis": {
            "gridcolor": "white",
            "linecolor": "white",
            "ticks": ""
           }
          },
          "title": {
           "x": 0.05
          },
          "xaxis": {
           "automargin": true,
           "gridcolor": "white",
           "linecolor": "white",
           "ticks": "",
           "zerolinecolor": "white",
           "zerolinewidth": 2
          },
          "yaxis": {
           "automargin": true,
           "gridcolor": "white",
           "linecolor": "white",
           "ticks": "",
           "zerolinecolor": "white",
           "zerolinewidth": 2
          }
         }
        },
        "xaxis": {
         "anchor": "y",
         "domain": [
          0,
          0.98
         ],
         "title": {
          "text": "earnings surprise (%)"
         },
         "zeroline": true,
         "zerolinecolor": "LightPink",
         "zerolinewidth": 2
        },
        "yaxis": {
         "anchor": "x",
         "domain": [
          0,
          1
         ],
         "title": {
          "text": "WSB sentiment"
         },
         "zeroline": true,
         "zerolinecolor": "LightPink",
         "zerolinewidth": 2
        }
       }
      },
      "text/html": [
       "<div>\n",
       "        \n",
       "        \n",
       "            <div id=\"2f9c654d-572a-486e-b6c9-ac27e295ce7b\" class=\"plotly-graph-div\" style=\"height:600px; width:100%;\"></div>\n",
       "            <script type=\"text/javascript\">\n",
       "                require([\"plotly\"], function(Plotly) {\n",
       "                    window.PLOTLYENV=window.PLOTLYENV || {};\n",
       "                    \n",
       "                if (document.getElementById(\"2f9c654d-572a-486e-b6c9-ac27e295ce7b\")) {\n",
       "                    Plotly.newPlot(\n",
       "                        '2f9c654d-572a-486e-b6c9-ac27e295ce7b',\n",
       "                        [{\"hoverlabel\": {\"namelength\": 0}, \"hovertemplate\": \"earnings surprise (%)=%{x}<br>WSB sentiment=%{y}<br>ticker=%{text}\", \"legendgroup\": \"\", \"marker\": {\"color\": \"#636efa\", \"symbol\": \"circle\"}, \"mode\": \"markers+text\", \"name\": \"\", \"showlegend\": false, \"text\": [\"CHGG\", \"PRPL\", \"NVDA\", \"ETSY\", \"ATVI\", \"FSLY\", \"NET\", \"HD\", \"NIO\", \"BABA\", \"AMZN\", \"LOW\", \"CVS\", \"SQ\", \"DOCU\", \"W\", \"WMT\", \"LEVI\", \"WDFC\", \"DDOG\", \"TWLO\", \"SE\", \"JD\", \"ZNGA\", \"NFLX\", \"TGT\", \"SWBI\", \"LVGO\", \"DIS\", \"EBAY\", \"SJM\", \"WEN\", \"UPS\", \"BLNK\", \"CHWY\", \"CLX\", \"AAPL\", \"MMM\", \"BYND\", \"PTON\", \"MSFT\", \"TSCO\", \"BLK\", \"MIK\", \"GME\", \"BJ\", \"FVRR\", \"LYFT\", \"UBER\"], \"textfont\": {\"size\": 8}, \"textposition\": \"top center\", \"type\": \"scatter\", \"x\": [17.09, -156.7, 10.77, 92.31, 41.61, 253.85, 49.15, 8.3, 41.21, 7.59, 605.48, 27.25, 36.86, 467.35, 117.95, 201.54, 24.9, 2.44, -1.4, 525.0, 201.12, -65.85, 31.76, 20.48, -12.25, 108.38, 100.83, 900.0, 112.48, 2.18, 41.58, 11.11, 98.69, -10.0, 48.72, 20.86, 26.22, -1.17, -25.0, 175.51, 8.71, 15.13, 12.26, 457.14, -23.35, 27.91, 266.67, 14.43, -18.06], \"xaxis\": \"x\", \"y\": [27.008298459951018, 25.657800988634868, 21.491879609175612, 20.698344750257814, 17.649968743218402, 16.208959597263437, 14.452087387035823, 13.238545131693737, 12.924887572838696, 12.905599433054158, 12.716834267248077, 12.177673171008475, 12.079692762648273, 11.486006375618965, 11.19238956764737, 10.268130666124037, 9.95227771670556, 9.622781093820771, 9.169518377455928, 9.038840053813813, 8.589699882202986, 7.80057265467065, 7.705262474866325, 7.572502985020385, 7.534762657037537, 6.907755278982138, 6.76849321164863, 6.761572768804056, 6.684611727667928, 6.643789733147672, 6.206575926724928, 6.09432193254769, 6.068425588244111, 6.040254711277414, 5.991464547107982, 5.817111159963204, 5.801110818616762, 5.278114659230517, 5.075173815233827, 5.075173815233827, 5.043425116919247, 4.859812404361672, 4.718498871295094, 4.499809670330265, 4.382026634673881, 4.382026634673881, 4.1588830833596715, -4.68213122712422, -7.377758908227872], \"yaxis\": \"y\"}],\n",
       "                        {\"height\": 600, \"legend\": {\"tracegroupgap\": 0}, \"margin\": {\"t\": 60}, \"template\": {\"data\": {\"bar\": [{\"error_x\": {\"color\": \"#2a3f5f\"}, \"error_y\": {\"color\": \"#2a3f5f\"}, \"marker\": {\"line\": {\"color\": \"#E5ECF6\", \"width\": 0.5}}, \"type\": \"bar\"}], \"barpolar\": [{\"marker\": {\"line\": {\"color\": \"#E5ECF6\", \"width\": 0.5}}, \"type\": \"barpolar\"}], \"carpet\": [{\"aaxis\": {\"endlinecolor\": \"#2a3f5f\", \"gridcolor\": \"white\", \"linecolor\": \"white\", \"minorgridcolor\": \"white\", \"startlinecolor\": \"#2a3f5f\"}, \"baxis\": {\"endlinecolor\": \"#2a3f5f\", \"gridcolor\": \"white\", \"linecolor\": \"white\", \"minorgridcolor\": \"white\", \"startlinecolor\": \"#2a3f5f\"}, \"type\": \"carpet\"}], \"choropleth\": [{\"colorbar\": {\"outlinewidth\": 0, \"ticks\": \"\"}, \"type\": \"choropleth\"}], \"contour\": [{\"colorbar\": {\"outlinewidth\": 0, \"ticks\": \"\"}, \"colorscale\": [[0.0, \"#0d0887\"], [0.1111111111111111, \"#46039f\"], [0.2222222222222222, \"#7201a8\"], [0.3333333333333333, \"#9c179e\"], [0.4444444444444444, \"#bd3786\"], [0.5555555555555556, \"#d8576b\"], [0.6666666666666666, \"#ed7953\"], [0.7777777777777778, \"#fb9f3a\"], [0.8888888888888888, \"#fdca26\"], [1.0, \"#f0f921\"]], \"type\": \"contour\"}], \"contourcarpet\": [{\"colorbar\": {\"outlinewidth\": 0, \"ticks\": \"\"}, \"type\": \"contourcarpet\"}], \"heatmap\": [{\"colorbar\": {\"outlinewidth\": 0, \"ticks\": \"\"}, \"colorscale\": [[0.0, \"#0d0887\"], [0.1111111111111111, \"#46039f\"], [0.2222222222222222, \"#7201a8\"], [0.3333333333333333, \"#9c179e\"], [0.4444444444444444, \"#bd3786\"], [0.5555555555555556, \"#d8576b\"], [0.6666666666666666, \"#ed7953\"], [0.7777777777777778, \"#fb9f3a\"], [0.8888888888888888, \"#fdca26\"], [1.0, \"#f0f921\"]], \"type\": \"heatmap\"}], \"heatmapgl\": [{\"colorbar\": {\"outlinewidth\": 0, \"ticks\": \"\"}, \"colorscale\": [[0.0, \"#0d0887\"], [0.1111111111111111, \"#46039f\"], [0.2222222222222222, \"#7201a8\"], [0.3333333333333333, \"#9c179e\"], [0.4444444444444444, \"#bd3786\"], [0.5555555555555556, \"#d8576b\"], [0.6666666666666666, \"#ed7953\"], [0.7777777777777778, \"#fb9f3a\"], [0.8888888888888888, \"#fdca26\"], [1.0, \"#f0f921\"]], \"type\": \"heatmapgl\"}], \"histogram\": [{\"marker\": {\"colorbar\": {\"outlinewidth\": 0, \"ticks\": \"\"}}, \"type\": \"histogram\"}], \"histogram2d\": [{\"colorbar\": {\"outlinewidth\": 0, \"ticks\": \"\"}, \"colorscale\": [[0.0, \"#0d0887\"], [0.1111111111111111, \"#46039f\"], [0.2222222222222222, \"#7201a8\"], [0.3333333333333333, \"#9c179e\"], [0.4444444444444444, \"#bd3786\"], [0.5555555555555556, \"#d8576b\"], [0.6666666666666666, \"#ed7953\"], [0.7777777777777778, \"#fb9f3a\"], [0.8888888888888888, \"#fdca26\"], [1.0, \"#f0f921\"]], \"type\": \"histogram2d\"}], \"histogram2dcontour\": [{\"colorbar\": {\"outlinewidth\": 0, \"ticks\": \"\"}, \"colorscale\": [[0.0, \"#0d0887\"], [0.1111111111111111, \"#46039f\"], [0.2222222222222222, \"#7201a8\"], [0.3333333333333333, \"#9c179e\"], [0.4444444444444444, \"#bd3786\"], [0.5555555555555556, \"#d8576b\"], [0.6666666666666666, \"#ed7953\"], [0.7777777777777778, \"#fb9f3a\"], [0.8888888888888888, \"#fdca26\"], [1.0, \"#f0f921\"]], \"type\": \"histogram2dcontour\"}], \"mesh3d\": [{\"colorbar\": {\"outlinewidth\": 0, \"ticks\": \"\"}, \"type\": \"mesh3d\"}], \"parcoords\": [{\"line\": {\"colorbar\": {\"outlinewidth\": 0, \"ticks\": \"\"}}, \"type\": \"parcoords\"}], \"scatter\": [{\"marker\": {\"colorbar\": {\"outlinewidth\": 0, \"ticks\": \"\"}}, \"type\": \"scatter\"}], \"scatter3d\": [{\"line\": {\"colorbar\": {\"outlinewidth\": 0, \"ticks\": \"\"}}, \"marker\": {\"colorbar\": {\"outlinewidth\": 0, \"ticks\": \"\"}}, \"type\": \"scatter3d\"}], \"scattercarpet\": [{\"marker\": {\"colorbar\": {\"outlinewidth\": 0, \"ticks\": \"\"}}, \"type\": \"scattercarpet\"}], \"scattergeo\": [{\"marker\": {\"colorbar\": {\"outlinewidth\": 0, \"ticks\": \"\"}}, \"type\": \"scattergeo\"}], \"scattergl\": [{\"marker\": {\"colorbar\": {\"outlinewidth\": 0, \"ticks\": \"\"}}, \"type\": \"scattergl\"}], \"scattermapbox\": [{\"marker\": {\"colorbar\": {\"outlinewidth\": 0, \"ticks\": \"\"}}, \"type\": \"scattermapbox\"}], \"scatterpolar\": [{\"marker\": {\"colorbar\": {\"outlinewidth\": 0, \"ticks\": \"\"}}, \"type\": \"scatterpolar\"}], \"scatterpolargl\": [{\"marker\": {\"colorbar\": {\"outlinewidth\": 0, \"ticks\": \"\"}}, \"type\": \"scatterpolargl\"}], \"scatterternary\": [{\"marker\": {\"colorbar\": {\"outlinewidth\": 0, \"ticks\": \"\"}}, \"type\": \"scatterternary\"}], \"surface\": [{\"colorbar\": {\"outlinewidth\": 0, \"ticks\": \"\"}, \"colorscale\": [[0.0, \"#0d0887\"], [0.1111111111111111, \"#46039f\"], [0.2222222222222222, \"#7201a8\"], [0.3333333333333333, \"#9c179e\"], [0.4444444444444444, \"#bd3786\"], [0.5555555555555556, \"#d8576b\"], [0.6666666666666666, \"#ed7953\"], [0.7777777777777778, \"#fb9f3a\"], [0.8888888888888888, \"#fdca26\"], [1.0, \"#f0f921\"]], \"type\": \"surface\"}], \"table\": [{\"cells\": {\"fill\": {\"color\": \"#EBF0F8\"}, \"line\": {\"color\": \"white\"}}, \"header\": {\"fill\": {\"color\": \"#C8D4E3\"}, \"line\": {\"color\": \"white\"}}, \"type\": \"table\"}]}, \"layout\": {\"annotationdefaults\": {\"arrowcolor\": \"#2a3f5f\", \"arrowhead\": 0, \"arrowwidth\": 1}, \"colorscale\": {\"diverging\": [[0, \"#8e0152\"], [0.1, \"#c51b7d\"], [0.2, \"#de77ae\"], [0.3, \"#f1b6da\"], [0.4, \"#fde0ef\"], [0.5, \"#f7f7f7\"], [0.6, \"#e6f5d0\"], [0.7, \"#b8e186\"], [0.8, \"#7fbc41\"], [0.9, \"#4d9221\"], [1, \"#276419\"]], \"sequential\": [[0.0, \"#0d0887\"], [0.1111111111111111, \"#46039f\"], [0.2222222222222222, \"#7201a8\"], [0.3333333333333333, \"#9c179e\"], [0.4444444444444444, \"#bd3786\"], [0.5555555555555556, \"#d8576b\"], [0.6666666666666666, \"#ed7953\"], [0.7777777777777778, \"#fb9f3a\"], [0.8888888888888888, \"#fdca26\"], [1.0, \"#f0f921\"]], \"sequentialminus\": [[0.0, \"#0d0887\"], [0.1111111111111111, \"#46039f\"], [0.2222222222222222, \"#7201a8\"], [0.3333333333333333, \"#9c179e\"], [0.4444444444444444, \"#bd3786\"], [0.5555555555555556, \"#d8576b\"], [0.6666666666666666, \"#ed7953\"], [0.7777777777777778, \"#fb9f3a\"], [0.8888888888888888, \"#fdca26\"], [1.0, \"#f0f921\"]]}, \"colorway\": [\"#636efa\", \"#EF553B\", \"#00cc96\", \"#ab63fa\", \"#FFA15A\", \"#19d3f3\", \"#FF6692\", \"#B6E880\", \"#FF97FF\", \"#FECB52\"], \"font\": {\"color\": \"#2a3f5f\"}, \"geo\": {\"bgcolor\": \"white\", \"lakecolor\": \"white\", \"landcolor\": \"#E5ECF6\", \"showlakes\": true, \"showland\": true, \"subunitcolor\": \"white\"}, \"hoverlabel\": {\"align\": \"left\"}, \"hovermode\": \"closest\", \"mapbox\": {\"style\": \"light\"}, \"paper_bgcolor\": \"white\", \"plot_bgcolor\": \"#E5ECF6\", \"polar\": {\"angularaxis\": {\"gridcolor\": \"white\", \"linecolor\": \"white\", \"ticks\": \"\"}, \"bgcolor\": \"#E5ECF6\", \"radialaxis\": {\"gridcolor\": \"white\", \"linecolor\": \"white\", \"ticks\": \"\"}}, \"scene\": {\"xaxis\": {\"backgroundcolor\": \"#E5ECF6\", \"gridcolor\": \"white\", \"gridwidth\": 2, \"linecolor\": \"white\", \"showbackground\": true, \"ticks\": \"\", \"zerolinecolor\": \"white\"}, \"yaxis\": {\"backgroundcolor\": \"#E5ECF6\", \"gridcolor\": \"white\", \"gridwidth\": 2, \"linecolor\": \"white\", \"showbackground\": true, \"ticks\": \"\", \"zerolinecolor\": \"white\"}, \"zaxis\": {\"backgroundcolor\": \"#E5ECF6\", \"gridcolor\": \"white\", \"gridwidth\": 2, \"linecolor\": \"white\", \"showbackground\": true, \"ticks\": \"\", \"zerolinecolor\": \"white\"}}, \"shapedefaults\": {\"line\": {\"color\": \"#2a3f5f\"}}, \"ternary\": {\"aaxis\": {\"gridcolor\": \"white\", \"linecolor\": \"white\", \"ticks\": \"\"}, \"baxis\": {\"gridcolor\": \"white\", \"linecolor\": \"white\", \"ticks\": \"\"}, \"bgcolor\": \"#E5ECF6\", \"caxis\": {\"gridcolor\": \"white\", \"linecolor\": \"white\", \"ticks\": \"\"}}, \"title\": {\"x\": 0.05}, \"xaxis\": {\"automargin\": true, \"gridcolor\": \"white\", \"linecolor\": \"white\", \"ticks\": \"\", \"zerolinecolor\": \"white\", \"zerolinewidth\": 2}, \"yaxis\": {\"automargin\": true, \"gridcolor\": \"white\", \"linecolor\": \"white\", \"ticks\": \"\", \"zerolinecolor\": \"white\", \"zerolinewidth\": 2}}}, \"xaxis\": {\"anchor\": \"y\", \"domain\": [0.0, 0.98], \"title\": {\"text\": \"earnings surprise (%)\"}, \"zeroline\": true, \"zerolinecolor\": \"LightPink\", \"zerolinewidth\": 2}, \"yaxis\": {\"anchor\": \"x\", \"domain\": [0.0, 1.0], \"title\": {\"text\": \"WSB sentiment\"}, \"zeroline\": true, \"zerolinecolor\": \"LightPink\", \"zerolinewidth\": 2}},\n",
       "                        {\"responsive\": true}\n",
       "                    ).then(function(){\n",
       "                            \n",
       "var gd = document.getElementById('2f9c654d-572a-486e-b6c9-ac27e295ce7b');\n",
       "var x = new MutationObserver(function (mutations, observer) {{\n",
       "        var display = window.getComputedStyle(gd).display;\n",
       "        if (!display || display === 'none') {{\n",
       "            console.log([gd, 'removed!']);\n",
       "            Plotly.purge(gd);\n",
       "            observer.disconnect();\n",
       "        }}\n",
       "}});\n",
       "\n",
       "// Listen for the removal of the full notebook cells\n",
       "var notebookContainer = gd.closest('#notebook-container');\n",
       "if (notebookContainer) {{\n",
       "    x.observe(notebookContainer, {childList: true});\n",
       "}}\n",
       "\n",
       "// Listen for the clearing of the current output cell\n",
       "var outputEl = gd.closest('.output');\n",
       "if (outputEl) {{\n",
       "    x.observe(outputEl, {childList: true});\n",
       "}}\n",
       "\n",
       "                        })\n",
       "                };\n",
       "                });\n",
       "            </script>\n",
       "        </div>"
      ]
     },
     "metadata": {},
     "output_type": "display_data"
    }
   ],
   "source": [
    "fig = px.scatter(data.loc[data['ticker'] != 'TWTR'], x='earnings surprise', y='WSB sentiment', text='ticker',\n",
    "                labels = {'earnings surprise': 'earnings surprise (%)'})\n",
    "fig.update_traces(textposition='top center', textfont_size=8)\n",
    "fig.update_xaxes(zeroline=True, zerolinewidth=2, zerolinecolor='LightPink')\n",
    "fig.update_yaxes(zeroline=True, zerolinewidth=2, zerolinecolor='LightPink')\n",
    "\n",
    "fig.show()"
   ]
  },
  {
   "cell_type": "code",
   "execution_count": 116,
   "metadata": {},
   "outputs": [
    {
     "data": {
      "text/plain": [
       "(0.29728659758448966, 0.03602677789245417)"
      ]
     },
     "execution_count": 116,
     "metadata": {},
     "output_type": "execute_result"
    }
   ],
   "source": [
    "stats.pearsonr(data['earnings surprise'], data['WSB sentiment'])"
   ]
  },
  {
   "cell_type": "markdown",
   "metadata": {},
   "source": [
    "#### Compare with stock movement"
   ]
  },
  {
   "cell_type": "code",
   "execution_count": 112,
   "metadata": {
    "scrolled": false
   },
   "outputs": [
    {
     "data": {
      "application/vnd.plotly.v1+json": {
       "config": {
        "plotlyServerURL": "https://plot.ly"
       },
       "data": [
        {
         "hoverlabel": {
          "namelength": 0
         },
         "hovertemplate": "post-earnings movement (%)=%{x}<br>WSB sentiment=%{y}<br>ticker=%{text}",
         "legendgroup": "",
         "marker": {
          "color": "#636efa",
          "symbol": "circle"
         },
         "mode": "markers+text",
         "name": "",
         "showlegend": false,
         "text": [
          "CHGG",
          "PRPL",
          "NVDA",
          "ETSY",
          "ATVI",
          "FSLY",
          "NET",
          "HD",
          "NIO",
          "BABA",
          "AMZN",
          "LOW",
          "CVS",
          "SQ",
          "DOCU",
          "W",
          "WMT",
          "LEVI",
          "WDFC",
          "DDOG",
          "TWLO",
          "SE",
          "JD",
          "ZNGA",
          "NFLX",
          "TGT",
          "SWBI",
          "LVGO",
          "DIS",
          "EBAY",
          "SJM",
          "WEN",
          "UPS",
          "BLNK",
          "CHWY",
          "CLX",
          "AAPL",
          "MMM",
          "BYND",
          "PTON",
          "MSFT",
          "TSCO",
          "BLK",
          "MIK",
          "GME",
          "BJ",
          "FVRR",
          "TWTR",
          "LYFT",
          "UBER"
         ],
         "textfont": {
          "size": 8
         },
         "textposition": "top center",
         "type": "scatter",
         "x": [
          6.125724354323512,
          -11.334703021122703,
          -0.9970805328626632,
          4.406780497857386,
          -2.463848847436285,
          -17.70106417867521,
          -3.119702898265941,
          -1.1240592704955275,
          -8.585505022897244,
          3.0352314359090276,
          3.696084156633735,
          0.23430758571775057,
          -0.8925851047879756,
          7.103706124848608,
          -10.640056437533884,
          3.749176688579449,
          -1.707373570727523,
          -8.315253975953077,
          -3.2119651233607285,
          -16.364851691303905,
          -1.9911277909558878,
          8.713134535748953,
          7.927814815937182,
          -1.1916572909208862,
          -6.522691643487759,
          12.65157640351329,
          -9.47571493001618,
          -11.39555895648588,
          8.798703737973979,
          -3.2298106029203724,
          6.8678664332630674,
          -5.963879896198661,
          14.375811224529048,
          -3.883068877338094,
          -9.850891922766577,
          2.4918083341956376,
          10.468859069735103,
          -4.845627532224149,
          -6.720560673879633,
          -4.2279191845842234,
          -4.349468638738414,
          0.36301503143989117,
          3.661632775815924,
          -13.624219014585186,
          -15.238093878792652,
          3.6437309490359526,
          17.894839097520688,
          4.0606390248088555,
          -5.373529726077993,
          -5.214628655531839
         ],
         "xaxis": "x",
         "y": [
          27.008298459951018,
          25.657800988634868,
          21.491879609175612,
          20.698344750257814,
          17.649968743218402,
          16.208959597263437,
          14.452087387035823,
          13.238545131693737,
          12.924887572838696,
          12.905599433054158,
          12.716834267248077,
          12.177673171008475,
          12.079692762648273,
          11.486006375618965,
          11.19238956764737,
          10.268130666124037,
          9.95227771670556,
          9.622781093820771,
          9.169518377455928,
          9.038840053813813,
          8.589699882202986,
          7.80057265467065,
          7.705262474866325,
          7.572502985020385,
          7.534762657037537,
          6.907755278982138,
          6.76849321164863,
          6.761572768804056,
          6.684611727667928,
          6.643789733147672,
          6.206575926724928,
          6.09432193254769,
          6.068425588244111,
          6.040254711277414,
          5.991464547107982,
          5.817111159963204,
          5.801110818616762,
          5.278114659230517,
          5.075173815233827,
          5.075173815233827,
          5.043425116919247,
          4.859812404361672,
          4.718498871295094,
          4.499809670330265,
          4.382026634673881,
          4.382026634673881,
          4.1588830833596715,
          -4.68213122712422,
          -4.68213122712422,
          -7.377758908227872
         ],
         "yaxis": "y"
        }
       ],
       "layout": {
        "height": 600,
        "legend": {
         "tracegroupgap": 0
        },
        "margin": {
         "t": 60
        },
        "template": {
         "data": {
          "bar": [
           {
            "error_x": {
             "color": "#2a3f5f"
            },
            "error_y": {
             "color": "#2a3f5f"
            },
            "marker": {
             "line": {
              "color": "#E5ECF6",
              "width": 0.5
             }
            },
            "type": "bar"
           }
          ],
          "barpolar": [
           {
            "marker": {
             "line": {
              "color": "#E5ECF6",
              "width": 0.5
             }
            },
            "type": "barpolar"
           }
          ],
          "carpet": [
           {
            "aaxis": {
             "endlinecolor": "#2a3f5f",
             "gridcolor": "white",
             "linecolor": "white",
             "minorgridcolor": "white",
             "startlinecolor": "#2a3f5f"
            },
            "baxis": {
             "endlinecolor": "#2a3f5f",
             "gridcolor": "white",
             "linecolor": "white",
             "minorgridcolor": "white",
             "startlinecolor": "#2a3f5f"
            },
            "type": "carpet"
           }
          ],
          "choropleth": [
           {
            "colorbar": {
             "outlinewidth": 0,
             "ticks": ""
            },
            "type": "choropleth"
           }
          ],
          "contour": [
           {
            "colorbar": {
             "outlinewidth": 0,
             "ticks": ""
            },
            "colorscale": [
             [
              0,
              "#0d0887"
             ],
             [
              0.1111111111111111,
              "#46039f"
             ],
             [
              0.2222222222222222,
              "#7201a8"
             ],
             [
              0.3333333333333333,
              "#9c179e"
             ],
             [
              0.4444444444444444,
              "#bd3786"
             ],
             [
              0.5555555555555556,
              "#d8576b"
             ],
             [
              0.6666666666666666,
              "#ed7953"
             ],
             [
              0.7777777777777778,
              "#fb9f3a"
             ],
             [
              0.8888888888888888,
              "#fdca26"
             ],
             [
              1,
              "#f0f921"
             ]
            ],
            "type": "contour"
           }
          ],
          "contourcarpet": [
           {
            "colorbar": {
             "outlinewidth": 0,
             "ticks": ""
            },
            "type": "contourcarpet"
           }
          ],
          "heatmap": [
           {
            "colorbar": {
             "outlinewidth": 0,
             "ticks": ""
            },
            "colorscale": [
             [
              0,
              "#0d0887"
             ],
             [
              0.1111111111111111,
              "#46039f"
             ],
             [
              0.2222222222222222,
              "#7201a8"
             ],
             [
              0.3333333333333333,
              "#9c179e"
             ],
             [
              0.4444444444444444,
              "#bd3786"
             ],
             [
              0.5555555555555556,
              "#d8576b"
             ],
             [
              0.6666666666666666,
              "#ed7953"
             ],
             [
              0.7777777777777778,
              "#fb9f3a"
             ],
             [
              0.8888888888888888,
              "#fdca26"
             ],
             [
              1,
              "#f0f921"
             ]
            ],
            "type": "heatmap"
           }
          ],
          "heatmapgl": [
           {
            "colorbar": {
             "outlinewidth": 0,
             "ticks": ""
            },
            "colorscale": [
             [
              0,
              "#0d0887"
             ],
             [
              0.1111111111111111,
              "#46039f"
             ],
             [
              0.2222222222222222,
              "#7201a8"
             ],
             [
              0.3333333333333333,
              "#9c179e"
             ],
             [
              0.4444444444444444,
              "#bd3786"
             ],
             [
              0.5555555555555556,
              "#d8576b"
             ],
             [
              0.6666666666666666,
              "#ed7953"
             ],
             [
              0.7777777777777778,
              "#fb9f3a"
             ],
             [
              0.8888888888888888,
              "#fdca26"
             ],
             [
              1,
              "#f0f921"
             ]
            ],
            "type": "heatmapgl"
           }
          ],
          "histogram": [
           {
            "marker": {
             "colorbar": {
              "outlinewidth": 0,
              "ticks": ""
             }
            },
            "type": "histogram"
           }
          ],
          "histogram2d": [
           {
            "colorbar": {
             "outlinewidth": 0,
             "ticks": ""
            },
            "colorscale": [
             [
              0,
              "#0d0887"
             ],
             [
              0.1111111111111111,
              "#46039f"
             ],
             [
              0.2222222222222222,
              "#7201a8"
             ],
             [
              0.3333333333333333,
              "#9c179e"
             ],
             [
              0.4444444444444444,
              "#bd3786"
             ],
             [
              0.5555555555555556,
              "#d8576b"
             ],
             [
              0.6666666666666666,
              "#ed7953"
             ],
             [
              0.7777777777777778,
              "#fb9f3a"
             ],
             [
              0.8888888888888888,
              "#fdca26"
             ],
             [
              1,
              "#f0f921"
             ]
            ],
            "type": "histogram2d"
           }
          ],
          "histogram2dcontour": [
           {
            "colorbar": {
             "outlinewidth": 0,
             "ticks": ""
            },
            "colorscale": [
             [
              0,
              "#0d0887"
             ],
             [
              0.1111111111111111,
              "#46039f"
             ],
             [
              0.2222222222222222,
              "#7201a8"
             ],
             [
              0.3333333333333333,
              "#9c179e"
             ],
             [
              0.4444444444444444,
              "#bd3786"
             ],
             [
              0.5555555555555556,
              "#d8576b"
             ],
             [
              0.6666666666666666,
              "#ed7953"
             ],
             [
              0.7777777777777778,
              "#fb9f3a"
             ],
             [
              0.8888888888888888,
              "#fdca26"
             ],
             [
              1,
              "#f0f921"
             ]
            ],
            "type": "histogram2dcontour"
           }
          ],
          "mesh3d": [
           {
            "colorbar": {
             "outlinewidth": 0,
             "ticks": ""
            },
            "type": "mesh3d"
           }
          ],
          "parcoords": [
           {
            "line": {
             "colorbar": {
              "outlinewidth": 0,
              "ticks": ""
             }
            },
            "type": "parcoords"
           }
          ],
          "scatter": [
           {
            "marker": {
             "colorbar": {
              "outlinewidth": 0,
              "ticks": ""
             }
            },
            "type": "scatter"
           }
          ],
          "scatter3d": [
           {
            "line": {
             "colorbar": {
              "outlinewidth": 0,
              "ticks": ""
             }
            },
            "marker": {
             "colorbar": {
              "outlinewidth": 0,
              "ticks": ""
             }
            },
            "type": "scatter3d"
           }
          ],
          "scattercarpet": [
           {
            "marker": {
             "colorbar": {
              "outlinewidth": 0,
              "ticks": ""
             }
            },
            "type": "scattercarpet"
           }
          ],
          "scattergeo": [
           {
            "marker": {
             "colorbar": {
              "outlinewidth": 0,
              "ticks": ""
             }
            },
            "type": "scattergeo"
           }
          ],
          "scattergl": [
           {
            "marker": {
             "colorbar": {
              "outlinewidth": 0,
              "ticks": ""
             }
            },
            "type": "scattergl"
           }
          ],
          "scattermapbox": [
           {
            "marker": {
             "colorbar": {
              "outlinewidth": 0,
              "ticks": ""
             }
            },
            "type": "scattermapbox"
           }
          ],
          "scatterpolar": [
           {
            "marker": {
             "colorbar": {
              "outlinewidth": 0,
              "ticks": ""
             }
            },
            "type": "scatterpolar"
           }
          ],
          "scatterpolargl": [
           {
            "marker": {
             "colorbar": {
              "outlinewidth": 0,
              "ticks": ""
             }
            },
            "type": "scatterpolargl"
           }
          ],
          "scatterternary": [
           {
            "marker": {
             "colorbar": {
              "outlinewidth": 0,
              "ticks": ""
             }
            },
            "type": "scatterternary"
           }
          ],
          "surface": [
           {
            "colorbar": {
             "outlinewidth": 0,
             "ticks": ""
            },
            "colorscale": [
             [
              0,
              "#0d0887"
             ],
             [
              0.1111111111111111,
              "#46039f"
             ],
             [
              0.2222222222222222,
              "#7201a8"
             ],
             [
              0.3333333333333333,
              "#9c179e"
             ],
             [
              0.4444444444444444,
              "#bd3786"
             ],
             [
              0.5555555555555556,
              "#d8576b"
             ],
             [
              0.6666666666666666,
              "#ed7953"
             ],
             [
              0.7777777777777778,
              "#fb9f3a"
             ],
             [
              0.8888888888888888,
              "#fdca26"
             ],
             [
              1,
              "#f0f921"
             ]
            ],
            "type": "surface"
           }
          ],
          "table": [
           {
            "cells": {
             "fill": {
              "color": "#EBF0F8"
             },
             "line": {
              "color": "white"
             }
            },
            "header": {
             "fill": {
              "color": "#C8D4E3"
             },
             "line": {
              "color": "white"
             }
            },
            "type": "table"
           }
          ]
         },
         "layout": {
          "annotationdefaults": {
           "arrowcolor": "#2a3f5f",
           "arrowhead": 0,
           "arrowwidth": 1
          },
          "colorscale": {
           "diverging": [
            [
             0,
             "#8e0152"
            ],
            [
             0.1,
             "#c51b7d"
            ],
            [
             0.2,
             "#de77ae"
            ],
            [
             0.3,
             "#f1b6da"
            ],
            [
             0.4,
             "#fde0ef"
            ],
            [
             0.5,
             "#f7f7f7"
            ],
            [
             0.6,
             "#e6f5d0"
            ],
            [
             0.7,
             "#b8e186"
            ],
            [
             0.8,
             "#7fbc41"
            ],
            [
             0.9,
             "#4d9221"
            ],
            [
             1,
             "#276419"
            ]
           ],
           "sequential": [
            [
             0,
             "#0d0887"
            ],
            [
             0.1111111111111111,
             "#46039f"
            ],
            [
             0.2222222222222222,
             "#7201a8"
            ],
            [
             0.3333333333333333,
             "#9c179e"
            ],
            [
             0.4444444444444444,
             "#bd3786"
            ],
            [
             0.5555555555555556,
             "#d8576b"
            ],
            [
             0.6666666666666666,
             "#ed7953"
            ],
            [
             0.7777777777777778,
             "#fb9f3a"
            ],
            [
             0.8888888888888888,
             "#fdca26"
            ],
            [
             1,
             "#f0f921"
            ]
           ],
           "sequentialminus": [
            [
             0,
             "#0d0887"
            ],
            [
             0.1111111111111111,
             "#46039f"
            ],
            [
             0.2222222222222222,
             "#7201a8"
            ],
            [
             0.3333333333333333,
             "#9c179e"
            ],
            [
             0.4444444444444444,
             "#bd3786"
            ],
            [
             0.5555555555555556,
             "#d8576b"
            ],
            [
             0.6666666666666666,
             "#ed7953"
            ],
            [
             0.7777777777777778,
             "#fb9f3a"
            ],
            [
             0.8888888888888888,
             "#fdca26"
            ],
            [
             1,
             "#f0f921"
            ]
           ]
          },
          "colorway": [
           "#636efa",
           "#EF553B",
           "#00cc96",
           "#ab63fa",
           "#FFA15A",
           "#19d3f3",
           "#FF6692",
           "#B6E880",
           "#FF97FF",
           "#FECB52"
          ],
          "font": {
           "color": "#2a3f5f"
          },
          "geo": {
           "bgcolor": "white",
           "lakecolor": "white",
           "landcolor": "#E5ECF6",
           "showlakes": true,
           "showland": true,
           "subunitcolor": "white"
          },
          "hoverlabel": {
           "align": "left"
          },
          "hovermode": "closest",
          "mapbox": {
           "style": "light"
          },
          "paper_bgcolor": "white",
          "plot_bgcolor": "#E5ECF6",
          "polar": {
           "angularaxis": {
            "gridcolor": "white",
            "linecolor": "white",
            "ticks": ""
           },
           "bgcolor": "#E5ECF6",
           "radialaxis": {
            "gridcolor": "white",
            "linecolor": "white",
            "ticks": ""
           }
          },
          "scene": {
           "xaxis": {
            "backgroundcolor": "#E5ECF6",
            "gridcolor": "white",
            "gridwidth": 2,
            "linecolor": "white",
            "showbackground": true,
            "ticks": "",
            "zerolinecolor": "white"
           },
           "yaxis": {
            "backgroundcolor": "#E5ECF6",
            "gridcolor": "white",
            "gridwidth": 2,
            "linecolor": "white",
            "showbackground": true,
            "ticks": "",
            "zerolinecolor": "white"
           },
           "zaxis": {
            "backgroundcolor": "#E5ECF6",
            "gridcolor": "white",
            "gridwidth": 2,
            "linecolor": "white",
            "showbackground": true,
            "ticks": "",
            "zerolinecolor": "white"
           }
          },
          "shapedefaults": {
           "line": {
            "color": "#2a3f5f"
           }
          },
          "ternary": {
           "aaxis": {
            "gridcolor": "white",
            "linecolor": "white",
            "ticks": ""
           },
           "baxis": {
            "gridcolor": "white",
            "linecolor": "white",
            "ticks": ""
           },
           "bgcolor": "#E5ECF6",
           "caxis": {
            "gridcolor": "white",
            "linecolor": "white",
            "ticks": ""
           }
          },
          "title": {
           "x": 0.05
          },
          "xaxis": {
           "automargin": true,
           "gridcolor": "white",
           "linecolor": "white",
           "ticks": "",
           "zerolinecolor": "white",
           "zerolinewidth": 2
          },
          "yaxis": {
           "automargin": true,
           "gridcolor": "white",
           "linecolor": "white",
           "ticks": "",
           "zerolinecolor": "white",
           "zerolinewidth": 2
          }
         }
        },
        "xaxis": {
         "anchor": "y",
         "domain": [
          0,
          0.98
         ],
         "title": {
          "text": "post-earnings movement (%)"
         },
         "zeroline": true,
         "zerolinecolor": "LightPink",
         "zerolinewidth": 2
        },
        "yaxis": {
         "anchor": "x",
         "domain": [
          0,
          1
         ],
         "title": {
          "text": "WSB sentiment"
         },
         "zeroline": true,
         "zerolinecolor": "LightPink",
         "zerolinewidth": 2
        }
       }
      },
      "text/html": [
       "<div>\n",
       "        \n",
       "        \n",
       "            <div id=\"38aa999a-92f1-4acb-82dc-3ac648e10b52\" class=\"plotly-graph-div\" style=\"height:600px; width:100%;\"></div>\n",
       "            <script type=\"text/javascript\">\n",
       "                require([\"plotly\"], function(Plotly) {\n",
       "                    window.PLOTLYENV=window.PLOTLYENV || {};\n",
       "                    \n",
       "                if (document.getElementById(\"38aa999a-92f1-4acb-82dc-3ac648e10b52\")) {\n",
       "                    Plotly.newPlot(\n",
       "                        '38aa999a-92f1-4acb-82dc-3ac648e10b52',\n",
       "                        [{\"hoverlabel\": {\"namelength\": 0}, \"hovertemplate\": \"post-earnings movement (%)=%{x}<br>WSB sentiment=%{y}<br>ticker=%{text}\", \"legendgroup\": \"\", \"marker\": {\"color\": \"#636efa\", \"symbol\": \"circle\"}, \"mode\": \"markers+text\", \"name\": \"\", \"showlegend\": false, \"text\": [\"CHGG\", \"PRPL\", \"NVDA\", \"ETSY\", \"ATVI\", \"FSLY\", \"NET\", \"HD\", \"NIO\", \"BABA\", \"AMZN\", \"LOW\", \"CVS\", \"SQ\", \"DOCU\", \"W\", \"WMT\", \"LEVI\", \"WDFC\", \"DDOG\", \"TWLO\", \"SE\", \"JD\", \"ZNGA\", \"NFLX\", \"TGT\", \"SWBI\", \"LVGO\", \"DIS\", \"EBAY\", \"SJM\", \"WEN\", \"UPS\", \"BLNK\", \"CHWY\", \"CLX\", \"AAPL\", \"MMM\", \"BYND\", \"PTON\", \"MSFT\", \"TSCO\", \"BLK\", \"MIK\", \"GME\", \"BJ\", \"FVRR\", \"TWTR\", \"LYFT\", \"UBER\"], \"textfont\": {\"size\": 8}, \"textposition\": \"top center\", \"type\": \"scatter\", \"x\": [6.125724354323512, -11.334703021122703, -0.9970805328626632, 4.406780497857386, -2.463848847436285, -17.70106417867521, -3.119702898265941, -1.1240592704955275, -8.585505022897244, 3.0352314359090276, 3.696084156633735, 0.23430758571775057, -0.8925851047879756, 7.103706124848608, -10.640056437533884, 3.749176688579449, -1.707373570727523, -8.315253975953077, -3.2119651233607285, -16.364851691303905, -1.9911277909558878, 8.713134535748953, 7.927814815937182, -1.1916572909208862, -6.522691643487759, 12.65157640351329, -9.47571493001618, -11.39555895648588, 8.798703737973979, -3.2298106029203724, 6.8678664332630674, -5.963879896198661, 14.375811224529048, -3.883068877338094, -9.850891922766577, 2.4918083341956376, 10.468859069735103, -4.845627532224149, -6.720560673879633, -4.2279191845842234, -4.349468638738414, 0.36301503143989117, 3.661632775815924, -13.624219014585186, -15.238093878792652, 3.6437309490359526, 17.894839097520688, 4.0606390248088555, -5.373529726077993, -5.214628655531839], \"xaxis\": \"x\", \"y\": [27.008298459951018, 25.657800988634868, 21.491879609175612, 20.698344750257814, 17.649968743218402, 16.208959597263437, 14.452087387035823, 13.238545131693737, 12.924887572838696, 12.905599433054158, 12.716834267248077, 12.177673171008475, 12.079692762648273, 11.486006375618965, 11.19238956764737, 10.268130666124037, 9.95227771670556, 9.622781093820771, 9.169518377455928, 9.038840053813813, 8.589699882202986, 7.80057265467065, 7.705262474866325, 7.572502985020385, 7.534762657037537, 6.907755278982138, 6.76849321164863, 6.761572768804056, 6.684611727667928, 6.643789733147672, 6.206575926724928, 6.09432193254769, 6.068425588244111, 6.040254711277414, 5.991464547107982, 5.817111159963204, 5.801110818616762, 5.278114659230517, 5.075173815233827, 5.075173815233827, 5.043425116919247, 4.859812404361672, 4.718498871295094, 4.499809670330265, 4.382026634673881, 4.382026634673881, 4.1588830833596715, -4.68213122712422, -4.68213122712422, -7.377758908227872], \"yaxis\": \"y\"}],\n",
       "                        {\"height\": 600, \"legend\": {\"tracegroupgap\": 0}, \"margin\": {\"t\": 60}, \"template\": {\"data\": {\"bar\": [{\"error_x\": {\"color\": \"#2a3f5f\"}, \"error_y\": {\"color\": \"#2a3f5f\"}, \"marker\": {\"line\": {\"color\": \"#E5ECF6\", \"width\": 0.5}}, \"type\": \"bar\"}], \"barpolar\": [{\"marker\": {\"line\": {\"color\": \"#E5ECF6\", \"width\": 0.5}}, \"type\": \"barpolar\"}], \"carpet\": [{\"aaxis\": {\"endlinecolor\": \"#2a3f5f\", \"gridcolor\": \"white\", \"linecolor\": \"white\", \"minorgridcolor\": \"white\", \"startlinecolor\": \"#2a3f5f\"}, \"baxis\": {\"endlinecolor\": \"#2a3f5f\", \"gridcolor\": \"white\", \"linecolor\": \"white\", \"minorgridcolor\": \"white\", \"startlinecolor\": \"#2a3f5f\"}, \"type\": \"carpet\"}], \"choropleth\": [{\"colorbar\": {\"outlinewidth\": 0, \"ticks\": \"\"}, \"type\": \"choropleth\"}], \"contour\": [{\"colorbar\": {\"outlinewidth\": 0, \"ticks\": \"\"}, \"colorscale\": [[0.0, \"#0d0887\"], [0.1111111111111111, \"#46039f\"], [0.2222222222222222, \"#7201a8\"], [0.3333333333333333, \"#9c179e\"], [0.4444444444444444, \"#bd3786\"], [0.5555555555555556, \"#d8576b\"], [0.6666666666666666, \"#ed7953\"], [0.7777777777777778, \"#fb9f3a\"], [0.8888888888888888, \"#fdca26\"], [1.0, \"#f0f921\"]], \"type\": \"contour\"}], \"contourcarpet\": [{\"colorbar\": {\"outlinewidth\": 0, \"ticks\": \"\"}, \"type\": \"contourcarpet\"}], \"heatmap\": [{\"colorbar\": {\"outlinewidth\": 0, \"ticks\": \"\"}, \"colorscale\": [[0.0, \"#0d0887\"], [0.1111111111111111, \"#46039f\"], [0.2222222222222222, \"#7201a8\"], [0.3333333333333333, \"#9c179e\"], [0.4444444444444444, \"#bd3786\"], [0.5555555555555556, \"#d8576b\"], [0.6666666666666666, \"#ed7953\"], [0.7777777777777778, \"#fb9f3a\"], [0.8888888888888888, \"#fdca26\"], [1.0, \"#f0f921\"]], \"type\": \"heatmap\"}], \"heatmapgl\": [{\"colorbar\": {\"outlinewidth\": 0, \"ticks\": \"\"}, \"colorscale\": [[0.0, \"#0d0887\"], [0.1111111111111111, \"#46039f\"], [0.2222222222222222, \"#7201a8\"], [0.3333333333333333, \"#9c179e\"], [0.4444444444444444, \"#bd3786\"], [0.5555555555555556, \"#d8576b\"], [0.6666666666666666, \"#ed7953\"], [0.7777777777777778, \"#fb9f3a\"], [0.8888888888888888, \"#fdca26\"], [1.0, \"#f0f921\"]], \"type\": \"heatmapgl\"}], \"histogram\": [{\"marker\": {\"colorbar\": {\"outlinewidth\": 0, \"ticks\": \"\"}}, \"type\": \"histogram\"}], \"histogram2d\": [{\"colorbar\": {\"outlinewidth\": 0, \"ticks\": \"\"}, \"colorscale\": [[0.0, \"#0d0887\"], [0.1111111111111111, \"#46039f\"], [0.2222222222222222, \"#7201a8\"], [0.3333333333333333, \"#9c179e\"], [0.4444444444444444, \"#bd3786\"], [0.5555555555555556, \"#d8576b\"], [0.6666666666666666, \"#ed7953\"], [0.7777777777777778, \"#fb9f3a\"], [0.8888888888888888, \"#fdca26\"], [1.0, \"#f0f921\"]], \"type\": \"histogram2d\"}], \"histogram2dcontour\": [{\"colorbar\": {\"outlinewidth\": 0, \"ticks\": \"\"}, \"colorscale\": [[0.0, \"#0d0887\"], [0.1111111111111111, \"#46039f\"], [0.2222222222222222, \"#7201a8\"], [0.3333333333333333, \"#9c179e\"], [0.4444444444444444, \"#bd3786\"], [0.5555555555555556, \"#d8576b\"], [0.6666666666666666, \"#ed7953\"], [0.7777777777777778, \"#fb9f3a\"], [0.8888888888888888, \"#fdca26\"], [1.0, \"#f0f921\"]], \"type\": \"histogram2dcontour\"}], \"mesh3d\": [{\"colorbar\": {\"outlinewidth\": 0, \"ticks\": \"\"}, \"type\": \"mesh3d\"}], \"parcoords\": [{\"line\": {\"colorbar\": {\"outlinewidth\": 0, \"ticks\": \"\"}}, \"type\": \"parcoords\"}], \"scatter\": [{\"marker\": {\"colorbar\": {\"outlinewidth\": 0, \"ticks\": \"\"}}, \"type\": \"scatter\"}], \"scatter3d\": [{\"line\": {\"colorbar\": {\"outlinewidth\": 0, \"ticks\": \"\"}}, \"marker\": {\"colorbar\": {\"outlinewidth\": 0, \"ticks\": \"\"}}, \"type\": \"scatter3d\"}], \"scattercarpet\": [{\"marker\": {\"colorbar\": {\"outlinewidth\": 0, \"ticks\": \"\"}}, \"type\": \"scattercarpet\"}], \"scattergeo\": [{\"marker\": {\"colorbar\": {\"outlinewidth\": 0, \"ticks\": \"\"}}, \"type\": \"scattergeo\"}], \"scattergl\": [{\"marker\": {\"colorbar\": {\"outlinewidth\": 0, \"ticks\": \"\"}}, \"type\": \"scattergl\"}], \"scattermapbox\": [{\"marker\": {\"colorbar\": {\"outlinewidth\": 0, \"ticks\": \"\"}}, \"type\": \"scattermapbox\"}], \"scatterpolar\": [{\"marker\": {\"colorbar\": {\"outlinewidth\": 0, \"ticks\": \"\"}}, \"type\": \"scatterpolar\"}], \"scatterpolargl\": [{\"marker\": {\"colorbar\": {\"outlinewidth\": 0, \"ticks\": \"\"}}, \"type\": \"scatterpolargl\"}], \"scatterternary\": [{\"marker\": {\"colorbar\": {\"outlinewidth\": 0, \"ticks\": \"\"}}, \"type\": \"scatterternary\"}], \"surface\": [{\"colorbar\": {\"outlinewidth\": 0, \"ticks\": \"\"}, \"colorscale\": [[0.0, \"#0d0887\"], [0.1111111111111111, \"#46039f\"], [0.2222222222222222, \"#7201a8\"], [0.3333333333333333, \"#9c179e\"], [0.4444444444444444, \"#bd3786\"], [0.5555555555555556, \"#d8576b\"], [0.6666666666666666, \"#ed7953\"], [0.7777777777777778, \"#fb9f3a\"], [0.8888888888888888, \"#fdca26\"], [1.0, \"#f0f921\"]], \"type\": \"surface\"}], \"table\": [{\"cells\": {\"fill\": {\"color\": \"#EBF0F8\"}, \"line\": {\"color\": \"white\"}}, \"header\": {\"fill\": {\"color\": \"#C8D4E3\"}, \"line\": {\"color\": \"white\"}}, \"type\": \"table\"}]}, \"layout\": {\"annotationdefaults\": {\"arrowcolor\": \"#2a3f5f\", \"arrowhead\": 0, \"arrowwidth\": 1}, \"colorscale\": {\"diverging\": [[0, \"#8e0152\"], [0.1, \"#c51b7d\"], [0.2, \"#de77ae\"], [0.3, \"#f1b6da\"], [0.4, \"#fde0ef\"], [0.5, \"#f7f7f7\"], [0.6, \"#e6f5d0\"], [0.7, \"#b8e186\"], [0.8, \"#7fbc41\"], [0.9, \"#4d9221\"], [1, \"#276419\"]], \"sequential\": [[0.0, \"#0d0887\"], [0.1111111111111111, \"#46039f\"], [0.2222222222222222, \"#7201a8\"], [0.3333333333333333, \"#9c179e\"], [0.4444444444444444, \"#bd3786\"], [0.5555555555555556, \"#d8576b\"], [0.6666666666666666, \"#ed7953\"], [0.7777777777777778, \"#fb9f3a\"], [0.8888888888888888, \"#fdca26\"], [1.0, \"#f0f921\"]], \"sequentialminus\": [[0.0, \"#0d0887\"], [0.1111111111111111, \"#46039f\"], [0.2222222222222222, \"#7201a8\"], [0.3333333333333333, \"#9c179e\"], [0.4444444444444444, \"#bd3786\"], [0.5555555555555556, \"#d8576b\"], [0.6666666666666666, \"#ed7953\"], [0.7777777777777778, \"#fb9f3a\"], [0.8888888888888888, \"#fdca26\"], [1.0, \"#f0f921\"]]}, \"colorway\": [\"#636efa\", \"#EF553B\", \"#00cc96\", \"#ab63fa\", \"#FFA15A\", \"#19d3f3\", \"#FF6692\", \"#B6E880\", \"#FF97FF\", \"#FECB52\"], \"font\": {\"color\": \"#2a3f5f\"}, \"geo\": {\"bgcolor\": \"white\", \"lakecolor\": \"white\", \"landcolor\": \"#E5ECF6\", \"showlakes\": true, \"showland\": true, \"subunitcolor\": \"white\"}, \"hoverlabel\": {\"align\": \"left\"}, \"hovermode\": \"closest\", \"mapbox\": {\"style\": \"light\"}, \"paper_bgcolor\": \"white\", \"plot_bgcolor\": \"#E5ECF6\", \"polar\": {\"angularaxis\": {\"gridcolor\": \"white\", \"linecolor\": \"white\", \"ticks\": \"\"}, \"bgcolor\": \"#E5ECF6\", \"radialaxis\": {\"gridcolor\": \"white\", \"linecolor\": \"white\", \"ticks\": \"\"}}, \"scene\": {\"xaxis\": {\"backgroundcolor\": \"#E5ECF6\", \"gridcolor\": \"white\", \"gridwidth\": 2, \"linecolor\": \"white\", \"showbackground\": true, \"ticks\": \"\", \"zerolinecolor\": \"white\"}, \"yaxis\": {\"backgroundcolor\": \"#E5ECF6\", \"gridcolor\": \"white\", \"gridwidth\": 2, \"linecolor\": \"white\", \"showbackground\": true, \"ticks\": \"\", \"zerolinecolor\": \"white\"}, \"zaxis\": {\"backgroundcolor\": \"#E5ECF6\", \"gridcolor\": \"white\", \"gridwidth\": 2, \"linecolor\": \"white\", \"showbackground\": true, \"ticks\": \"\", \"zerolinecolor\": \"white\"}}, \"shapedefaults\": {\"line\": {\"color\": \"#2a3f5f\"}}, \"ternary\": {\"aaxis\": {\"gridcolor\": \"white\", \"linecolor\": \"white\", \"ticks\": \"\"}, \"baxis\": {\"gridcolor\": \"white\", \"linecolor\": \"white\", \"ticks\": \"\"}, \"bgcolor\": \"#E5ECF6\", \"caxis\": {\"gridcolor\": \"white\", \"linecolor\": \"white\", \"ticks\": \"\"}}, \"title\": {\"x\": 0.05}, \"xaxis\": {\"automargin\": true, \"gridcolor\": \"white\", \"linecolor\": \"white\", \"ticks\": \"\", \"zerolinecolor\": \"white\", \"zerolinewidth\": 2}, \"yaxis\": {\"automargin\": true, \"gridcolor\": \"white\", \"linecolor\": \"white\", \"ticks\": \"\", \"zerolinecolor\": \"white\", \"zerolinewidth\": 2}}}, \"xaxis\": {\"anchor\": \"y\", \"domain\": [0.0, 0.98], \"title\": {\"text\": \"post-earnings movement (%)\"}, \"zeroline\": true, \"zerolinecolor\": \"LightPink\", \"zerolinewidth\": 2}, \"yaxis\": {\"anchor\": \"x\", \"domain\": [0.0, 1.0], \"title\": {\"text\": \"WSB sentiment\"}, \"zeroline\": true, \"zerolinecolor\": \"LightPink\", \"zerolinewidth\": 2}},\n",
       "                        {\"responsive\": true}\n",
       "                    ).then(function(){\n",
       "                            \n",
       "var gd = document.getElementById('38aa999a-92f1-4acb-82dc-3ac648e10b52');\n",
       "var x = new MutationObserver(function (mutations, observer) {{\n",
       "        var display = window.getComputedStyle(gd).display;\n",
       "        if (!display || display === 'none') {{\n",
       "            console.log([gd, 'removed!']);\n",
       "            Plotly.purge(gd);\n",
       "            observer.disconnect();\n",
       "        }}\n",
       "}});\n",
       "\n",
       "// Listen for the removal of the full notebook cells\n",
       "var notebookContainer = gd.closest('#notebook-container');\n",
       "if (notebookContainer) {{\n",
       "    x.observe(notebookContainer, {childList: true});\n",
       "}}\n",
       "\n",
       "// Listen for the clearing of the current output cell\n",
       "var outputEl = gd.closest('.output');\n",
       "if (outputEl) {{\n",
       "    x.observe(outputEl, {childList: true});\n",
       "}}\n",
       "\n",
       "                        })\n",
       "                };\n",
       "                });\n",
       "            </script>\n",
       "        </div>"
      ]
     },
     "metadata": {},
     "output_type": "display_data"
    }
   ],
   "source": [
    "fig = px.scatter(data, x='earnings movement', y='WSB sentiment', text='ticker',\n",
    "                labels = {'earnings movement': 'post-earnings movement (%)'})\n",
    "fig.update_traces(textposition='top center', textfont_size=8)\n",
    "fig.update_xaxes(zeroline=True, zerolinewidth=2, zerolinecolor='LightPink')\n",
    "fig.update_yaxes(zeroline=True, zerolinewidth=2, zerolinecolor='LightPink')\n",
    "\n",
    "fig.show()"
   ]
  },
  {
   "cell_type": "code",
   "execution_count": 117,
   "metadata": {},
   "outputs": [
    {
     "data": {
      "text/plain": [
       "(-0.03988336845232457, 0.7833205715691258)"
      ]
     },
     "execution_count": 117,
     "metadata": {},
     "output_type": "execute_result"
    }
   ],
   "source": [
    "stats.pearsonr(data['earnings movement'], data['WSB sentiment'])"
   ]
  },
  {
   "cell_type": "markdown",
   "metadata": {},
   "source": [
    "#### Weighted portfolio\n",
    "\n",
    "Let's say you made a weighted portfolio, weighted based upon the confidence of WSB investors. How would you have performed?"
   ]
  },
  {
   "cell_type": "code",
   "execution_count": 100,
   "metadata": {},
   "outputs": [],
   "source": [
    "data['weight'] = data['WSB sentiment']/sum(data['WSB sentiment'])"
   ]
  },
  {
   "cell_type": "code",
   "execution_count": 102,
   "metadata": {},
   "outputs": [
    {
     "data": {
      "text/plain": [
       "-1.6195161623652372"
      ]
     },
     "execution_count": 102,
     "metadata": {},
     "output_type": "execute_result"
    }
   ],
   "source": [
    "portfolio_performance = data['earnings movement'].dot(data['weight'])\n",
    "portfolio_performance"
   ]
  }
 ],
 "metadata": {
  "kernelspec": {
   "display_name": "Python 3",
   "language": "python",
   "name": "python3"
  },
  "language_info": {
   "codemirror_mode": {
    "name": "ipython",
    "version": 3
   },
   "file_extension": ".py",
   "mimetype": "text/x-python",
   "name": "python",
   "nbconvert_exporter": "python",
   "pygments_lexer": "ipython3",
   "version": "3.7.6"
  }
 },
 "nbformat": 4,
 "nbformat_minor": 4
}
